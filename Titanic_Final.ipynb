{
  "nbformat": 4,
  "nbformat_minor": 0,
  "metadata": {
    "kernelspec": {
      "display_name": "Python 3",
      "language": "python",
      "name": "python3"
    },
    "language_info": {
      "codemirror_mode": {
        "name": "ipython",
        "version": 3
      },
      "file_extension": ".py",
      "mimetype": "text/x-python",
      "name": "python",
      "nbconvert_exporter": "python",
      "pygments_lexer": "ipython3",
      "version": "3.7.6"
    },
    "colab": {
      "name": "Titanic_Final.ipynb",
      "provenance": [],
      "collapsed_sections": [
        "rdCvAhNKuTM0",
        "RNYXceZYuTNR",
        "kh2OKKVUuTNR",
        "OaQKEMPIuTNl",
        "9JVxcUDEuTNr",
        "H0R_e1xwuTN7",
        "wdErayCJuTO8",
        "urNvUsGUuTQP",
        "OPUoSknfuTTG",
        "ww5iQ4GsuTTo",
        "BdXqZ9tLuTVN",
        "Rngkmjh1uTVg",
        "nz6mrlDluTVt",
        "UInXNYz6uTVx",
        "yMyrFHUXuTV0",
        "OK7Q0SlUuTV8",
        "ej_Y_Q2FuTWL",
        "7ImDlAbbuTWY",
        "tLv380YGuTWm",
        "dN1-oaKAuTWv",
        "hjKMW69EuTW8"
      ],
      "include_colab_link": true
    }
  },
  "cells": [
    {
      "cell_type": "markdown",
      "metadata": {
        "id": "view-in-github",
        "colab_type": "text"
      },
      "source": [
        "<a href=\"https://colab.research.google.com/github/kartiks1002011/hello-world/blob/master/Titanic_Final.ipynb\" target=\"_parent\"><img src=\"https://colab.research.google.com/assets/colab-badge.svg\" alt=\"Open In Colab\"/></a>"
      ]
    },
    {
      "cell_type": "code",
      "metadata": {
        "id": "mtm_OrLHuTLD",
        "colab_type": "code",
        "colab": {}
      },
      "source": [
        "import numpy as np\n",
        "import pandas as pd\n",
        "import matplotlib.pyplot as plt\n",
        "%matplotlib inline\n",
        "import seaborn as sns"
      ],
      "execution_count": null,
      "outputs": []
    },
    {
      "cell_type": "code",
      "metadata": {
        "id": "BcZK2Na5uTLS",
        "colab_type": "code",
        "colab": {}
      },
      "source": [
        "titanic = pd.read_csv('TITANIC.csv')"
      ],
      "execution_count": null,
      "outputs": []
    },
    {
      "cell_type": "code",
      "metadata": {
        "id": "Uyj3eSEYuTLc",
        "colab_type": "code",
        "colab": {},
        "outputId": "4e53bda4-44e8-4b1a-ae98-e44c50c0b2db"
      },
      "source": [
        "titanic.head()"
      ],
      "execution_count": null,
      "outputs": [
        {
          "output_type": "execute_result",
          "data": {
            "text/html": [
              "<div>\n",
              "<style scoped>\n",
              "    .dataframe tbody tr th:only-of-type {\n",
              "        vertical-align: middle;\n",
              "    }\n",
              "\n",
              "    .dataframe tbody tr th {\n",
              "        vertical-align: top;\n",
              "    }\n",
              "\n",
              "    .dataframe thead th {\n",
              "        text-align: right;\n",
              "    }\n",
              "</style>\n",
              "<table border=\"1\" class=\"dataframe\">\n",
              "  <thead>\n",
              "    <tr style=\"text-align: right;\">\n",
              "      <th></th>\n",
              "      <th>PassengerId</th>\n",
              "      <th>Survived</th>\n",
              "      <th>Pclass</th>\n",
              "      <th>Name</th>\n",
              "      <th>Sex</th>\n",
              "      <th>Age</th>\n",
              "      <th>SibSp</th>\n",
              "      <th>Parch</th>\n",
              "      <th>Ticket</th>\n",
              "      <th>Fare</th>\n",
              "      <th>Cabin</th>\n",
              "      <th>Embarked</th>\n",
              "    </tr>\n",
              "  </thead>\n",
              "  <tbody>\n",
              "    <tr>\n",
              "      <th>0</th>\n",
              "      <td>1</td>\n",
              "      <td>0</td>\n",
              "      <td>3</td>\n",
              "      <td>Braund, Mr. Owen Harris</td>\n",
              "      <td>male</td>\n",
              "      <td>22.0</td>\n",
              "      <td>1</td>\n",
              "      <td>0</td>\n",
              "      <td>A/5 21171</td>\n",
              "      <td>7.2500</td>\n",
              "      <td>NaN</td>\n",
              "      <td>S</td>\n",
              "    </tr>\n",
              "    <tr>\n",
              "      <th>1</th>\n",
              "      <td>2</td>\n",
              "      <td>1</td>\n",
              "      <td>1</td>\n",
              "      <td>Cumings, Mrs. John Bradley (Florence Briggs Th...</td>\n",
              "      <td>female</td>\n",
              "      <td>38.0</td>\n",
              "      <td>1</td>\n",
              "      <td>0</td>\n",
              "      <td>PC 17599</td>\n",
              "      <td>71.2833</td>\n",
              "      <td>C85</td>\n",
              "      <td>C</td>\n",
              "    </tr>\n",
              "    <tr>\n",
              "      <th>2</th>\n",
              "      <td>3</td>\n",
              "      <td>1</td>\n",
              "      <td>3</td>\n",
              "      <td>Heikkinen, Miss. Laina</td>\n",
              "      <td>female</td>\n",
              "      <td>26.0</td>\n",
              "      <td>0</td>\n",
              "      <td>0</td>\n",
              "      <td>STON/O2. 3101282</td>\n",
              "      <td>7.9250</td>\n",
              "      <td>NaN</td>\n",
              "      <td>S</td>\n",
              "    </tr>\n",
              "    <tr>\n",
              "      <th>3</th>\n",
              "      <td>4</td>\n",
              "      <td>1</td>\n",
              "      <td>1</td>\n",
              "      <td>Futrelle, Mrs. Jacques Heath (Lily May Peel)</td>\n",
              "      <td>female</td>\n",
              "      <td>35.0</td>\n",
              "      <td>1</td>\n",
              "      <td>0</td>\n",
              "      <td>113803</td>\n",
              "      <td>53.1000</td>\n",
              "      <td>C123</td>\n",
              "      <td>S</td>\n",
              "    </tr>\n",
              "    <tr>\n",
              "      <th>4</th>\n",
              "      <td>5</td>\n",
              "      <td>0</td>\n",
              "      <td>3</td>\n",
              "      <td>Allen, Mr. William Henry</td>\n",
              "      <td>male</td>\n",
              "      <td>35.0</td>\n",
              "      <td>0</td>\n",
              "      <td>0</td>\n",
              "      <td>373450</td>\n",
              "      <td>8.0500</td>\n",
              "      <td>NaN</td>\n",
              "      <td>S</td>\n",
              "    </tr>\n",
              "  </tbody>\n",
              "</table>\n",
              "</div>"
            ],
            "text/plain": [
              "   PassengerId  Survived  Pclass  \\\n",
              "0            1         0       3   \n",
              "1            2         1       1   \n",
              "2            3         1       3   \n",
              "3            4         1       1   \n",
              "4            5         0       3   \n",
              "\n",
              "                                                Name     Sex   Age  SibSp  \\\n",
              "0                            Braund, Mr. Owen Harris    male  22.0      1   \n",
              "1  Cumings, Mrs. John Bradley (Florence Briggs Th...  female  38.0      1   \n",
              "2                             Heikkinen, Miss. Laina  female  26.0      0   \n",
              "3       Futrelle, Mrs. Jacques Heath (Lily May Peel)  female  35.0      1   \n",
              "4                           Allen, Mr. William Henry    male  35.0      0   \n",
              "\n",
              "   Parch            Ticket     Fare Cabin Embarked  \n",
              "0      0         A/5 21171   7.2500   NaN        S  \n",
              "1      0          PC 17599  71.2833   C85        C  \n",
              "2      0  STON/O2. 3101282   7.9250   NaN        S  \n",
              "3      0            113803  53.1000  C123        S  \n",
              "4      0            373450   8.0500   NaN        S  "
            ]
          },
          "metadata": {
            "tags": []
          },
          "execution_count": 3
        }
      ]
    },
    {
      "cell_type": "markdown",
      "metadata": {
        "id": "jal0pebfuTLk",
        "colab_type": "text"
      },
      "source": [
        "### 1. Variable Identification"
      ]
    },
    {
      "cell_type": "markdown",
      "metadata": {
        "id": "GXluowkkuTLl",
        "colab_type": "text"
      },
      "source": [
        "#### Dependent Variable:\n"
      ]
    },
    {
      "cell_type": "markdown",
      "metadata": {
        "id": "uLKx7VGbuTLm",
        "colab_type": "text"
      },
      "source": [
        "1. survived"
      ]
    },
    {
      "cell_type": "markdown",
      "metadata": {
        "id": "uxm3H5vCuTLx",
        "colab_type": "text"
      },
      "source": [
        "#### Independent Variable/Predictor variable:\n",
        "1. passengerId\n",
        "2. pclass\n",
        "3. sex\n",
        "4. age\n",
        "5. sibsp\n",
        "6. parch\n",
        "7. Ticket\n",
        "8. Fare\n",
        "9. Cabin\n",
        "10. Embarked\n",
        "    "
      ]
    },
    {
      "cell_type": "markdown",
      "metadata": {
        "id": "xebMd5IpuTLz",
        "colab_type": "text"
      },
      "source": [
        "#### Data Types:\n",
        "##### String:\n",
        "1. Name\n",
        "2. Sex\n",
        "3. Ticket\n",
        "4. Cabin\n",
        "5. Embarked\n",
        "##### Numeric:\n",
        "\n",
        "1. PassengerId\n",
        "2. Survived\n",
        "3. Pclass\n",
        "4. Age\n",
        "5. SibSp\n",
        "6. Parch\n",
        "7. Fare\n"
      ]
    },
    {
      "cell_type": "markdown",
      "metadata": {
        "id": "O5GujYRLuTL0",
        "colab_type": "text"
      },
      "source": [
        "#### Variable Category:\n",
        "##### Categorical:\n",
        "1. Survived\n",
        "2. Pclass\n",
        "3. Sex\n",
        "4. Ticket\n",
        "5. Cabin\n",
        "6. Embarked\n",
        "##### Continuous:\n",
        "1. Age\n",
        "2. Fare\n",
        "##### Discrete:\n",
        "1. SibSp\n",
        "2. Parch"
      ]
    },
    {
      "cell_type": "markdown",
      "metadata": {
        "id": "rJDBM7VeuTL4",
        "colab_type": "text"
      },
      "source": [
        "### 2. Categorical Variables - Univariate Analysis"
      ]
    },
    {
      "cell_type": "code",
      "metadata": {
        "id": "uFIr4niNuTMA",
        "colab_type": "code",
        "colab": {},
        "outputId": "04037314-b7d7-4e6e-f14a-8a001ed5f1a6"
      },
      "source": [
        "titanic.info()"
      ],
      "execution_count": null,
      "outputs": [
        {
          "output_type": "stream",
          "text": [
            "<class 'pandas.core.frame.DataFrame'>\n",
            "RangeIndex: 891 entries, 0 to 890\n",
            "Data columns (total 12 columns):\n",
            " #   Column       Non-Null Count  Dtype  \n",
            "---  ------       --------------  -----  \n",
            " 0   PassengerId  891 non-null    int64  \n",
            " 1   Survived     891 non-null    int64  \n",
            " 2   Pclass       891 non-null    int64  \n",
            " 3   Name         891 non-null    object \n",
            " 4   Sex          891 non-null    object \n",
            " 5   Age          714 non-null    float64\n",
            " 6   SibSp        891 non-null    int64  \n",
            " 7   Parch        891 non-null    int64  \n",
            " 8   Ticket       891 non-null    object \n",
            " 9   Fare         891 non-null    float64\n",
            " 10  Cabin        204 non-null    object \n",
            " 11  Embarked     889 non-null    object \n",
            "dtypes: float64(2), int64(5), object(5)\n",
            "memory usage: 83.7+ KB\n"
          ],
          "name": "stdout"
        }
      ]
    },
    {
      "cell_type": "code",
      "metadata": {
        "id": "e7GurixMuTMJ",
        "colab_type": "code",
        "colab": {},
        "outputId": "aa02f5a9-b7e9-412b-8fb5-3b2331ec2f6d"
      },
      "source": [
        "titanic.describe(include='all')"
      ],
      "execution_count": null,
      "outputs": [
        {
          "output_type": "execute_result",
          "data": {
            "text/html": [
              "<div>\n",
              "<style scoped>\n",
              "    .dataframe tbody tr th:only-of-type {\n",
              "        vertical-align: middle;\n",
              "    }\n",
              "\n",
              "    .dataframe tbody tr th {\n",
              "        vertical-align: top;\n",
              "    }\n",
              "\n",
              "    .dataframe thead th {\n",
              "        text-align: right;\n",
              "    }\n",
              "</style>\n",
              "<table border=\"1\" class=\"dataframe\">\n",
              "  <thead>\n",
              "    <tr style=\"text-align: right;\">\n",
              "      <th></th>\n",
              "      <th>PassengerId</th>\n",
              "      <th>Survived</th>\n",
              "      <th>Pclass</th>\n",
              "      <th>Name</th>\n",
              "      <th>Sex</th>\n",
              "      <th>Age</th>\n",
              "      <th>SibSp</th>\n",
              "      <th>Parch</th>\n",
              "      <th>Ticket</th>\n",
              "      <th>Fare</th>\n",
              "      <th>Cabin</th>\n",
              "      <th>Embarked</th>\n",
              "    </tr>\n",
              "  </thead>\n",
              "  <tbody>\n",
              "    <tr>\n",
              "      <th>count</th>\n",
              "      <td>891.000000</td>\n",
              "      <td>891.000000</td>\n",
              "      <td>891.000000</td>\n",
              "      <td>891</td>\n",
              "      <td>891</td>\n",
              "      <td>714.000000</td>\n",
              "      <td>891.000000</td>\n",
              "      <td>891.000000</td>\n",
              "      <td>891</td>\n",
              "      <td>891.000000</td>\n",
              "      <td>204</td>\n",
              "      <td>889</td>\n",
              "    </tr>\n",
              "    <tr>\n",
              "      <th>unique</th>\n",
              "      <td>NaN</td>\n",
              "      <td>NaN</td>\n",
              "      <td>NaN</td>\n",
              "      <td>891</td>\n",
              "      <td>2</td>\n",
              "      <td>NaN</td>\n",
              "      <td>NaN</td>\n",
              "      <td>NaN</td>\n",
              "      <td>681</td>\n",
              "      <td>NaN</td>\n",
              "      <td>147</td>\n",
              "      <td>3</td>\n",
              "    </tr>\n",
              "    <tr>\n",
              "      <th>top</th>\n",
              "      <td>NaN</td>\n",
              "      <td>NaN</td>\n",
              "      <td>NaN</td>\n",
              "      <td>Ryerson, Miss. Susan Parker \"Suzette\"</td>\n",
              "      <td>male</td>\n",
              "      <td>NaN</td>\n",
              "      <td>NaN</td>\n",
              "      <td>NaN</td>\n",
              "      <td>1601</td>\n",
              "      <td>NaN</td>\n",
              "      <td>C23 C25 C27</td>\n",
              "      <td>S</td>\n",
              "    </tr>\n",
              "    <tr>\n",
              "      <th>freq</th>\n",
              "      <td>NaN</td>\n",
              "      <td>NaN</td>\n",
              "      <td>NaN</td>\n",
              "      <td>1</td>\n",
              "      <td>577</td>\n",
              "      <td>NaN</td>\n",
              "      <td>NaN</td>\n",
              "      <td>NaN</td>\n",
              "      <td>7</td>\n",
              "      <td>NaN</td>\n",
              "      <td>4</td>\n",
              "      <td>644</td>\n",
              "    </tr>\n",
              "    <tr>\n",
              "      <th>mean</th>\n",
              "      <td>446.000000</td>\n",
              "      <td>0.383838</td>\n",
              "      <td>2.308642</td>\n",
              "      <td>NaN</td>\n",
              "      <td>NaN</td>\n",
              "      <td>29.699118</td>\n",
              "      <td>0.523008</td>\n",
              "      <td>0.381594</td>\n",
              "      <td>NaN</td>\n",
              "      <td>32.204208</td>\n",
              "      <td>NaN</td>\n",
              "      <td>NaN</td>\n",
              "    </tr>\n",
              "    <tr>\n",
              "      <th>std</th>\n",
              "      <td>257.353842</td>\n",
              "      <td>0.486592</td>\n",
              "      <td>0.836071</td>\n",
              "      <td>NaN</td>\n",
              "      <td>NaN</td>\n",
              "      <td>14.526497</td>\n",
              "      <td>1.102743</td>\n",
              "      <td>0.806057</td>\n",
              "      <td>NaN</td>\n",
              "      <td>49.693429</td>\n",
              "      <td>NaN</td>\n",
              "      <td>NaN</td>\n",
              "    </tr>\n",
              "    <tr>\n",
              "      <th>min</th>\n",
              "      <td>1.000000</td>\n",
              "      <td>0.000000</td>\n",
              "      <td>1.000000</td>\n",
              "      <td>NaN</td>\n",
              "      <td>NaN</td>\n",
              "      <td>0.420000</td>\n",
              "      <td>0.000000</td>\n",
              "      <td>0.000000</td>\n",
              "      <td>NaN</td>\n",
              "      <td>0.000000</td>\n",
              "      <td>NaN</td>\n",
              "      <td>NaN</td>\n",
              "    </tr>\n",
              "    <tr>\n",
              "      <th>25%</th>\n",
              "      <td>223.500000</td>\n",
              "      <td>0.000000</td>\n",
              "      <td>2.000000</td>\n",
              "      <td>NaN</td>\n",
              "      <td>NaN</td>\n",
              "      <td>20.125000</td>\n",
              "      <td>0.000000</td>\n",
              "      <td>0.000000</td>\n",
              "      <td>NaN</td>\n",
              "      <td>7.910400</td>\n",
              "      <td>NaN</td>\n",
              "      <td>NaN</td>\n",
              "    </tr>\n",
              "    <tr>\n",
              "      <th>50%</th>\n",
              "      <td>446.000000</td>\n",
              "      <td>0.000000</td>\n",
              "      <td>3.000000</td>\n",
              "      <td>NaN</td>\n",
              "      <td>NaN</td>\n",
              "      <td>28.000000</td>\n",
              "      <td>0.000000</td>\n",
              "      <td>0.000000</td>\n",
              "      <td>NaN</td>\n",
              "      <td>14.454200</td>\n",
              "      <td>NaN</td>\n",
              "      <td>NaN</td>\n",
              "    </tr>\n",
              "    <tr>\n",
              "      <th>75%</th>\n",
              "      <td>668.500000</td>\n",
              "      <td>1.000000</td>\n",
              "      <td>3.000000</td>\n",
              "      <td>NaN</td>\n",
              "      <td>NaN</td>\n",
              "      <td>38.000000</td>\n",
              "      <td>1.000000</td>\n",
              "      <td>0.000000</td>\n",
              "      <td>NaN</td>\n",
              "      <td>31.000000</td>\n",
              "      <td>NaN</td>\n",
              "      <td>NaN</td>\n",
              "    </tr>\n",
              "    <tr>\n",
              "      <th>max</th>\n",
              "      <td>891.000000</td>\n",
              "      <td>1.000000</td>\n",
              "      <td>3.000000</td>\n",
              "      <td>NaN</td>\n",
              "      <td>NaN</td>\n",
              "      <td>80.000000</td>\n",
              "      <td>8.000000</td>\n",
              "      <td>6.000000</td>\n",
              "      <td>NaN</td>\n",
              "      <td>512.329200</td>\n",
              "      <td>NaN</td>\n",
              "      <td>NaN</td>\n",
              "    </tr>\n",
              "  </tbody>\n",
              "</table>\n",
              "</div>"
            ],
            "text/plain": [
              "        PassengerId    Survived      Pclass  \\\n",
              "count    891.000000  891.000000  891.000000   \n",
              "unique          NaN         NaN         NaN   \n",
              "top             NaN         NaN         NaN   \n",
              "freq            NaN         NaN         NaN   \n",
              "mean     446.000000    0.383838    2.308642   \n",
              "std      257.353842    0.486592    0.836071   \n",
              "min        1.000000    0.000000    1.000000   \n",
              "25%      223.500000    0.000000    2.000000   \n",
              "50%      446.000000    0.000000    3.000000   \n",
              "75%      668.500000    1.000000    3.000000   \n",
              "max      891.000000    1.000000    3.000000   \n",
              "\n",
              "                                         Name   Sex         Age       SibSp  \\\n",
              "count                                     891   891  714.000000  891.000000   \n",
              "unique                                    891     2         NaN         NaN   \n",
              "top     Ryerson, Miss. Susan Parker \"Suzette\"  male         NaN         NaN   \n",
              "freq                                        1   577         NaN         NaN   \n",
              "mean                                      NaN   NaN   29.699118    0.523008   \n",
              "std                                       NaN   NaN   14.526497    1.102743   \n",
              "min                                       NaN   NaN    0.420000    0.000000   \n",
              "25%                                       NaN   NaN   20.125000    0.000000   \n",
              "50%                                       NaN   NaN   28.000000    0.000000   \n",
              "75%                                       NaN   NaN   38.000000    1.000000   \n",
              "max                                       NaN   NaN   80.000000    8.000000   \n",
              "\n",
              "             Parch Ticket        Fare        Cabin Embarked  \n",
              "count   891.000000    891  891.000000          204      889  \n",
              "unique         NaN    681         NaN          147        3  \n",
              "top            NaN   1601         NaN  C23 C25 C27        S  \n",
              "freq           NaN      7         NaN            4      644  \n",
              "mean      0.381594    NaN   32.204208          NaN      NaN  \n",
              "std       0.806057    NaN   49.693429          NaN      NaN  \n",
              "min       0.000000    NaN    0.000000          NaN      NaN  \n",
              "25%       0.000000    NaN    7.910400          NaN      NaN  \n",
              "50%       0.000000    NaN   14.454200          NaN      NaN  \n",
              "75%       0.000000    NaN   31.000000          NaN      NaN  \n",
              "max       6.000000    NaN  512.329200          NaN      NaN  "
            ]
          },
          "metadata": {
            "tags": []
          },
          "execution_count": 5
        }
      ]
    },
    {
      "cell_type": "code",
      "metadata": {
        "id": "XYDN6Ld8uTMR",
        "colab_type": "code",
        "colab": {},
        "outputId": "66e228cb-74fc-4f78-d8f3-85be012755c0"
      },
      "source": [
        "sns.countplot(x='Survived', data=titanic)"
      ],
      "execution_count": null,
      "outputs": [
        {
          "output_type": "execute_result",
          "data": {
            "text/plain": [
              "<matplotlib.axes._subplots.AxesSubplot at 0x25891097348>"
            ]
          },
          "metadata": {
            "tags": []
          },
          "execution_count": 6
        },
        {
          "output_type": "display_data",
          "data": {
            "image/png": "[encoded data removed]",
            "text/plain": [
              "<Figure size 432x288 with 1 Axes>"
            ]
          },
          "metadata": {
            "tags": [],
            "needs_background": "light"
          }
        }
      ]
    },
    {
      "cell_type": "markdown",
      "metadata": {
        "id": "o0ZHMN5UuTMe",
        "colab_type": "text"
      },
      "source": [
        "##### From the graph, we can observe that people unable to survive are greater than the people survived."
      ]
    },
    {
      "cell_type": "code",
      "metadata": {
        "id": "uZQp5dHXuTMf",
        "colab_type": "code",
        "colab": {},
        "outputId": "1ce4954a-7614-4c6b-c5aa-d691749add5f"
      },
      "source": [
        "sns.countplot(x='Pclass', data=titanic)"
      ],
      "execution_count": null,
      "outputs": [
        {
          "output_type": "execute_result",
          "data": {
            "text/plain": [
              "<matplotlib.axes._subplots.AxesSubplot at 0x2589253cac8>"
            ]
          },
          "metadata": {
            "tags": []
          },
          "execution_count": 7
        },
        {
          "output_type": "display_data",
          "data": {
            "image/png": "[encoded data removed]",
            "text/plain": [
              "<Figure size 432x288 with 1 Axes>"
            ]
          },
          "metadata": {
            "tags": [],
            "needs_background": "light"
          }
        }
      ]
    },
    {
      "cell_type": "markdown",
      "metadata": {
        "id": "wC2K8atQuTMk",
        "colab_type": "text"
      },
      "source": [
        "#####  Most people in the ship had ticket of class 3"
      ]
    },
    {
      "cell_type": "code",
      "metadata": {
        "id": "CQ7kA4CfuTMl",
        "colab_type": "code",
        "colab": {},
        "outputId": "67b9df5d-8779-4cc3-9ebb-f1525100eb97"
      },
      "source": [
        "sns.countplot(x='Sex', data=titanic)"
      ],
      "execution_count": null,
      "outputs": [
        {
          "output_type": "execute_result",
          "data": {
            "text/plain": [
              "<matplotlib.axes._subplots.AxesSubplot at 0x25890d99908>"
            ]
          },
          "metadata": {
            "tags": []
          },
          "execution_count": 8
        },
        {
          "output_type": "display_data",
          "data": {
            "image/png": "[encoded data removed]",
            "text/plain": [
              "<Figure size 432x288 with 1 Axes>"
            ]
          },
          "metadata": {
            "tags": [],
            "needs_background": "light"
          }
        }
      ]
    },
    {
      "cell_type": "markdown",
      "metadata": {
        "id": "Og5p285FuTMv",
        "colab_type": "text"
      },
      "source": [
        "##### There are more males than the females"
      ]
    },
    {
      "cell_type": "code",
      "metadata": {
        "id": "0MpVpJdpuTMw",
        "colab_type": "code",
        "colab": {},
        "outputId": "a2e3e426-9110-4c55-f8be-4fc33245ef96"
      },
      "source": [
        "sns.countplot(x='Embarked', data=titanic)"
      ],
      "execution_count": null,
      "outputs": [
        {
          "output_type": "execute_result",
          "data": {
            "text/plain": [
              "<matplotlib.axes._subplots.AxesSubplot at 0x2589260f308>"
            ]
          },
          "metadata": {
            "tags": []
          },
          "execution_count": 9
        },
        {
          "output_type": "display_data",
          "data": {
            "image/png": "[encoded data removed]",
            "text/plain": [
              "<Figure size 432x288 with 1 Axes>"
            ]
          },
          "metadata": {
            "tags": [],
            "needs_background": "light"
          }
        }
      ]
    },
    {
      "cell_type": "markdown",
      "metadata": {
        "id": "tnLnyk4AuTMz",
        "colab_type": "text"
      },
      "source": [
        " #####   Port of embarkation for most passengers is Southampton"
      ]
    },
    {
      "cell_type": "markdown",
      "metadata": {
        "id": "rdCvAhNKuTM0",
        "colab_type": "text"
      },
      "source": [
        "#### Continuous Variables  - UNIVARIATE ANALYSIS"
      ]
    },
    {
      "cell_type": "code",
      "metadata": {
        "id": "-6rmEO1IuTM2",
        "colab_type": "code",
        "colab": {},
        "outputId": "98132c06-e620-41a9-b628-a5fb06c1ad16"
      },
      "source": [
        "sns.boxplot(y='Age', data = titanic)"
      ],
      "execution_count": null,
      "outputs": [
        {
          "output_type": "execute_result",
          "data": {
            "text/plain": [
              "<matplotlib.axes._subplots.AxesSubplot at 0x2589264bd08>"
            ]
          },
          "metadata": {
            "tags": []
          },
          "execution_count": 10
        },
        {
          "output_type": "display_data",
          "data": {
            "image/png": "[encoded data removed]",
            "text/plain": [
              "<Figure size 432x288 with 1 Axes>"
            ]
          },
          "metadata": {
            "tags": [],
            "needs_background": "light"
          }
        }
      ]
    },
    {
      "cell_type": "markdown",
      "metadata": {
        "id": "CDNXoPSXuTM6",
        "colab_type": "text"
      },
      "source": [
        "##### There are outliers where age is 60 - 80"
      ]
    },
    {
      "cell_type": "code",
      "metadata": {
        "id": "maMsHOaLuTM8",
        "colab_type": "code",
        "colab": {},
        "outputId": "e79b5bb8-80a7-49b6-ee55-9d6bf0384d3e"
      },
      "source": [
        "sns.distplot(titanic['Age'],bins = 8)"
      ],
      "execution_count": null,
      "outputs": [
        {
          "output_type": "execute_result",
          "data": {
            "text/plain": [
              "<matplotlib.axes._subplots.AxesSubplot at 0x258926da6c8>"
            ]
          },
          "metadata": {
            "tags": []
          },
          "execution_count": 11
        },
        {
          "output_type": "display_data",
          "data": {
            "image/png": "[encoded data removed]",
            "text/plain": [
              "<Figure size 432x288 with 1 Axes>"
            ]
          },
          "metadata": {
            "tags": [],
            "needs_background": "light"
          }
        }
      ]
    },
    {
      "cell_type": "markdown",
      "metadata": {
        "id": "489GYCGFuTNB",
        "colab_type": "text"
      },
      "source": [
        "##### Most people on the ship are young adults (20 yrs - 30 yrs)"
      ]
    },
    {
      "cell_type": "code",
      "metadata": {
        "id": "Ja6fpZIouTNC",
        "colab_type": "code",
        "colab": {},
        "outputId": "19728545-05c9-454c-f687-15e4b6204b6d"
      },
      "source": [
        "sns.boxplot(y='Fare', data = titanic)"
      ],
      "execution_count": null,
      "outputs": [
        {
          "output_type": "execute_result",
          "data": {
            "text/plain": [
              "<matplotlib.axes._subplots.AxesSubplot at 0x25892771148>"
            ]
          },
          "metadata": {
            "tags": []
          },
          "execution_count": 12
        },
        {
          "output_type": "display_data",
          "data": {
            "image/png": "[encoded data removed]",
            "text/plain": [
              "<Figure size 432x288 with 1 Axes>"
            ]
          },
          "metadata": {
            "tags": [],
            "needs_background": "light"
          }
        }
      ]
    },
    {
      "cell_type": "markdown",
      "metadata": {
        "id": "ZXY1p2BNuTNH",
        "colab_type": "text"
      },
      "source": [
        "##### There are many outliers. "
      ]
    },
    {
      "cell_type": "code",
      "metadata": {
        "id": "ob2hVK26uTNJ",
        "colab_type": "code",
        "colab": {},
        "outputId": "333dfdbb-3018-47b5-b70c-1af5f1c7c6f0"
      },
      "source": [
        "sns.distplot(titanic['Fare'],bins = 3)"
      ],
      "execution_count": null,
      "outputs": [
        {
          "output_type": "execute_result",
          "data": {
            "text/plain": [
              "<matplotlib.axes._subplots.AxesSubplot at 0x25892602e88>"
            ]
          },
          "metadata": {
            "tags": []
          },
          "execution_count": 13
        },
        {
          "output_type": "display_data",
          "data": {
            "image/png": "[encoded data removed]",
            "text/plain": [
              "<Figure size 432x288 with 1 Axes>"
            ]
          },
          "metadata": {
            "tags": [],
            "needs_background": "light"
          }
        }
      ]
    },
    {
      "cell_type": "markdown",
      "metadata": {
        "id": "oti8xuG5uTNQ",
        "colab_type": "text"
      },
      "source": [
        "##### There is a big outlier where fare is greater than 500 and many other smaller outliers"
      ]
    },
    {
      "cell_type": "markdown",
      "metadata": {
        "id": "RNYXceZYuTNR",
        "colab_type": "text"
      },
      "source": [
        "### 3. Bivariant Analysis"
      ]
    },
    {
      "cell_type": "markdown",
      "metadata": {
        "id": "kh2OKKVUuTNR",
        "colab_type": "text"
      },
      "source": [
        "#### Continuous vs Continuous"
      ]
    },
    {
      "cell_type": "code",
      "metadata": {
        "id": "K7JMaas5uTNS",
        "colab_type": "code",
        "colab": {},
        "outputId": "e5d7a6b8-aa01-4c9e-f576-3db786de68db"
      },
      "source": [
        "plt.figure(figsize=(15,10))\n",
        "plt.scatter(titanic['Age'],titanic['Fare'])\n",
        "plt.title(\"Age vs Fare\")\n",
        "plt.xlabel('Age')\n",
        "plt.ylabel('Fare')\n",
        "plt.grid()"
      ],
      "execution_count": null,
      "outputs": [
        {
          "output_type": "display_data",
          "data": {
            "image/png": "[encoded data removed]",
            "text/plain": [
              "<Figure size 1080x720 with 1 Axes>"
            ]
          },
          "metadata": {
            "tags": [],
            "needs_background": "light"
          }
        }
      ]
    },
    {
      "cell_type": "markdown",
      "metadata": {
        "id": "uIdLOKVFuTNX",
        "colab_type": "text"
      },
      "source": [
        "##### There are large two outliers for fare above 500 , some smaller outliers for fare and an outlier for age 80. There is no correlation"
      ]
    },
    {
      "cell_type": "code",
      "metadata": {
        "id": "DARKX-WguTNY",
        "colab_type": "code",
        "colab": {},
        "outputId": "ba2643fe-494b-4bd3-c0ed-4e8a9a9af37a"
      },
      "source": [
        "sns.heatmap(titanic.corr(), annot = True, linewidth = 0.5)"
      ],
      "execution_count": null,
      "outputs": [
        {
          "output_type": "execute_result",
          "data": {
            "text/plain": [
              "<matplotlib.axes._subplots.AxesSubplot at 0x258928c98c8>"
            ]
          },
          "metadata": {
            "tags": []
          },
          "execution_count": 15
        },
        {
          "output_type": "display_data",
          "data": {
            "image/png": "[encoded data removed]",
            "text/plain": [
              "<Figure size 432x288 with 2 Axes>"
            ]
          },
          "metadata": {
            "tags": [],
            "needs_background": "light"
          }
        }
      ]
    },
    {
      "cell_type": "code",
      "metadata": {
        "id": "2M_ow-cjuTNb",
        "colab_type": "code",
        "colab": {},
        "outputId": "77eab971-414d-4563-b2b1-6a30ccd6a54c"
      },
      "source": [
        "titanic = titanic[['PassengerId','Survived','Pclass','Name','Sex','Age','Ticket','Fare','Cabin','Embarked','SibSp','Parch']]\n",
        "titanic_cont = titanic.iloc[:,:-2]\n",
        "titanic_cont\n",
        "sns.pairplot(titanic_cont)"
      ],
      "execution_count": null,
      "outputs": [
        {
          "output_type": "execute_result",
          "data": {
            "text/plain": [
              "<seaborn.axisgrid.PairGrid at 0x2589244e5c8>"
            ]
          },
          "metadata": {
            "tags": []
          },
          "execution_count": 16
        },
        {
          "output_type": "display_data",
          "data": {
            "image/png": "[encoded data removed]",
            "text/plain": [
              "<Figure size 900x900 with 30 Axes>"
            ]
          },
          "metadata": {
            "tags": [],
            "needs_background": "light"
          }
        }
      ]
    },
    {
      "cell_type": "code",
      "metadata": {
        "id": "gBu87fihuTNg",
        "colab_type": "code",
        "colab": {},
        "outputId": "b55b567c-b75e-451d-cb5e-2abb8cbb40a5"
      },
      "source": [
        "titanic.describe(include='all')"
      ],
      "execution_count": null,
      "outputs": [
        {
          "output_type": "execute_result",
          "data": {
            "text/html": [
              "<div>\n",
              "<style scoped>\n",
              "    .dataframe tbody tr th:only-of-type {\n",
              "        vertical-align: middle;\n",
              "    }\n",
              "\n",
              "    .dataframe tbody tr th {\n",
              "        vertical-align: top;\n",
              "    }\n",
              "\n",
              "    .dataframe thead th {\n",
              "        text-align: right;\n",
              "    }\n",
              "</style>\n",
              "<table border=\"1\" class=\"dataframe\">\n",
              "  <thead>\n",
              "    <tr style=\"text-align: right;\">\n",
              "      <th></th>\n",
              "      <th>PassengerId</th>\n",
              "      <th>Survived</th>\n",
              "      <th>Pclass</th>\n",
              "      <th>Name</th>\n",
              "      <th>Sex</th>\n",
              "      <th>Age</th>\n",
              "      <th>Ticket</th>\n",
              "      <th>Fare</th>\n",
              "      <th>Cabin</th>\n",
              "      <th>Embarked</th>\n",
              "      <th>SibSp</th>\n",
              "      <th>Parch</th>\n",
              "    </tr>\n",
              "  </thead>\n",
              "  <tbody>\n",
              "    <tr>\n",
              "      <th>count</th>\n",
              "      <td>891.000000</td>\n",
              "      <td>891.000000</td>\n",
              "      <td>891.000000</td>\n",
              "      <td>891</td>\n",
              "      <td>891</td>\n",
              "      <td>714.000000</td>\n",
              "      <td>891</td>\n",
              "      <td>891.000000</td>\n",
              "      <td>204</td>\n",
              "      <td>889</td>\n",
              "      <td>891.000000</td>\n",
              "      <td>891.000000</td>\n",
              "    </tr>\n",
              "    <tr>\n",
              "      <th>unique</th>\n",
              "      <td>NaN</td>\n",
              "      <td>NaN</td>\n",
              "      <td>NaN</td>\n",
              "      <td>891</td>\n",
              "      <td>2</td>\n",
              "      <td>NaN</td>\n",
              "      <td>681</td>\n",
              "      <td>NaN</td>\n",
              "      <td>147</td>\n",
              "      <td>3</td>\n",
              "      <td>NaN</td>\n",
              "      <td>NaN</td>\n",
              "    </tr>\n",
              "    <tr>\n",
              "      <th>top</th>\n",
              "      <td>NaN</td>\n",
              "      <td>NaN</td>\n",
              "      <td>NaN</td>\n",
              "      <td>Ryerson, Miss. Susan Parker \"Suzette\"</td>\n",
              "      <td>male</td>\n",
              "      <td>NaN</td>\n",
              "      <td>1601</td>\n",
              "      <td>NaN</td>\n",
              "      <td>C23 C25 C27</td>\n",
              "      <td>S</td>\n",
              "      <td>NaN</td>\n",
              "      <td>NaN</td>\n",
              "    </tr>\n",
              "    <tr>\n",
              "      <th>freq</th>\n",
              "      <td>NaN</td>\n",
              "      <td>NaN</td>\n",
              "      <td>NaN</td>\n",
              "      <td>1</td>\n",
              "      <td>577</td>\n",
              "      <td>NaN</td>\n",
              "      <td>7</td>\n",
              "      <td>NaN</td>\n",
              "      <td>4</td>\n",
              "      <td>644</td>\n",
              "      <td>NaN</td>\n",
              "      <td>NaN</td>\n",
              "    </tr>\n",
              "    <tr>\n",
              "      <th>mean</th>\n",
              "      <td>446.000000</td>\n",
              "      <td>0.383838</td>\n",
              "      <td>2.308642</td>\n",
              "      <td>NaN</td>\n",
              "      <td>NaN</td>\n",
              "      <td>29.699118</td>\n",
              "      <td>NaN</td>\n",
              "      <td>32.204208</td>\n",
              "      <td>NaN</td>\n",
              "      <td>NaN</td>\n",
              "      <td>0.523008</td>\n",
              "      <td>0.381594</td>\n",
              "    </tr>\n",
              "    <tr>\n",
              "      <th>std</th>\n",
              "      <td>257.353842</td>\n",
              "      <td>0.486592</td>\n",
              "      <td>0.836071</td>\n",
              "      <td>NaN</td>\n",
              "      <td>NaN</td>\n",
              "      <td>14.526497</td>\n",
              "      <td>NaN</td>\n",
              "      <td>49.693429</td>\n",
              "      <td>NaN</td>\n",
              "      <td>NaN</td>\n",
              "      <td>1.102743</td>\n",
              "      <td>0.806057</td>\n",
              "    </tr>\n",
              "    <tr>\n",
              "      <th>min</th>\n",
              "      <td>1.000000</td>\n",
              "      <td>0.000000</td>\n",
              "      <td>1.000000</td>\n",
              "      <td>NaN</td>\n",
              "      <td>NaN</td>\n",
              "      <td>0.420000</td>\n",
              "      <td>NaN</td>\n",
              "      <td>0.000000</td>\n",
              "      <td>NaN</td>\n",
              "      <td>NaN</td>\n",
              "      <td>0.000000</td>\n",
              "      <td>0.000000</td>\n",
              "    </tr>\n",
              "    <tr>\n",
              "      <th>25%</th>\n",
              "      <td>223.500000</td>\n",
              "      <td>0.000000</td>\n",
              "      <td>2.000000</td>\n",
              "      <td>NaN</td>\n",
              "      <td>NaN</td>\n",
              "      <td>20.125000</td>\n",
              "      <td>NaN</td>\n",
              "      <td>7.910400</td>\n",
              "      <td>NaN</td>\n",
              "      <td>NaN</td>\n",
              "      <td>0.000000</td>\n",
              "      <td>0.000000</td>\n",
              "    </tr>\n",
              "    <tr>\n",
              "      <th>50%</th>\n",
              "      <td>446.000000</td>\n",
              "      <td>0.000000</td>\n",
              "      <td>3.000000</td>\n",
              "      <td>NaN</td>\n",
              "      <td>NaN</td>\n",
              "      <td>28.000000</td>\n",
              "      <td>NaN</td>\n",
              "      <td>14.454200</td>\n",
              "      <td>NaN</td>\n",
              "      <td>NaN</td>\n",
              "      <td>0.000000</td>\n",
              "      <td>0.000000</td>\n",
              "    </tr>\n",
              "    <tr>\n",
              "      <th>75%</th>\n",
              "      <td>668.500000</td>\n",
              "      <td>1.000000</td>\n",
              "      <td>3.000000</td>\n",
              "      <td>NaN</td>\n",
              "      <td>NaN</td>\n",
              "      <td>38.000000</td>\n",
              "      <td>NaN</td>\n",
              "      <td>31.000000</td>\n",
              "      <td>NaN</td>\n",
              "      <td>NaN</td>\n",
              "      <td>1.000000</td>\n",
              "      <td>0.000000</td>\n",
              "    </tr>\n",
              "    <tr>\n",
              "      <th>max</th>\n",
              "      <td>891.000000</td>\n",
              "      <td>1.000000</td>\n",
              "      <td>3.000000</td>\n",
              "      <td>NaN</td>\n",
              "      <td>NaN</td>\n",
              "      <td>80.000000</td>\n",
              "      <td>NaN</td>\n",
              "      <td>512.329200</td>\n",
              "      <td>NaN</td>\n",
              "      <td>NaN</td>\n",
              "      <td>8.000000</td>\n",
              "      <td>6.000000</td>\n",
              "    </tr>\n",
              "  </tbody>\n",
              "</table>\n",
              "</div>"
            ],
            "text/plain": [
              "        PassengerId    Survived      Pclass  \\\n",
              "count    891.000000  891.000000  891.000000   \n",
              "unique          NaN         NaN         NaN   \n",
              "top             NaN         NaN         NaN   \n",
              "freq            NaN         NaN         NaN   \n",
              "mean     446.000000    0.383838    2.308642   \n",
              "std      257.353842    0.486592    0.836071   \n",
              "min        1.000000    0.000000    1.000000   \n",
              "25%      223.500000    0.000000    2.000000   \n",
              "50%      446.000000    0.000000    3.000000   \n",
              "75%      668.500000    1.000000    3.000000   \n",
              "max      891.000000    1.000000    3.000000   \n",
              "\n",
              "                                         Name   Sex         Age Ticket  \\\n",
              "count                                     891   891  714.000000    891   \n",
              "unique                                    891     2         NaN    681   \n",
              "top     Ryerson, Miss. Susan Parker \"Suzette\"  male         NaN   1601   \n",
              "freq                                        1   577         NaN      7   \n",
              "mean                                      NaN   NaN   29.699118    NaN   \n",
              "std                                       NaN   NaN   14.526497    NaN   \n",
              "min                                       NaN   NaN    0.420000    NaN   \n",
              "25%                                       NaN   NaN   20.125000    NaN   \n",
              "50%                                       NaN   NaN   28.000000    NaN   \n",
              "75%                                       NaN   NaN   38.000000    NaN   \n",
              "max                                       NaN   NaN   80.000000    NaN   \n",
              "\n",
              "              Fare        Cabin Embarked       SibSp       Parch  \n",
              "count   891.000000          204      889  891.000000  891.000000  \n",
              "unique         NaN          147        3         NaN         NaN  \n",
              "top            NaN  C23 C25 C27        S         NaN         NaN  \n",
              "freq           NaN            4      644         NaN         NaN  \n",
              "mean     32.204208          NaN      NaN    0.523008    0.381594  \n",
              "std      49.693429          NaN      NaN    1.102743    0.806057  \n",
              "min       0.000000          NaN      NaN    0.000000    0.000000  \n",
              "25%       7.910400          NaN      NaN    0.000000    0.000000  \n",
              "50%      14.454200          NaN      NaN    0.000000    0.000000  \n",
              "75%      31.000000          NaN      NaN    1.000000    0.000000  \n",
              "max     512.329200          NaN      NaN    8.000000    6.000000  "
            ]
          },
          "metadata": {
            "tags": []
          },
          "execution_count": 17
        }
      ]
    },
    {
      "cell_type": "markdown",
      "metadata": {
        "id": "OaQKEMPIuTNl",
        "colab_type": "text"
      },
      "source": [
        "#### Categorical vs Categorical\n",
        "\n",
        "##### Categorical:\n",
        "1. Survived\n",
        "2. Pclass\n",
        "3. Sex\n",
        "4. Ticket\n",
        "5. Cabin\n",
        "6. Embarked"
      ]
    },
    {
      "cell_type": "code",
      "metadata": {
        "id": "qqAZ4GK5uTNm",
        "colab_type": "code",
        "colab": {},
        "outputId": "3d30018e-6580-455d-eecd-7dc16fbe32af"
      },
      "source": [
        "counts = titanic.groupby(['Survived','Pclass'],axis = 0)\n",
        "counts.size()"
      ],
      "execution_count": null,
      "outputs": [
        {
          "output_type": "execute_result",
          "data": {
            "text/plain": [
              "Survived  Pclass\n",
              "0         1          80\n",
              "          2          97\n",
              "          3         372\n",
              "1         1         136\n",
              "          2          87\n",
              "          3         119\n",
              "dtype: int64"
            ]
          },
          "metadata": {
            "tags": []
          },
          "execution_count": 18
        }
      ]
    },
    {
      "cell_type": "markdown",
      "metadata": {
        "id": "9JVxcUDEuTNr",
        "colab_type": "text"
      },
      "source": [
        "#### Most people survived belonged to  class 1. "
      ]
    },
    {
      "cell_type": "code",
      "metadata": {
        "id": "1H-cJt9BuTNs",
        "colab_type": "code",
        "colab": {},
        "outputId": "4d9f206e-910b-42be-cc75-d69f44fed547"
      },
      "source": [
        "pd.crosstab(titanic['Survived'],titanic['Pclass']).plot(kind = 'bar', stacked = True)"
      ],
      "execution_count": null,
      "outputs": [
        {
          "output_type": "execute_result",
          "data": {
            "text/plain": [
              "<matplotlib.axes._subplots.AxesSubplot at 0x25893ba7988>"
            ]
          },
          "metadata": {
            "tags": []
          },
          "execution_count": 19
        },
        {
          "output_type": "display_data",
          "data": {
            "image/png": "[encoded data removed]",
            "text/plain": [
              "<Figure size 432x288 with 1 Axes>"
            ]
          },
          "metadata": {
            "tags": [],
            "needs_background": "light"
          }
        }
      ]
    },
    {
      "cell_type": "code",
      "metadata": {
        "id": "ebedv_S8uTNy",
        "colab_type": "code",
        "colab": {},
        "outputId": "f6e359ef-9c62-476a-b7bf-d35893482749"
      },
      "source": [
        "counts = titanic.groupby(['Pclass','Sex'],axis = 0)\n",
        "counts.size()"
      ],
      "execution_count": null,
      "outputs": [
        {
          "output_type": "execute_result",
          "data": {
            "text/plain": [
              "Pclass  Sex   \n",
              "1       female     94\n",
              "        male      122\n",
              "2       female     76\n",
              "        male      108\n",
              "3       female    144\n",
              "        male      347\n",
              "dtype: int64"
            ]
          },
          "metadata": {
            "tags": []
          },
          "execution_count": 20
        }
      ]
    },
    {
      "cell_type": "code",
      "metadata": {
        "id": "MBe8xXQjuTN1",
        "colab_type": "code",
        "colab": {},
        "outputId": "40e4c67d-3d20-4005-fda6-b91470018e1d"
      },
      "source": [
        "pd.crosstab(titanic['Pclass'],titanic['Sex']).plot(kind = 'bar', stacked = True)"
      ],
      "execution_count": null,
      "outputs": [
        {
          "output_type": "execute_result",
          "data": {
            "text/plain": [
              "<matplotlib.axes._subplots.AxesSubplot at 0x25894bed708>"
            ]
          },
          "metadata": {
            "tags": []
          },
          "execution_count": 21
        },
        {
          "output_type": "display_data",
          "data": {
            "image/png": "[encoded data removed]",
            "text/plain": [
              "<Figure size 432x288 with 1 Axes>"
            ]
          },
          "metadata": {
            "tags": [],
            "needs_background": "light"
          }
        }
      ]
    },
    {
      "cell_type": "markdown",
      "metadata": {
        "id": "H0R_e1xwuTN7",
        "colab_type": "text"
      },
      "source": [
        "#### Pclass 3 has most number of males and females while Pclass 2 has least number of males and females"
      ]
    },
    {
      "cell_type": "code",
      "metadata": {
        "id": "Z4hA5wo7uTN8",
        "colab_type": "code",
        "colab": {},
        "outputId": "442cd987-4b8a-488a-f812-c0e1872014ea"
      },
      "source": [
        "counts = titanic.groupby(['Survived','Sex'],axis = 0)\n",
        "counts.size()"
      ],
      "execution_count": null,
      "outputs": [
        {
          "output_type": "execute_result",
          "data": {
            "text/plain": [
              "Survived  Sex   \n",
              "0         female     81\n",
              "          male      468\n",
              "1         female    233\n",
              "          male      109\n",
              "dtype: int64"
            ]
          },
          "metadata": {
            "tags": []
          },
          "execution_count": 22
        }
      ]
    },
    {
      "cell_type": "code",
      "metadata": {
        "id": "2_sCDjK1uTOE",
        "colab_type": "code",
        "colab": {},
        "outputId": "35e96a5b-469b-42a4-d4a3-ee3aec27172d"
      },
      "source": [
        "pd.crosstab(titanic['Survived'],titanic['Sex']).plot(kind = 'bar', stacked = True)"
      ],
      "execution_count": null,
      "outputs": [
        {
          "output_type": "execute_result",
          "data": {
            "text/plain": [
              "<matplotlib.axes._subplots.AxesSubplot at 0x25894c62388>"
            ]
          },
          "metadata": {
            "tags": []
          },
          "execution_count": 23
        },
        {
          "output_type": "display_data",
          "data": {
            "image/png": "[encoded data removed]",
            "text/plain": [
              "<Figure size 432x288 with 1 Axes>"
            ]
          },
          "metadata": {
            "tags": [],
            "needs_background": "light"
          }
        }
      ]
    },
    {
      "cell_type": "markdown",
      "metadata": {
        "id": "gTJ20NeOuTOM",
        "colab_type": "text"
      },
      "source": [
        "##### More females survived than males"
      ]
    },
    {
      "cell_type": "code",
      "metadata": {
        "id": "jB1uheCZuTOV",
        "colab_type": "code",
        "colab": {},
        "outputId": "54e78807-a68e-4247-8394-9fffe25b1117"
      },
      "source": [
        "counts = titanic.groupby(['Survived','Embarked'],axis = 0)\n",
        "counts.size()"
      ],
      "execution_count": null,
      "outputs": [
        {
          "output_type": "execute_result",
          "data": {
            "text/plain": [
              "Survived  Embarked\n",
              "0         C            75\n",
              "          Q            47\n",
              "          S           427\n",
              "1         C            93\n",
              "          Q            30\n",
              "          S           217\n",
              "dtype: int64"
            ]
          },
          "metadata": {
            "tags": []
          },
          "execution_count": 24
        }
      ]
    },
    {
      "cell_type": "code",
      "metadata": {
        "id": "N9D1UKDFuTOb",
        "colab_type": "code",
        "colab": {},
        "outputId": "e0232438-a4e7-44eb-9d68-59385329634f"
      },
      "source": [
        "pd.crosstab(titanic['Survived'],titanic['Embarked']).plot(kind = 'bar', stacked = True)"
      ],
      "execution_count": null,
      "outputs": [
        {
          "output_type": "execute_result",
          "data": {
            "text/plain": [
              "<matplotlib.axes._subplots.AxesSubplot at 0x25894cc7388>"
            ]
          },
          "metadata": {
            "tags": []
          },
          "execution_count": 25
        },
        {
          "output_type": "display_data",
          "data": {
            "image/png": "[encoded data removed]",
            "text/plain": [
              "<Figure size 432x288 with 1 Axes>"
            ]
          },
          "metadata": {
            "tags": [],
            "needs_background": "light"
          }
        }
      ]
    },
    {
      "cell_type": "markdown",
      "metadata": {
        "id": "lLexKUWvuTOo",
        "colab_type": "text"
      },
      "source": [
        "##### Majority of people to be embarked at Cherbourg survived while less people to be embarked at  Queenstown and Southampton were able to survive."
      ]
    },
    {
      "cell_type": "code",
      "metadata": {
        "id": "4VHDf6DUuTOp",
        "colab_type": "code",
        "colab": {},
        "outputId": "565ccff7-a512-40db-f798-f0555bf1cd5b"
      },
      "source": [
        "counts = titanic.groupby(['Sex','Embarked'],axis = 0)\n",
        "counts.size()"
      ],
      "execution_count": null,
      "outputs": [
        {
          "output_type": "execute_result",
          "data": {
            "text/plain": [
              "Sex     Embarked\n",
              "female  C            73\n",
              "        Q            36\n",
              "        S           203\n",
              "male    C            95\n",
              "        Q            41\n",
              "        S           441\n",
              "dtype: int64"
            ]
          },
          "metadata": {
            "tags": []
          },
          "execution_count": 26
        }
      ]
    },
    {
      "cell_type": "code",
      "metadata": {
        "id": "-6hCUC8uuTO3",
        "colab_type": "code",
        "colab": {},
        "outputId": "75e317db-a003-4e4a-90b8-96c2b685e85f"
      },
      "source": [
        "pd.crosstab(titanic['Sex'],titanic['Embarked']).plot(kind = 'bar', stacked = True)"
      ],
      "execution_count": null,
      "outputs": [
        {
          "output_type": "execute_result",
          "data": {
            "text/plain": [
              "<matplotlib.axes._subplots.AxesSubplot at 0x25894d5ed48>"
            ]
          },
          "metadata": {
            "tags": []
          },
          "execution_count": 27
        },
        {
          "output_type": "display_data",
          "data": {
            "image/png": "[encoded data removed]",
            "text/plain": [
              "<Figure size 432x288 with 1 Axes>"
            ]
          },
          "metadata": {
            "tags": [],
            "needs_background": "light"
          }
        }
      ]
    },
    {
      "cell_type": "markdown",
      "metadata": {
        "id": "wdErayCJuTO8",
        "colab_type": "text"
      },
      "source": [
        "### 4. Missing Values Treatment"
      ]
    },
    {
      "cell_type": "code",
      "metadata": {
        "id": "-yFv7Sk4uTO9",
        "colab_type": "code",
        "colab": {},
        "outputId": "5dd7af66-a7a8-4397-bda8-99f3ea6fd096"
      },
      "source": [
        "titanic.isnull().sum()"
      ],
      "execution_count": null,
      "outputs": [
        {
          "output_type": "execute_result",
          "data": {
            "text/plain": [
              "PassengerId      0\n",
              "Survived         0\n",
              "Pclass           0\n",
              "Name             0\n",
              "Sex              0\n",
              "Age            177\n",
              "Ticket           0\n",
              "Fare             0\n",
              "Cabin          687\n",
              "Embarked         2\n",
              "SibSp            0\n",
              "Parch            0\n",
              "dtype: int64"
            ]
          },
          "metadata": {
            "tags": []
          },
          "execution_count": 28
        }
      ]
    },
    {
      "cell_type": "markdown",
      "metadata": {
        "id": "Ho8jZEL3uTPA",
        "colab_type": "text"
      },
      "source": [
        "##### Age has 177 missing values and Cabin has 687 missing values."
      ]
    },
    {
      "cell_type": "code",
      "metadata": {
        "id": "ytGmvteRuTPB",
        "colab_type": "code",
        "colab": {},
        "outputId": "a40eb949-9b82-4885-ab25-ec2d9c6bed93"
      },
      "source": [
        "titanic.describe(include='all')"
      ],
      "execution_count": null,
      "outputs": [
        {
          "output_type": "execute_result",
          "data": {
            "text/html": [
              "<div>\n",
              "<style scoped>\n",
              "    .dataframe tbody tr th:only-of-type {\n",
              "        vertical-align: middle;\n",
              "    }\n",
              "\n",
              "    .dataframe tbody tr th {\n",
              "        vertical-align: top;\n",
              "    }\n",
              "\n",
              "    .dataframe thead th {\n",
              "        text-align: right;\n",
              "    }\n",
              "</style>\n",
              "<table border=\"1\" class=\"dataframe\">\n",
              "  <thead>\n",
              "    <tr style=\"text-align: right;\">\n",
              "      <th></th>\n",
              "      <th>PassengerId</th>\n",
              "      <th>Survived</th>\n",
              "      <th>Pclass</th>\n",
              "      <th>Name</th>\n",
              "      <th>Sex</th>\n",
              "      <th>Age</th>\n",
              "      <th>Ticket</th>\n",
              "      <th>Fare</th>\n",
              "      <th>Cabin</th>\n",
              "      <th>Embarked</th>\n",
              "      <th>SibSp</th>\n",
              "      <th>Parch</th>\n",
              "    </tr>\n",
              "  </thead>\n",
              "  <tbody>\n",
              "    <tr>\n",
              "      <th>count</th>\n",
              "      <td>891.000000</td>\n",
              "      <td>891.000000</td>\n",
              "      <td>891.000000</td>\n",
              "      <td>891</td>\n",
              "      <td>891</td>\n",
              "      <td>714.000000</td>\n",
              "      <td>891</td>\n",
              "      <td>891.000000</td>\n",
              "      <td>204</td>\n",
              "      <td>889</td>\n",
              "      <td>891.000000</td>\n",
              "      <td>891.000000</td>\n",
              "    </tr>\n",
              "    <tr>\n",
              "      <th>unique</th>\n",
              "      <td>NaN</td>\n",
              "      <td>NaN</td>\n",
              "      <td>NaN</td>\n",
              "      <td>891</td>\n",
              "      <td>2</td>\n",
              "      <td>NaN</td>\n",
              "      <td>681</td>\n",
              "      <td>NaN</td>\n",
              "      <td>147</td>\n",
              "      <td>3</td>\n",
              "      <td>NaN</td>\n",
              "      <td>NaN</td>\n",
              "    </tr>\n",
              "    <tr>\n",
              "      <th>top</th>\n",
              "      <td>NaN</td>\n",
              "      <td>NaN</td>\n",
              "      <td>NaN</td>\n",
              "      <td>Ryerson, Miss. Susan Parker \"Suzette\"</td>\n",
              "      <td>male</td>\n",
              "      <td>NaN</td>\n",
              "      <td>1601</td>\n",
              "      <td>NaN</td>\n",
              "      <td>C23 C25 C27</td>\n",
              "      <td>S</td>\n",
              "      <td>NaN</td>\n",
              "      <td>NaN</td>\n",
              "    </tr>\n",
              "    <tr>\n",
              "      <th>freq</th>\n",
              "      <td>NaN</td>\n",
              "      <td>NaN</td>\n",
              "      <td>NaN</td>\n",
              "      <td>1</td>\n",
              "      <td>577</td>\n",
              "      <td>NaN</td>\n",
              "      <td>7</td>\n",
              "      <td>NaN</td>\n",
              "      <td>4</td>\n",
              "      <td>644</td>\n",
              "      <td>NaN</td>\n",
              "      <td>NaN</td>\n",
              "    </tr>\n",
              "    <tr>\n",
              "      <th>mean</th>\n",
              "      <td>446.000000</td>\n",
              "      <td>0.383838</td>\n",
              "      <td>2.308642</td>\n",
              "      <td>NaN</td>\n",
              "      <td>NaN</td>\n",
              "      <td>29.699118</td>\n",
              "      <td>NaN</td>\n",
              "      <td>32.204208</td>\n",
              "      <td>NaN</td>\n",
              "      <td>NaN</td>\n",
              "      <td>0.523008</td>\n",
              "      <td>0.381594</td>\n",
              "    </tr>\n",
              "    <tr>\n",
              "      <th>std</th>\n",
              "      <td>257.353842</td>\n",
              "      <td>0.486592</td>\n",
              "      <td>0.836071</td>\n",
              "      <td>NaN</td>\n",
              "      <td>NaN</td>\n",
              "      <td>14.526497</td>\n",
              "      <td>NaN</td>\n",
              "      <td>49.693429</td>\n",
              "      <td>NaN</td>\n",
              "      <td>NaN</td>\n",
              "      <td>1.102743</td>\n",
              "      <td>0.806057</td>\n",
              "    </tr>\n",
              "    <tr>\n",
              "      <th>min</th>\n",
              "      <td>1.000000</td>\n",
              "      <td>0.000000</td>\n",
              "      <td>1.000000</td>\n",
              "      <td>NaN</td>\n",
              "      <td>NaN</td>\n",
              "      <td>0.420000</td>\n",
              "      <td>NaN</td>\n",
              "      <td>0.000000</td>\n",
              "      <td>NaN</td>\n",
              "      <td>NaN</td>\n",
              "      <td>0.000000</td>\n",
              "      <td>0.000000</td>\n",
              "    </tr>\n",
              "    <tr>\n",
              "      <th>25%</th>\n",
              "      <td>223.500000</td>\n",
              "      <td>0.000000</td>\n",
              "      <td>2.000000</td>\n",
              "      <td>NaN</td>\n",
              "      <td>NaN</td>\n",
              "      <td>20.125000</td>\n",
              "      <td>NaN</td>\n",
              "      <td>7.910400</td>\n",
              "      <td>NaN</td>\n",
              "      <td>NaN</td>\n",
              "      <td>0.000000</td>\n",
              "      <td>0.000000</td>\n",
              "    </tr>\n",
              "    <tr>\n",
              "      <th>50%</th>\n",
              "      <td>446.000000</td>\n",
              "      <td>0.000000</td>\n",
              "      <td>3.000000</td>\n",
              "      <td>NaN</td>\n",
              "      <td>NaN</td>\n",
              "      <td>28.000000</td>\n",
              "      <td>NaN</td>\n",
              "      <td>14.454200</td>\n",
              "      <td>NaN</td>\n",
              "      <td>NaN</td>\n",
              "      <td>0.000000</td>\n",
              "      <td>0.000000</td>\n",
              "    </tr>\n",
              "    <tr>\n",
              "      <th>75%</th>\n",
              "      <td>668.500000</td>\n",
              "      <td>1.000000</td>\n",
              "      <td>3.000000</td>\n",
              "      <td>NaN</td>\n",
              "      <td>NaN</td>\n",
              "      <td>38.000000</td>\n",
              "      <td>NaN</td>\n",
              "      <td>31.000000</td>\n",
              "      <td>NaN</td>\n",
              "      <td>NaN</td>\n",
              "      <td>1.000000</td>\n",
              "      <td>0.000000</td>\n",
              "    </tr>\n",
              "    <tr>\n",
              "      <th>max</th>\n",
              "      <td>891.000000</td>\n",
              "      <td>1.000000</td>\n",
              "      <td>3.000000</td>\n",
              "      <td>NaN</td>\n",
              "      <td>NaN</td>\n",
              "      <td>80.000000</td>\n",
              "      <td>NaN</td>\n",
              "      <td>512.329200</td>\n",
              "      <td>NaN</td>\n",
              "      <td>NaN</td>\n",
              "      <td>8.000000</td>\n",
              "      <td>6.000000</td>\n",
              "    </tr>\n",
              "  </tbody>\n",
              "</table>\n",
              "</div>"
            ],
            "text/plain": [
              "        PassengerId    Survived      Pclass  \\\n",
              "count    891.000000  891.000000  891.000000   \n",
              "unique          NaN         NaN         NaN   \n",
              "top             NaN         NaN         NaN   \n",
              "freq            NaN         NaN         NaN   \n",
              "mean     446.000000    0.383838    2.308642   \n",
              "std      257.353842    0.486592    0.836071   \n",
              "min        1.000000    0.000000    1.000000   \n",
              "25%      223.500000    0.000000    2.000000   \n",
              "50%      446.000000    0.000000    3.000000   \n",
              "75%      668.500000    1.000000    3.000000   \n",
              "max      891.000000    1.000000    3.000000   \n",
              "\n",
              "                                         Name   Sex         Age Ticket  \\\n",
              "count                                     891   891  714.000000    891   \n",
              "unique                                    891     2         NaN    681   \n",
              "top     Ryerson, Miss. Susan Parker \"Suzette\"  male         NaN   1601   \n",
              "freq                                        1   577         NaN      7   \n",
              "mean                                      NaN   NaN   29.699118    NaN   \n",
              "std                                       NaN   NaN   14.526497    NaN   \n",
              "min                                       NaN   NaN    0.420000    NaN   \n",
              "25%                                       NaN   NaN   20.125000    NaN   \n",
              "50%                                       NaN   NaN   28.000000    NaN   \n",
              "75%                                       NaN   NaN   38.000000    NaN   \n",
              "max                                       NaN   NaN   80.000000    NaN   \n",
              "\n",
              "              Fare        Cabin Embarked       SibSp       Parch  \n",
              "count   891.000000          204      889  891.000000  891.000000  \n",
              "unique         NaN          147        3         NaN         NaN  \n",
              "top            NaN  C23 C25 C27        S         NaN         NaN  \n",
              "freq           NaN            4      644         NaN         NaN  \n",
              "mean     32.204208          NaN      NaN    0.523008    0.381594  \n",
              "std      49.693429          NaN      NaN    1.102743    0.806057  \n",
              "min       0.000000          NaN      NaN    0.000000    0.000000  \n",
              "25%       7.910400          NaN      NaN    0.000000    0.000000  \n",
              "50%      14.454200          NaN      NaN    0.000000    0.000000  \n",
              "75%      31.000000          NaN      NaN    1.000000    0.000000  \n",
              "max     512.329200          NaN      NaN    8.000000    6.000000  "
            ]
          },
          "metadata": {
            "tags": []
          },
          "execution_count": 29
        }
      ]
    },
    {
      "cell_type": "markdown",
      "metadata": {
        "id": "av51HgTNuTPY",
        "colab_type": "text"
      },
      "source": [
        "##### We can drop cabin as more than 50% data is not known."
      ]
    },
    {
      "cell_type": "code",
      "metadata": {
        "id": "JAAzjdbguTPb",
        "colab_type": "code",
        "colab": {},
        "outputId": "8d397f63-db34-4982-8d75-5996e4b706f9"
      },
      "source": [
        "titanic = titanic.drop(['Cabin'],axis=1)\n",
        "titanic"
      ],
      "execution_count": null,
      "outputs": [
        {
          "output_type": "execute_result",
          "data": {
            "text/html": [
              "<div>\n",
              "<style scoped>\n",
              "    .dataframe tbody tr th:only-of-type {\n",
              "        vertical-align: middle;\n",
              "    }\n",
              "\n",
              "    .dataframe tbody tr th {\n",
              "        vertical-align: top;\n",
              "    }\n",
              "\n",
              "    .dataframe thead th {\n",
              "        text-align: right;\n",
              "    }\n",
              "</style>\n",
              "<table border=\"1\" class=\"dataframe\">\n",
              "  <thead>\n",
              "    <tr style=\"text-align: right;\">\n",
              "      <th></th>\n",
              "      <th>PassengerId</th>\n",
              "      <th>Survived</th>\n",
              "      <th>Pclass</th>\n",
              "      <th>Name</th>\n",
              "      <th>Sex</th>\n",
              "      <th>Age</th>\n",
              "      <th>Ticket</th>\n",
              "      <th>Fare</th>\n",
              "      <th>Embarked</th>\n",
              "      <th>SibSp</th>\n",
              "      <th>Parch</th>\n",
              "    </tr>\n",
              "  </thead>\n",
              "  <tbody>\n",
              "    <tr>\n",
              "      <th>0</th>\n",
              "      <td>1</td>\n",
              "      <td>0</td>\n",
              "      <td>3</td>\n",
              "      <td>Braund, Mr. Owen Harris</td>\n",
              "      <td>male</td>\n",
              "      <td>22.0</td>\n",
              "      <td>A/5 21171</td>\n",
              "      <td>7.2500</td>\n",
              "      <td>S</td>\n",
              "      <td>1</td>\n",
              "      <td>0</td>\n",
              "    </tr>\n",
              "    <tr>\n",
              "      <th>1</th>\n",
              "      <td>2</td>\n",
              "      <td>1</td>\n",
              "      <td>1</td>\n",
              "      <td>Cumings, Mrs. John Bradley (Florence Briggs Th...</td>\n",
              "      <td>female</td>\n",
              "      <td>38.0</td>\n",
              "      <td>PC 17599</td>\n",
              "      <td>71.2833</td>\n",
              "      <td>C</td>\n",
              "      <td>1</td>\n",
              "      <td>0</td>\n",
              "    </tr>\n",
              "    <tr>\n",
              "      <th>2</th>\n",
              "      <td>3</td>\n",
              "      <td>1</td>\n",
              "      <td>3</td>\n",
              "      <td>Heikkinen, Miss. Laina</td>\n",
              "      <td>female</td>\n",
              "      <td>26.0</td>\n",
              "      <td>STON/O2. 3101282</td>\n",
              "      <td>7.9250</td>\n",
              "      <td>S</td>\n",
              "      <td>0</td>\n",
              "      <td>0</td>\n",
              "    </tr>\n",
              "    <tr>\n",
              "      <th>3</th>\n",
              "      <td>4</td>\n",
              "      <td>1</td>\n",
              "      <td>1</td>\n",
              "      <td>Futrelle, Mrs. Jacques Heath (Lily May Peel)</td>\n",
              "      <td>female</td>\n",
              "      <td>35.0</td>\n",
              "      <td>113803</td>\n",
              "      <td>53.1000</td>\n",
              "      <td>S</td>\n",
              "      <td>1</td>\n",
              "      <td>0</td>\n",
              "    </tr>\n",
              "    <tr>\n",
              "      <th>4</th>\n",
              "      <td>5</td>\n",
              "      <td>0</td>\n",
              "      <td>3</td>\n",
              "      <td>Allen, Mr. William Henry</td>\n",
              "      <td>male</td>\n",
              "      <td>35.0</td>\n",
              "      <td>373450</td>\n",
              "      <td>8.0500</td>\n",
              "      <td>S</td>\n",
              "      <td>0</td>\n",
              "      <td>0</td>\n",
              "    </tr>\n",
              "    <tr>\n",
              "      <th>...</th>\n",
              "      <td>...</td>\n",
              "      <td>...</td>\n",
              "      <td>...</td>\n",
              "      <td>...</td>\n",
              "      <td>...</td>\n",
              "      <td>...</td>\n",
              "      <td>...</td>\n",
              "      <td>...</td>\n",
              "      <td>...</td>\n",
              "      <td>...</td>\n",
              "      <td>...</td>\n",
              "    </tr>\n",
              "    <tr>\n",
              "      <th>886</th>\n",
              "      <td>887</td>\n",
              "      <td>0</td>\n",
              "      <td>2</td>\n",
              "      <td>Montvila, Rev. Juozas</td>\n",
              "      <td>male</td>\n",
              "      <td>27.0</td>\n",
              "      <td>211536</td>\n",
              "      <td>13.0000</td>\n",
              "      <td>S</td>\n",
              "      <td>0</td>\n",
              "      <td>0</td>\n",
              "    </tr>\n",
              "    <tr>\n",
              "      <th>887</th>\n",
              "      <td>888</td>\n",
              "      <td>1</td>\n",
              "      <td>1</td>\n",
              "      <td>Graham, Miss. Margaret Edith</td>\n",
              "      <td>female</td>\n",
              "      <td>19.0</td>\n",
              "      <td>112053</td>\n",
              "      <td>30.0000</td>\n",
              "      <td>S</td>\n",
              "      <td>0</td>\n",
              "      <td>0</td>\n",
              "    </tr>\n",
              "    <tr>\n",
              "      <th>888</th>\n",
              "      <td>889</td>\n",
              "      <td>0</td>\n",
              "      <td>3</td>\n",
              "      <td>Johnston, Miss. Catherine Helen \"Carrie\"</td>\n",
              "      <td>female</td>\n",
              "      <td>NaN</td>\n",
              "      <td>W./C. 6607</td>\n",
              "      <td>23.4500</td>\n",
              "      <td>S</td>\n",
              "      <td>1</td>\n",
              "      <td>2</td>\n",
              "    </tr>\n",
              "    <tr>\n",
              "      <th>889</th>\n",
              "      <td>890</td>\n",
              "      <td>1</td>\n",
              "      <td>1</td>\n",
              "      <td>Behr, Mr. Karl Howell</td>\n",
              "      <td>male</td>\n",
              "      <td>26.0</td>\n",
              "      <td>111369</td>\n",
              "      <td>30.0000</td>\n",
              "      <td>C</td>\n",
              "      <td>0</td>\n",
              "      <td>0</td>\n",
              "    </tr>\n",
              "    <tr>\n",
              "      <th>890</th>\n",
              "      <td>891</td>\n",
              "      <td>0</td>\n",
              "      <td>3</td>\n",
              "      <td>Dooley, Mr. Patrick</td>\n",
              "      <td>male</td>\n",
              "      <td>32.0</td>\n",
              "      <td>370376</td>\n",
              "      <td>7.7500</td>\n",
              "      <td>Q</td>\n",
              "      <td>0</td>\n",
              "      <td>0</td>\n",
              "    </tr>\n",
              "  </tbody>\n",
              "</table>\n",
              "<p>891 rows × 11 columns</p>\n",
              "</div>"
            ],
            "text/plain": [
              "     PassengerId  Survived  Pclass  \\\n",
              "0              1         0       3   \n",
              "1              2         1       1   \n",
              "2              3         1       3   \n",
              "3              4         1       1   \n",
              "4              5         0       3   \n",
              "..           ...       ...     ...   \n",
              "886          887         0       2   \n",
              "887          888         1       1   \n",
              "888          889         0       3   \n",
              "889          890         1       1   \n",
              "890          891         0       3   \n",
              "\n",
              "                                                  Name     Sex   Age  \\\n",
              "0                              Braund, Mr. Owen Harris    male  22.0   \n",
              "1    Cumings, Mrs. John Bradley (Florence Briggs Th...  female  38.0   \n",
              "2                               Heikkinen, Miss. Laina  female  26.0   \n",
              "3         Futrelle, Mrs. Jacques Heath (Lily May Peel)  female  35.0   \n",
              "4                             Allen, Mr. William Henry    male  35.0   \n",
              "..                                                 ...     ...   ...   \n",
              "886                              Montvila, Rev. Juozas    male  27.0   \n",
              "887                       Graham, Miss. Margaret Edith  female  19.0   \n",
              "888           Johnston, Miss. Catherine Helen \"Carrie\"  female   NaN   \n",
              "889                              Behr, Mr. Karl Howell    male  26.0   \n",
              "890                                Dooley, Mr. Patrick    male  32.0   \n",
              "\n",
              "               Ticket     Fare Embarked  SibSp  Parch  \n",
              "0           A/5 21171   7.2500        S      1      0  \n",
              "1            PC 17599  71.2833        C      1      0  \n",
              "2    STON/O2. 3101282   7.9250        S      0      0  \n",
              "3              113803  53.1000        S      1      0  \n",
              "4              373450   8.0500        S      0      0  \n",
              "..                ...      ...      ...    ...    ...  \n",
              "886            211536  13.0000        S      0      0  \n",
              "887            112053  30.0000        S      0      0  \n",
              "888        W./C. 6607  23.4500        S      1      2  \n",
              "889            111369  30.0000        C      0      0  \n",
              "890            370376   7.7500        Q      0      0  \n",
              "\n",
              "[891 rows x 11 columns]"
            ]
          },
          "metadata": {
            "tags": []
          },
          "execution_count": 30
        }
      ]
    },
    {
      "cell_type": "markdown",
      "metadata": {
        "id": "r8OVK8rBuTPr",
        "colab_type": "text"
      },
      "source": [
        "##### Embarked is categorical, therefore we can replace the  missing values with the mode."
      ]
    },
    {
      "cell_type": "code",
      "metadata": {
        "id": "yKFWm6ZUuTPv",
        "colab_type": "code",
        "colab": {},
        "outputId": "c6b99a4c-9893-419f-8247-92cf6ec43345"
      },
      "source": [
        "titanic['Embarked'].mode()"
      ],
      "execution_count": null,
      "outputs": [
        {
          "output_type": "execute_result",
          "data": {
            "text/plain": [
              "0    S\n",
              "dtype: object"
            ]
          },
          "metadata": {
            "tags": []
          },
          "execution_count": 31
        }
      ]
    },
    {
      "cell_type": "code",
      "metadata": {
        "id": "Se45-6giuTP0",
        "colab_type": "code",
        "colab": {}
      },
      "source": [
        "titanic['Embarked'].fillna(value = 'S', inplace = True)"
      ],
      "execution_count": null,
      "outputs": []
    },
    {
      "cell_type": "code",
      "metadata": {
        "id": "uvkMA5jjuTP5",
        "colab_type": "code",
        "colab": {},
        "outputId": "8e2bc0dc-a5f8-43e0-f89a-440fa0e80fcc"
      },
      "source": [
        "titanic.describe(include='all')"
      ],
      "execution_count": null,
      "outputs": [
        {
          "output_type": "execute_result",
          "data": {
            "text/html": [
              "<div>\n",
              "<style scoped>\n",
              "    .dataframe tbody tr th:only-of-type {\n",
              "        vertical-align: middle;\n",
              "    }\n",
              "\n",
              "    .dataframe tbody tr th {\n",
              "        vertical-align: top;\n",
              "    }\n",
              "\n",
              "    .dataframe thead th {\n",
              "        text-align: right;\n",
              "    }\n",
              "</style>\n",
              "<table border=\"1\" class=\"dataframe\">\n",
              "  <thead>\n",
              "    <tr style=\"text-align: right;\">\n",
              "      <th></th>\n",
              "      <th>PassengerId</th>\n",
              "      <th>Survived</th>\n",
              "      <th>Pclass</th>\n",
              "      <th>Name</th>\n",
              "      <th>Sex</th>\n",
              "      <th>Age</th>\n",
              "      <th>Ticket</th>\n",
              "      <th>Fare</th>\n",
              "      <th>Embarked</th>\n",
              "      <th>SibSp</th>\n",
              "      <th>Parch</th>\n",
              "    </tr>\n",
              "  </thead>\n",
              "  <tbody>\n",
              "    <tr>\n",
              "      <th>count</th>\n",
              "      <td>891.000000</td>\n",
              "      <td>891.000000</td>\n",
              "      <td>891.000000</td>\n",
              "      <td>891</td>\n",
              "      <td>891</td>\n",
              "      <td>714.000000</td>\n",
              "      <td>891</td>\n",
              "      <td>891.000000</td>\n",
              "      <td>891</td>\n",
              "      <td>891.000000</td>\n",
              "      <td>891.000000</td>\n",
              "    </tr>\n",
              "    <tr>\n",
              "      <th>unique</th>\n",
              "      <td>NaN</td>\n",
              "      <td>NaN</td>\n",
              "      <td>NaN</td>\n",
              "      <td>891</td>\n",
              "      <td>2</td>\n",
              "      <td>NaN</td>\n",
              "      <td>681</td>\n",
              "      <td>NaN</td>\n",
              "      <td>3</td>\n",
              "      <td>NaN</td>\n",
              "      <td>NaN</td>\n",
              "    </tr>\n",
              "    <tr>\n",
              "      <th>top</th>\n",
              "      <td>NaN</td>\n",
              "      <td>NaN</td>\n",
              "      <td>NaN</td>\n",
              "      <td>Ryerson, Miss. Susan Parker \"Suzette\"</td>\n",
              "      <td>male</td>\n",
              "      <td>NaN</td>\n",
              "      <td>1601</td>\n",
              "      <td>NaN</td>\n",
              "      <td>S</td>\n",
              "      <td>NaN</td>\n",
              "      <td>NaN</td>\n",
              "    </tr>\n",
              "    <tr>\n",
              "      <th>freq</th>\n",
              "      <td>NaN</td>\n",
              "      <td>NaN</td>\n",
              "      <td>NaN</td>\n",
              "      <td>1</td>\n",
              "      <td>577</td>\n",
              "      <td>NaN</td>\n",
              "      <td>7</td>\n",
              "      <td>NaN</td>\n",
              "      <td>646</td>\n",
              "      <td>NaN</td>\n",
              "      <td>NaN</td>\n",
              "    </tr>\n",
              "    <tr>\n",
              "      <th>mean</th>\n",
              "      <td>446.000000</td>\n",
              "      <td>0.383838</td>\n",
              "      <td>2.308642</td>\n",
              "      <td>NaN</td>\n",
              "      <td>NaN</td>\n",
              "      <td>29.699118</td>\n",
              "      <td>NaN</td>\n",
              "      <td>32.204208</td>\n",
              "      <td>NaN</td>\n",
              "      <td>0.523008</td>\n",
              "      <td>0.381594</td>\n",
              "    </tr>\n",
              "    <tr>\n",
              "      <th>std</th>\n",
              "      <td>257.353842</td>\n",
              "      <td>0.486592</td>\n",
              "      <td>0.836071</td>\n",
              "      <td>NaN</td>\n",
              "      <td>NaN</td>\n",
              "      <td>14.526497</td>\n",
              "      <td>NaN</td>\n",
              "      <td>49.693429</td>\n",
              "      <td>NaN</td>\n",
              "      <td>1.102743</td>\n",
              "      <td>0.806057</td>\n",
              "    </tr>\n",
              "    <tr>\n",
              "      <th>min</th>\n",
              "      <td>1.000000</td>\n",
              "      <td>0.000000</td>\n",
              "      <td>1.000000</td>\n",
              "      <td>NaN</td>\n",
              "      <td>NaN</td>\n",
              "      <td>0.420000</td>\n",
              "      <td>NaN</td>\n",
              "      <td>0.000000</td>\n",
              "      <td>NaN</td>\n",
              "      <td>0.000000</td>\n",
              "      <td>0.000000</td>\n",
              "    </tr>\n",
              "    <tr>\n",
              "      <th>25%</th>\n",
              "      <td>223.500000</td>\n",
              "      <td>0.000000</td>\n",
              "      <td>2.000000</td>\n",
              "      <td>NaN</td>\n",
              "      <td>NaN</td>\n",
              "      <td>20.125000</td>\n",
              "      <td>NaN</td>\n",
              "      <td>7.910400</td>\n",
              "      <td>NaN</td>\n",
              "      <td>0.000000</td>\n",
              "      <td>0.000000</td>\n",
              "    </tr>\n",
              "    <tr>\n",
              "      <th>50%</th>\n",
              "      <td>446.000000</td>\n",
              "      <td>0.000000</td>\n",
              "      <td>3.000000</td>\n",
              "      <td>NaN</td>\n",
              "      <td>NaN</td>\n",
              "      <td>28.000000</td>\n",
              "      <td>NaN</td>\n",
              "      <td>14.454200</td>\n",
              "      <td>NaN</td>\n",
              "      <td>0.000000</td>\n",
              "      <td>0.000000</td>\n",
              "    </tr>\n",
              "    <tr>\n",
              "      <th>75%</th>\n",
              "      <td>668.500000</td>\n",
              "      <td>1.000000</td>\n",
              "      <td>3.000000</td>\n",
              "      <td>NaN</td>\n",
              "      <td>NaN</td>\n",
              "      <td>38.000000</td>\n",
              "      <td>NaN</td>\n",
              "      <td>31.000000</td>\n",
              "      <td>NaN</td>\n",
              "      <td>1.000000</td>\n",
              "      <td>0.000000</td>\n",
              "    </tr>\n",
              "    <tr>\n",
              "      <th>max</th>\n",
              "      <td>891.000000</td>\n",
              "      <td>1.000000</td>\n",
              "      <td>3.000000</td>\n",
              "      <td>NaN</td>\n",
              "      <td>NaN</td>\n",
              "      <td>80.000000</td>\n",
              "      <td>NaN</td>\n",
              "      <td>512.329200</td>\n",
              "      <td>NaN</td>\n",
              "      <td>8.000000</td>\n",
              "      <td>6.000000</td>\n",
              "    </tr>\n",
              "  </tbody>\n",
              "</table>\n",
              "</div>"
            ],
            "text/plain": [
              "        PassengerId    Survived      Pclass  \\\n",
              "count    891.000000  891.000000  891.000000   \n",
              "unique          NaN         NaN         NaN   \n",
              "top             NaN         NaN         NaN   \n",
              "freq            NaN         NaN         NaN   \n",
              "mean     446.000000    0.383838    2.308642   \n",
              "std      257.353842    0.486592    0.836071   \n",
              "min        1.000000    0.000000    1.000000   \n",
              "25%      223.500000    0.000000    2.000000   \n",
              "50%      446.000000    0.000000    3.000000   \n",
              "75%      668.500000    1.000000    3.000000   \n",
              "max      891.000000    1.000000    3.000000   \n",
              "\n",
              "                                         Name   Sex         Age Ticket  \\\n",
              "count                                     891   891  714.000000    891   \n",
              "unique                                    891     2         NaN    681   \n",
              "top     Ryerson, Miss. Susan Parker \"Suzette\"  male         NaN   1601   \n",
              "freq                                        1   577         NaN      7   \n",
              "mean                                      NaN   NaN   29.699118    NaN   \n",
              "std                                       NaN   NaN   14.526497    NaN   \n",
              "min                                       NaN   NaN    0.420000    NaN   \n",
              "25%                                       NaN   NaN   20.125000    NaN   \n",
              "50%                                       NaN   NaN   28.000000    NaN   \n",
              "75%                                       NaN   NaN   38.000000    NaN   \n",
              "max                                       NaN   NaN   80.000000    NaN   \n",
              "\n",
              "              Fare Embarked       SibSp       Parch  \n",
              "count   891.000000      891  891.000000  891.000000  \n",
              "unique         NaN        3         NaN         NaN  \n",
              "top            NaN        S         NaN         NaN  \n",
              "freq           NaN      646         NaN         NaN  \n",
              "mean     32.204208      NaN    0.523008    0.381594  \n",
              "std      49.693429      NaN    1.102743    0.806057  \n",
              "min       0.000000      NaN    0.000000    0.000000  \n",
              "25%       7.910400      NaN    0.000000    0.000000  \n",
              "50%      14.454200      NaN    0.000000    0.000000  \n",
              "75%      31.000000      NaN    1.000000    0.000000  \n",
              "max     512.329200      NaN    8.000000    6.000000  "
            ]
          },
          "metadata": {
            "tags": []
          },
          "execution_count": 33
        }
      ]
    },
    {
      "cell_type": "code",
      "metadata": {
        "id": "CqL9PL3BuTP-",
        "colab_type": "code",
        "colab": {},
        "outputId": "192def8a-d19d-438a-a734-163b06d8ec1c"
      },
      "source": [
        "sns.distplot(titanic['Age'],bins = 8)"
      ],
      "execution_count": null,
      "outputs": [
        {
          "output_type": "execute_result",
          "data": {
            "text/plain": [
              "<matplotlib.axes._subplots.AxesSubplot at 0x25894dd2cc8>"
            ]
          },
          "metadata": {
            "tags": []
          },
          "execution_count": 34
        },
        {
          "output_type": "display_data",
          "data": {
            "image/png": "[encoded data removed]",
            "text/plain": [
              "<Figure size 432x288 with 1 Axes>"
            ]
          },
          "metadata": {
            "tags": [],
            "needs_background": "light"
          }
        }
      ]
    },
    {
      "cell_type": "markdown",
      "metadata": {
        "id": "gUR4Y_bQuTQD",
        "colab_type": "text"
      },
      "source": [
        "##### This is right skewed(mean>median). Therefore we can replace age with median."
      ]
    },
    {
      "cell_type": "code",
      "metadata": {
        "id": "onYbOTO7uTQE",
        "colab_type": "code",
        "colab": {}
      },
      "source": [
        "titanic['Age'].fillna(value = titanic['Age'].median(), inplace = True)\n"
      ],
      "execution_count": null,
      "outputs": []
    },
    {
      "cell_type": "code",
      "metadata": {
        "id": "GTCwSQKluTQK",
        "colab_type": "code",
        "colab": {},
        "outputId": "43db4737-dd41-4999-8975-5777bb797c44"
      },
      "source": [
        "titanic.isnull().sum()"
      ],
      "execution_count": null,
      "outputs": [
        {
          "output_type": "execute_result",
          "data": {
            "text/plain": [
              "PassengerId    0\n",
              "Survived       0\n",
              "Pclass         0\n",
              "Name           0\n",
              "Sex            0\n",
              "Age            0\n",
              "Ticket         0\n",
              "Fare           0\n",
              "Embarked       0\n",
              "SibSp          0\n",
              "Parch          0\n",
              "dtype: int64"
            ]
          },
          "metadata": {
            "tags": []
          },
          "execution_count": 36
        }
      ]
    },
    {
      "cell_type": "markdown",
      "metadata": {
        "id": "hdKkNL8MuTQO",
        "colab_type": "text"
      },
      "source": [
        "##### Now there are no missing values."
      ]
    },
    {
      "cell_type": "markdown",
      "metadata": {
        "id": "urNvUsGUuTQP",
        "colab_type": "text"
      },
      "source": [
        "### 5. Outliers"
      ]
    },
    {
      "cell_type": "code",
      "metadata": {
        "id": "AQGfo_zVuTQQ",
        "colab_type": "code",
        "colab": {},
        "outputId": "ebf01320-d418-441d-9a63-87665eb910f1"
      },
      "source": [
        "titanic.head()"
      ],
      "execution_count": null,
      "outputs": [
        {
          "output_type": "execute_result",
          "data": {
            "text/html": [
              "<div>\n",
              "<style scoped>\n",
              "    .dataframe tbody tr th:only-of-type {\n",
              "        vertical-align: middle;\n",
              "    }\n",
              "\n",
              "    .dataframe tbody tr th {\n",
              "        vertical-align: top;\n",
              "    }\n",
              "\n",
              "    .dataframe thead th {\n",
              "        text-align: right;\n",
              "    }\n",
              "</style>\n",
              "<table border=\"1\" class=\"dataframe\">\n",
              "  <thead>\n",
              "    <tr style=\"text-align: right;\">\n",
              "      <th></th>\n",
              "      <th>PassengerId</th>\n",
              "      <th>Survived</th>\n",
              "      <th>Pclass</th>\n",
              "      <th>Name</th>\n",
              "      <th>Sex</th>\n",
              "      <th>Age</th>\n",
              "      <th>Ticket</th>\n",
              "      <th>Fare</th>\n",
              "      <th>Embarked</th>\n",
              "      <th>SibSp</th>\n",
              "      <th>Parch</th>\n",
              "    </tr>\n",
              "  </thead>\n",
              "  <tbody>\n",
              "    <tr>\n",
              "      <th>0</th>\n",
              "      <td>1</td>\n",
              "      <td>0</td>\n",
              "      <td>3</td>\n",
              "      <td>Braund, Mr. Owen Harris</td>\n",
              "      <td>male</td>\n",
              "      <td>22.0</td>\n",
              "      <td>A/5 21171</td>\n",
              "      <td>7.2500</td>\n",
              "      <td>S</td>\n",
              "      <td>1</td>\n",
              "      <td>0</td>\n",
              "    </tr>\n",
              "    <tr>\n",
              "      <th>1</th>\n",
              "      <td>2</td>\n",
              "      <td>1</td>\n",
              "      <td>1</td>\n",
              "      <td>Cumings, Mrs. John Bradley (Florence Briggs Th...</td>\n",
              "      <td>female</td>\n",
              "      <td>38.0</td>\n",
              "      <td>PC 17599</td>\n",
              "      <td>71.2833</td>\n",
              "      <td>C</td>\n",
              "      <td>1</td>\n",
              "      <td>0</td>\n",
              "    </tr>\n",
              "    <tr>\n",
              "      <th>2</th>\n",
              "      <td>3</td>\n",
              "      <td>1</td>\n",
              "      <td>3</td>\n",
              "      <td>Heikkinen, Miss. Laina</td>\n",
              "      <td>female</td>\n",
              "      <td>26.0</td>\n",
              "      <td>STON/O2. 3101282</td>\n",
              "      <td>7.9250</td>\n",
              "      <td>S</td>\n",
              "      <td>0</td>\n",
              "      <td>0</td>\n",
              "    </tr>\n",
              "    <tr>\n",
              "      <th>3</th>\n",
              "      <td>4</td>\n",
              "      <td>1</td>\n",
              "      <td>1</td>\n",
              "      <td>Futrelle, Mrs. Jacques Heath (Lily May Peel)</td>\n",
              "      <td>female</td>\n",
              "      <td>35.0</td>\n",
              "      <td>113803</td>\n",
              "      <td>53.1000</td>\n",
              "      <td>S</td>\n",
              "      <td>1</td>\n",
              "      <td>0</td>\n",
              "    </tr>\n",
              "    <tr>\n",
              "      <th>4</th>\n",
              "      <td>5</td>\n",
              "      <td>0</td>\n",
              "      <td>3</td>\n",
              "      <td>Allen, Mr. William Henry</td>\n",
              "      <td>male</td>\n",
              "      <td>35.0</td>\n",
              "      <td>373450</td>\n",
              "      <td>8.0500</td>\n",
              "      <td>S</td>\n",
              "      <td>0</td>\n",
              "      <td>0</td>\n",
              "    </tr>\n",
              "  </tbody>\n",
              "</table>\n",
              "</div>"
            ],
            "text/plain": [
              "   PassengerId  Survived  Pclass  \\\n",
              "0            1         0       3   \n",
              "1            2         1       1   \n",
              "2            3         1       3   \n",
              "3            4         1       1   \n",
              "4            5         0       3   \n",
              "\n",
              "                                                Name     Sex   Age  \\\n",
              "0                            Braund, Mr. Owen Harris    male  22.0   \n",
              "1  Cumings, Mrs. John Bradley (Florence Briggs Th...  female  38.0   \n",
              "2                             Heikkinen, Miss. Laina  female  26.0   \n",
              "3       Futrelle, Mrs. Jacques Heath (Lily May Peel)  female  35.0   \n",
              "4                           Allen, Mr. William Henry    male  35.0   \n",
              "\n",
              "             Ticket     Fare Embarked  SibSp  Parch  \n",
              "0         A/5 21171   7.2500        S      1      0  \n",
              "1          PC 17599  71.2833        C      1      0  \n",
              "2  STON/O2. 3101282   7.9250        S      0      0  \n",
              "3            113803  53.1000        S      1      0  \n",
              "4            373450   8.0500        S      0      0  "
            ]
          },
          "metadata": {
            "tags": []
          },
          "execution_count": 37
        }
      ]
    },
    {
      "cell_type": "code",
      "metadata": {
        "id": "XuV1ntW4uTQY",
        "colab_type": "code",
        "colab": {},
        "outputId": "492a4766-c5ed-4381-90b5-ad028e4a50c1"
      },
      "source": [
        "titanic['Age']"
      ],
      "execution_count": null,
      "outputs": [
        {
          "output_type": "execute_result",
          "data": {
            "text/plain": [
              "0      22.0\n",
              "1      38.0\n",
              "2      26.0\n",
              "3      35.0\n",
              "4      35.0\n",
              "       ... \n",
              "886    27.0\n",
              "887    19.0\n",
              "888    28.0\n",
              "889    26.0\n",
              "890    32.0\n",
              "Name: Age, Length: 891, dtype: float64"
            ]
          },
          "metadata": {
            "tags": []
          },
          "execution_count": 38
        }
      ]
    },
    {
      "cell_type": "code",
      "metadata": {
        "id": "0ciFhj4luTQb",
        "colab_type": "code",
        "colab": {},
        "outputId": "2e465632-b5f0-40e3-ba22-4af66066d5f0"
      },
      "source": [
        "sns.boxplot(y='Age', data = titanic)"
      ],
      "execution_count": null,
      "outputs": [
        {
          "output_type": "execute_result",
          "data": {
            "text/plain": [
              "<matplotlib.axes._subplots.AxesSubplot at 0x25894e67748>"
            ]
          },
          "metadata": {
            "tags": []
          },
          "execution_count": 39
        },
        {
          "output_type": "display_data",
          "data": {
            "image/png": "[encoded data removed]",
            "text/plain": [
              "<Figure size 432x288 with 1 Axes>"
            ]
          },
          "metadata": {
            "tags": [],
            "needs_background": "light"
          }
        }
      ]
    },
    {
      "cell_type": "code",
      "metadata": {
        "id": "xMLmxvBkuTQk",
        "colab_type": "code",
        "colab": {},
        "outputId": "5583da39-d7dc-418d-bed4-b044a202887e"
      },
      "source": [
        "sns.boxplot(y='Fare', data = titanic)"
      ],
      "execution_count": null,
      "outputs": [
        {
          "output_type": "execute_result",
          "data": {
            "text/plain": [
              "<matplotlib.axes._subplots.AxesSubplot at 0x25894ebba48>"
            ]
          },
          "metadata": {
            "tags": []
          },
          "execution_count": 40
        },
        {
          "output_type": "display_data",
          "data": {
            "image/png": "[encoded data removed]",
            "text/plain": [
              "<Figure size 432x288 with 1 Axes>"
            ]
          },
          "metadata": {
            "tags": [],
            "needs_background": "light"
          }
        }
      ]
    },
    {
      "cell_type": "code",
      "metadata": {
        "id": "il4c6M4kuTQq",
        "colab_type": "code",
        "colab": {},
        "outputId": "df8be4d3-8047-451d-aed6-337cc3266eb0"
      },
      "source": [
        "plt.figure(figsize=(15,10))\n",
        "plt.scatter(titanic['Age'],titanic['Fare'])\n",
        "plt.title(\"Age vs Fare\")\n",
        "plt.xlabel('Age')\n",
        "plt.ylabel('Fare')\n",
        "plt.grid()"
      ],
      "execution_count": null,
      "outputs": [
        {
          "output_type": "display_data",
          "data": {
            "image/png": "[encoded data removed]",
            "text/plain": [
              "<Figure size 1080x720 with 1 Axes>"
            ]
          },
          "metadata": {
            "tags": [],
            "needs_background": "light"
          }
        }
      ]
    },
    {
      "cell_type": "code",
      "metadata": {
        "id": "hsaP2DghuTQv",
        "colab_type": "code",
        "colab": {},
        "outputId": "bc4943f7-55ed-465e-f77d-b23ea9a6c5a7"
      },
      "source": [
        "titanic['Age'].describe()"
      ],
      "execution_count": null,
      "outputs": [
        {
          "output_type": "execute_result",
          "data": {
            "text/plain": [
              "count    891.000000\n",
              "mean      29.361582\n",
              "std       13.019697\n",
              "min        0.420000\n",
              "25%       22.000000\n",
              "50%       28.000000\n",
              "75%       35.000000\n",
              "max       80.000000\n",
              "Name: Age, dtype: float64"
            ]
          },
          "metadata": {
            "tags": []
          },
          "execution_count": 42
        }
      ]
    },
    {
      "cell_type": "code",
      "metadata": {
        "id": "00WN_ZlLuTQz",
        "colab_type": "code",
        "colab": {},
        "outputId": "85857ca9-4cea-4f88-a5ed-091b76fadfa3"
      },
      "source": [
        "IQR = titanic['Age'].quantile(0.75)-titanic['Age'].quantile(0.25)\n",
        "print(IQR)"
      ],
      "execution_count": null,
      "outputs": [
        {
          "output_type": "stream",
          "text": [
            "13.0\n"
          ],
          "name": "stdout"
        }
      ]
    },
    {
      "cell_type": "code",
      "metadata": {
        "id": "2XUuiFaTuTQ5",
        "colab_type": "code",
        "colab": {},
        "outputId": "e0b28381-ca61-4a28-9bc4-676d9c7b11ba"
      },
      "source": [
        "upper_outlier_limit = titanic['Age'].quantile(0.75) + 1.5*IQR\n",
        "lower_outlier_limit = titanic['Age'].quantile(0.25) - 1.5*IQR\n",
        "print(upper_outlier_limit)\n",
        "print(lower_outlier_limit)"
      ],
      "execution_count": null,
      "outputs": [
        {
          "output_type": "stream",
          "text": [
            "54.5\n",
            "2.5\n"
          ],
          "name": "stdout"
        }
      ]
    },
    {
      "cell_type": "code",
      "metadata": {
        "id": "S9JfpPdsuTRB",
        "colab_type": "code",
        "colab": {}
      },
      "source": [
        "OutlierValues = titanic[(titanic['Age']>upper_outlier_limit)|(titanic['Age']<=lower_outlier_limit)]"
      ],
      "execution_count": null,
      "outputs": []
    },
    {
      "cell_type": "code",
      "metadata": {
        "scrolled": false,
        "id": "49N-dsVCuTRE",
        "colab_type": "code",
        "colab": {},
        "outputId": "c358e3aa-5210-4919-c32f-06dafaee74e1"
      },
      "source": [
        "OutlierValues"
      ],
      "execution_count": null,
      "outputs": [
        {
          "output_type": "execute_result",
          "data": {
            "text/html": [
              "<div>\n",
              "<style scoped>\n",
              "    .dataframe tbody tr th:only-of-type {\n",
              "        vertical-align: middle;\n",
              "    }\n",
              "\n",
              "    .dataframe tbody tr th {\n",
              "        vertical-align: top;\n",
              "    }\n",
              "\n",
              "    .dataframe thead th {\n",
              "        text-align: right;\n",
              "    }\n",
              "</style>\n",
              "<table border=\"1\" class=\"dataframe\">\n",
              "  <thead>\n",
              "    <tr style=\"text-align: right;\">\n",
              "      <th></th>\n",
              "      <th>PassengerId</th>\n",
              "      <th>Survived</th>\n",
              "      <th>Pclass</th>\n",
              "      <th>Name</th>\n",
              "      <th>Sex</th>\n",
              "      <th>Age</th>\n",
              "      <th>Ticket</th>\n",
              "      <th>Fare</th>\n",
              "      <th>Embarked</th>\n",
              "      <th>SibSp</th>\n",
              "      <th>Parch</th>\n",
              "    </tr>\n",
              "  </thead>\n",
              "  <tbody>\n",
              "    <tr>\n",
              "      <th>7</th>\n",
              "      <td>8</td>\n",
              "      <td>0</td>\n",
              "      <td>3</td>\n",
              "      <td>Palsson, Master. Gosta Leonard</td>\n",
              "      <td>male</td>\n",
              "      <td>2.00</td>\n",
              "      <td>349909</td>\n",
              "      <td>21.0750</td>\n",
              "      <td>S</td>\n",
              "      <td>3</td>\n",
              "      <td>1</td>\n",
              "    </tr>\n",
              "    <tr>\n",
              "      <th>11</th>\n",
              "      <td>12</td>\n",
              "      <td>1</td>\n",
              "      <td>1</td>\n",
              "      <td>Bonnell, Miss. Elizabeth</td>\n",
              "      <td>female</td>\n",
              "      <td>58.00</td>\n",
              "      <td>113783</td>\n",
              "      <td>26.5500</td>\n",
              "      <td>S</td>\n",
              "      <td>0</td>\n",
              "      <td>0</td>\n",
              "    </tr>\n",
              "    <tr>\n",
              "      <th>15</th>\n",
              "      <td>16</td>\n",
              "      <td>1</td>\n",
              "      <td>2</td>\n",
              "      <td>Hewlett, Mrs. (Mary D Kingcome)</td>\n",
              "      <td>female</td>\n",
              "      <td>55.00</td>\n",
              "      <td>248706</td>\n",
              "      <td>16.0000</td>\n",
              "      <td>S</td>\n",
              "      <td>0</td>\n",
              "      <td>0</td>\n",
              "    </tr>\n",
              "    <tr>\n",
              "      <th>16</th>\n",
              "      <td>17</td>\n",
              "      <td>0</td>\n",
              "      <td>3</td>\n",
              "      <td>Rice, Master. Eugene</td>\n",
              "      <td>male</td>\n",
              "      <td>2.00</td>\n",
              "      <td>382652</td>\n",
              "      <td>29.1250</td>\n",
              "      <td>Q</td>\n",
              "      <td>4</td>\n",
              "      <td>1</td>\n",
              "    </tr>\n",
              "    <tr>\n",
              "      <th>33</th>\n",
              "      <td>34</td>\n",
              "      <td>0</td>\n",
              "      <td>2</td>\n",
              "      <td>Wheadon, Mr. Edward H</td>\n",
              "      <td>male</td>\n",
              "      <td>66.00</td>\n",
              "      <td>C.A. 24579</td>\n",
              "      <td>10.5000</td>\n",
              "      <td>S</td>\n",
              "      <td>0</td>\n",
              "      <td>0</td>\n",
              "    </tr>\n",
              "    <tr>\n",
              "      <th>...</th>\n",
              "      <td>...</td>\n",
              "      <td>...</td>\n",
              "      <td>...</td>\n",
              "      <td>...</td>\n",
              "      <td>...</td>\n",
              "      <td>...</td>\n",
              "      <td>...</td>\n",
              "      <td>...</td>\n",
              "      <td>...</td>\n",
              "      <td>...</td>\n",
              "      <td>...</td>\n",
              "    </tr>\n",
              "    <tr>\n",
              "      <th>827</th>\n",
              "      <td>828</td>\n",
              "      <td>1</td>\n",
              "      <td>2</td>\n",
              "      <td>Mallet, Master. Andre</td>\n",
              "      <td>male</td>\n",
              "      <td>1.00</td>\n",
              "      <td>S.C./PARIS 2079</td>\n",
              "      <td>37.0042</td>\n",
              "      <td>C</td>\n",
              "      <td>0</td>\n",
              "      <td>2</td>\n",
              "    </tr>\n",
              "    <tr>\n",
              "      <th>829</th>\n",
              "      <td>830</td>\n",
              "      <td>1</td>\n",
              "      <td>1</td>\n",
              "      <td>Stone, Mrs. George Nelson (Martha Evelyn)</td>\n",
              "      <td>female</td>\n",
              "      <td>62.00</td>\n",
              "      <td>113572</td>\n",
              "      <td>80.0000</td>\n",
              "      <td>S</td>\n",
              "      <td>0</td>\n",
              "      <td>0</td>\n",
              "    </tr>\n",
              "    <tr>\n",
              "      <th>831</th>\n",
              "      <td>832</td>\n",
              "      <td>1</td>\n",
              "      <td>2</td>\n",
              "      <td>Richards, Master. George Sibley</td>\n",
              "      <td>male</td>\n",
              "      <td>0.83</td>\n",
              "      <td>29106</td>\n",
              "      <td>18.7500</td>\n",
              "      <td>S</td>\n",
              "      <td>1</td>\n",
              "      <td>1</td>\n",
              "    </tr>\n",
              "    <tr>\n",
              "      <th>851</th>\n",
              "      <td>852</td>\n",
              "      <td>0</td>\n",
              "      <td>3</td>\n",
              "      <td>Svensson, Mr. Johan</td>\n",
              "      <td>male</td>\n",
              "      <td>74.00</td>\n",
              "      <td>347060</td>\n",
              "      <td>7.7750</td>\n",
              "      <td>S</td>\n",
              "      <td>0</td>\n",
              "      <td>0</td>\n",
              "    </tr>\n",
              "    <tr>\n",
              "      <th>879</th>\n",
              "      <td>880</td>\n",
              "      <td>1</td>\n",
              "      <td>1</td>\n",
              "      <td>Potter, Mrs. Thomas Jr (Lily Alexenia Wilson)</td>\n",
              "      <td>female</td>\n",
              "      <td>56.00</td>\n",
              "      <td>11767</td>\n",
              "      <td>83.1583</td>\n",
              "      <td>C</td>\n",
              "      <td>0</td>\n",
              "      <td>1</td>\n",
              "    </tr>\n",
              "  </tbody>\n",
              "</table>\n",
              "<p>66 rows × 11 columns</p>\n",
              "</div>"
            ],
            "text/plain": [
              "     PassengerId  Survived  Pclass  \\\n",
              "7              8         0       3   \n",
              "11            12         1       1   \n",
              "15            16         1       2   \n",
              "16            17         0       3   \n",
              "33            34         0       2   \n",
              "..           ...       ...     ...   \n",
              "827          828         1       2   \n",
              "829          830         1       1   \n",
              "831          832         1       2   \n",
              "851          852         0       3   \n",
              "879          880         1       1   \n",
              "\n",
              "                                              Name     Sex    Age  \\\n",
              "7                   Palsson, Master. Gosta Leonard    male   2.00   \n",
              "11                        Bonnell, Miss. Elizabeth  female  58.00   \n",
              "15                Hewlett, Mrs. (Mary D Kingcome)   female  55.00   \n",
              "16                            Rice, Master. Eugene    male   2.00   \n",
              "33                           Wheadon, Mr. Edward H    male  66.00   \n",
              "..                                             ...     ...    ...   \n",
              "827                          Mallet, Master. Andre    male   1.00   \n",
              "829      Stone, Mrs. George Nelson (Martha Evelyn)  female  62.00   \n",
              "831                Richards, Master. George Sibley    male   0.83   \n",
              "851                            Svensson, Mr. Johan    male  74.00   \n",
              "879  Potter, Mrs. Thomas Jr (Lily Alexenia Wilson)  female  56.00   \n",
              "\n",
              "              Ticket     Fare Embarked  SibSp  Parch  \n",
              "7             349909  21.0750        S      3      1  \n",
              "11            113783  26.5500        S      0      0  \n",
              "15            248706  16.0000        S      0      0  \n",
              "16            382652  29.1250        Q      4      1  \n",
              "33        C.A. 24579  10.5000        S      0      0  \n",
              "..               ...      ...      ...    ...    ...  \n",
              "827  S.C./PARIS 2079  37.0042        C      0      2  \n",
              "829           113572  80.0000        S      0      0  \n",
              "831            29106  18.7500        S      1      1  \n",
              "851           347060   7.7750        S      0      0  \n",
              "879            11767  83.1583        C      0      1  \n",
              "\n",
              "[66 rows x 11 columns]"
            ]
          },
          "metadata": {
            "tags": []
          },
          "execution_count": 46
        }
      ]
    },
    {
      "cell_type": "markdown",
      "metadata": {
        "id": "YAgQJ_yUuTRH",
        "colab_type": "text"
      },
      "source": [
        "##### There are 66 outliers for age"
      ]
    },
    {
      "cell_type": "code",
      "metadata": {
        "id": "K-W05HW8uTRK",
        "colab_type": "code",
        "colab": {},
        "outputId": "bbe65e16-9207-4597-e5f1-5a9c9d77d837"
      },
      "source": [
        "UpperOutlierValues = titanic[(titanic['Age']>upper_outlier_limit)]\n",
        "UpperOutlierValues.describe()\n"
      ],
      "execution_count": null,
      "outputs": [
        {
          "output_type": "execute_result",
          "data": {
            "text/html": [
              "<div>\n",
              "<style scoped>\n",
              "    .dataframe tbody tr th:only-of-type {\n",
              "        vertical-align: middle;\n",
              "    }\n",
              "\n",
              "    .dataframe tbody tr th {\n",
              "        vertical-align: top;\n",
              "    }\n",
              "\n",
              "    .dataframe thead th {\n",
              "        text-align: right;\n",
              "    }\n",
              "</style>\n",
              "<table border=\"1\" class=\"dataframe\">\n",
              "  <thead>\n",
              "    <tr style=\"text-align: right;\">\n",
              "      <th></th>\n",
              "      <th>PassengerId</th>\n",
              "      <th>Survived</th>\n",
              "      <th>Pclass</th>\n",
              "      <th>Age</th>\n",
              "      <th>Fare</th>\n",
              "      <th>SibSp</th>\n",
              "      <th>Parch</th>\n",
              "    </tr>\n",
              "  </thead>\n",
              "  <tbody>\n",
              "    <tr>\n",
              "      <th>count</th>\n",
              "      <td>42.000000</td>\n",
              "      <td>42.000000</td>\n",
              "      <td>42.000000</td>\n",
              "      <td>42.000000</td>\n",
              "      <td>42.000000</td>\n",
              "      <td>42.000000</td>\n",
              "      <td>42.000000</td>\n",
              "    </tr>\n",
              "    <tr>\n",
              "      <th>mean</th>\n",
              "      <td>429.452381</td>\n",
              "      <td>0.309524</td>\n",
              "      <td>1.523810</td>\n",
              "      <td>62.000000</td>\n",
              "      <td>44.612598</td>\n",
              "      <td>0.142857</td>\n",
              "      <td>0.285714</td>\n",
              "    </tr>\n",
              "    <tr>\n",
              "      <th>std</th>\n",
              "      <td>254.040059</td>\n",
              "      <td>0.467901</td>\n",
              "      <td>0.772645</td>\n",
              "      <td>5.705154</td>\n",
              "      <td>49.940953</td>\n",
              "      <td>0.354169</td>\n",
              "      <td>0.741972</td>\n",
              "    </tr>\n",
              "    <tr>\n",
              "      <th>min</th>\n",
              "      <td>12.000000</td>\n",
              "      <td>0.000000</td>\n",
              "      <td>1.000000</td>\n",
              "      <td>55.000000</td>\n",
              "      <td>6.237500</td>\n",
              "      <td>0.000000</td>\n",
              "      <td>0.000000</td>\n",
              "    </tr>\n",
              "    <tr>\n",
              "      <th>25%</th>\n",
              "      <td>205.250000</td>\n",
              "      <td>0.000000</td>\n",
              "      <td>1.000000</td>\n",
              "      <td>58.000000</td>\n",
              "      <td>10.962500</td>\n",
              "      <td>0.000000</td>\n",
              "      <td>0.000000</td>\n",
              "    </tr>\n",
              "    <tr>\n",
              "      <th>50%</th>\n",
              "      <td>476.000000</td>\n",
              "      <td>0.000000</td>\n",
              "      <td>1.000000</td>\n",
              "      <td>61.000000</td>\n",
              "      <td>28.125000</td>\n",
              "      <td>0.000000</td>\n",
              "      <td>0.000000</td>\n",
              "    </tr>\n",
              "    <tr>\n",
              "      <th>75%</th>\n",
              "      <td>630.000000</td>\n",
              "      <td>1.000000</td>\n",
              "      <td>2.000000</td>\n",
              "      <td>64.750000</td>\n",
              "      <td>58.860450</td>\n",
              "      <td>0.000000</td>\n",
              "      <td>0.000000</td>\n",
              "    </tr>\n",
              "    <tr>\n",
              "      <th>max</th>\n",
              "      <td>880.000000</td>\n",
              "      <td>1.000000</td>\n",
              "      <td>3.000000</td>\n",
              "      <td>80.000000</td>\n",
              "      <td>263.000000</td>\n",
              "      <td>1.000000</td>\n",
              "      <td>4.000000</td>\n",
              "    </tr>\n",
              "  </tbody>\n",
              "</table>\n",
              "</div>"
            ],
            "text/plain": [
              "       PassengerId   Survived     Pclass        Age        Fare      SibSp  \\\n",
              "count    42.000000  42.000000  42.000000  42.000000   42.000000  42.000000   \n",
              "mean    429.452381   0.309524   1.523810  62.000000   44.612598   0.142857   \n",
              "std     254.040059   0.467901   0.772645   5.705154   49.940953   0.354169   \n",
              "min      12.000000   0.000000   1.000000  55.000000    6.237500   0.000000   \n",
              "25%     205.250000   0.000000   1.000000  58.000000   10.962500   0.000000   \n",
              "50%     476.000000   0.000000   1.000000  61.000000   28.125000   0.000000   \n",
              "75%     630.000000   1.000000   2.000000  64.750000   58.860450   0.000000   \n",
              "max     880.000000   1.000000   3.000000  80.000000  263.000000   1.000000   \n",
              "\n",
              "           Parch  \n",
              "count  42.000000  \n",
              "mean    0.285714  \n",
              "std     0.741972  \n",
              "min     0.000000  \n",
              "25%     0.000000  \n",
              "50%     0.000000  \n",
              "75%     0.000000  \n",
              "max     4.000000  "
            ]
          },
          "metadata": {
            "tags": []
          },
          "execution_count": 47
        }
      ]
    },
    {
      "cell_type": "code",
      "metadata": {
        "id": "YbzoLL4SuTRS",
        "colab_type": "code",
        "colab": {},
        "outputId": "04923b4e-e11b-4f56-f7ee-19f248d1f21d"
      },
      "source": [
        "A=UpperOutlierValues['Age'].index\n",
        "A"
      ],
      "execution_count": null,
      "outputs": [
        {
          "output_type": "execute_result",
          "data": {
            "text/plain": [
              "Int64Index([ 11,  15,  33,  54,  94,  96, 116, 152, 170, 174, 195, 232, 252,\n",
              "            268, 275, 280, 326, 366, 438, 456, 467, 483, 487, 492, 493, 545,\n",
              "            555, 570, 587, 625, 626, 630, 647, 659, 672, 684, 694, 745, 772,\n",
              "            829, 851, 879],\n",
              "           dtype='int64')"
            ]
          },
          "metadata": {
            "tags": []
          },
          "execution_count": 48
        }
      ]
    },
    {
      "cell_type": "code",
      "metadata": {
        "id": "PcmMZjesuTRX",
        "colab_type": "code",
        "colab": {},
        "outputId": "7892f5f4-7b7e-401e-dd6b-c30d4fa4985c"
      },
      "source": [
        "titanic['Age'].quantile(0.95)"
      ],
      "execution_count": null,
      "outputs": [
        {
          "output_type": "execute_result",
          "data": {
            "text/plain": [
              "54.0"
            ]
          },
          "metadata": {
            "tags": []
          },
          "execution_count": 49
        }
      ]
    },
    {
      "cell_type": "code",
      "metadata": {
        "id": "uqRONdcyuTRf",
        "colab_type": "code",
        "colab": {},
        "outputId": "69670008-7cb2-4983-bd8c-70e0b9154ead"
      },
      "source": [
        "titanic['Age'][A] = titanic['Age'].quantile(0.95)"
      ],
      "execution_count": null,
      "outputs": [
        {
          "output_type": "stream",
          "text": [
            "C:\\Users\\user\\anaconda3\\lib\\site-packages\\ipykernel_launcher.py:1: SettingWithCopyWarning: \n",
            "A value is trying to be set on a copy of a slice from a DataFrame\n",
            "\n",
            "See the caveats in the documentation: https://pandas.pydata.org/pandas-docs/stable/user_guide/indexing.html#returning-a-view-versus-a-copy\n",
            "  \"\"\"Entry point for launching an IPython kernel.\n"
          ],
          "name": "stderr"
        }
      ]
    },
    {
      "cell_type": "code",
      "metadata": {
        "id": "kEWxA0S5uTR1",
        "colab_type": "code",
        "colab": {},
        "outputId": "e1f7e656-917a-4bd8-c156-44a356886f7e"
      },
      "source": [
        "LowerOutlierValues = titanic[(titanic['Age']<=lower_outlier_limit)]\n",
        "LowerOutlierValues.describe()"
      ],
      "execution_count": null,
      "outputs": [
        {
          "output_type": "execute_result",
          "data": {
            "text/html": [
              "<div>\n",
              "<style scoped>\n",
              "    .dataframe tbody tr th:only-of-type {\n",
              "        vertical-align: middle;\n",
              "    }\n",
              "\n",
              "    .dataframe tbody tr th {\n",
              "        vertical-align: top;\n",
              "    }\n",
              "\n",
              "    .dataframe thead th {\n",
              "        text-align: right;\n",
              "    }\n",
              "</style>\n",
              "<table border=\"1\" class=\"dataframe\">\n",
              "  <thead>\n",
              "    <tr style=\"text-align: right;\">\n",
              "      <th></th>\n",
              "      <th>PassengerId</th>\n",
              "      <th>Survived</th>\n",
              "      <th>Pclass</th>\n",
              "      <th>Age</th>\n",
              "      <th>Fare</th>\n",
              "      <th>SibSp</th>\n",
              "      <th>Parch</th>\n",
              "    </tr>\n",
              "  </thead>\n",
              "  <tbody>\n",
              "    <tr>\n",
              "      <th>count</th>\n",
              "      <td>24.000000</td>\n",
              "      <td>24.000000</td>\n",
              "      <td>24.000000</td>\n",
              "      <td>24.000000</td>\n",
              "      <td>24.000000</td>\n",
              "      <td>24.000000</td>\n",
              "      <td>24.000000</td>\n",
              "    </tr>\n",
              "    <tr>\n",
              "      <th>mean</th>\n",
              "      <td>427.875000</td>\n",
              "      <td>0.625000</td>\n",
              "      <td>2.541667</td>\n",
              "      <td>1.340417</td>\n",
              "      <td>35.259896</td>\n",
              "      <td>1.708333</td>\n",
              "      <td>1.375000</td>\n",
              "    </tr>\n",
              "    <tr>\n",
              "      <th>std</th>\n",
              "      <td>281.042054</td>\n",
              "      <td>0.494535</td>\n",
              "      <td>0.658005</td>\n",
              "      <td>0.584335</td>\n",
              "      <td>37.306178</td>\n",
              "      <td>1.573674</td>\n",
              "      <td>0.494535</td>\n",
              "    </tr>\n",
              "    <tr>\n",
              "      <th>min</th>\n",
              "      <td>8.000000</td>\n",
              "      <td>0.000000</td>\n",
              "      <td>1.000000</td>\n",
              "      <td>0.420000</td>\n",
              "      <td>8.516700</td>\n",
              "      <td>0.000000</td>\n",
              "      <td>1.000000</td>\n",
              "    </tr>\n",
              "    <tr>\n",
              "      <th>25%</th>\n",
              "      <td>181.250000</td>\n",
              "      <td>0.000000</td>\n",
              "      <td>2.000000</td>\n",
              "      <td>0.897500</td>\n",
              "      <td>17.997925</td>\n",
              "      <td>0.750000</td>\n",
              "      <td>1.000000</td>\n",
              "    </tr>\n",
              "    <tr>\n",
              "      <th>50%</th>\n",
              "      <td>384.500000</td>\n",
              "      <td>1.000000</td>\n",
              "      <td>3.000000</td>\n",
              "      <td>1.000000</td>\n",
              "      <td>26.000000</td>\n",
              "      <td>1.000000</td>\n",
              "      <td>1.000000</td>\n",
              "    </tr>\n",
              "    <tr>\n",
              "      <th>75%</th>\n",
              "      <td>672.750000</td>\n",
              "      <td>1.000000</td>\n",
              "      <td>3.000000</td>\n",
              "      <td>2.000000</td>\n",
              "      <td>37.503150</td>\n",
              "      <td>3.000000</td>\n",
              "      <td>2.000000</td>\n",
              "    </tr>\n",
              "    <tr>\n",
              "      <th>max</th>\n",
              "      <td>832.000000</td>\n",
              "      <td>1.000000</td>\n",
              "      <td>3.000000</td>\n",
              "      <td>2.000000</td>\n",
              "      <td>151.550000</td>\n",
              "      <td>5.000000</td>\n",
              "      <td>2.000000</td>\n",
              "    </tr>\n",
              "  </tbody>\n",
              "</table>\n",
              "</div>"
            ],
            "text/plain": [
              "       PassengerId   Survived     Pclass        Age        Fare      SibSp  \\\n",
              "count    24.000000  24.000000  24.000000  24.000000   24.000000  24.000000   \n",
              "mean    427.875000   0.625000   2.541667   1.340417   35.259896   1.708333   \n",
              "std     281.042054   0.494535   0.658005   0.584335   37.306178   1.573674   \n",
              "min       8.000000   0.000000   1.000000   0.420000    8.516700   0.000000   \n",
              "25%     181.250000   0.000000   2.000000   0.897500   17.997925   0.750000   \n",
              "50%     384.500000   1.000000   3.000000   1.000000   26.000000   1.000000   \n",
              "75%     672.750000   1.000000   3.000000   2.000000   37.503150   3.000000   \n",
              "max     832.000000   1.000000   3.000000   2.000000  151.550000   5.000000   \n",
              "\n",
              "           Parch  \n",
              "count  24.000000  \n",
              "mean    1.375000  \n",
              "std     0.494535  \n",
              "min     1.000000  \n",
              "25%     1.000000  \n",
              "50%     1.000000  \n",
              "75%     2.000000  \n",
              "max     2.000000  "
            ]
          },
          "metadata": {
            "tags": []
          },
          "execution_count": 51
        }
      ]
    },
    {
      "cell_type": "code",
      "metadata": {
        "id": "MpSWXgTeuTR8",
        "colab_type": "code",
        "colab": {},
        "outputId": "446cf96e-1a3f-4777-c930-7bdd3ee7d046"
      },
      "source": [
        "B=LowerOutlierValues['Age'].index\n",
        "titanic['Age'][B] = titanic['Age'].quantile(0.05)"
      ],
      "execution_count": null,
      "outputs": [
        {
          "output_type": "stream",
          "text": [
            "C:\\Users\\user\\anaconda3\\lib\\site-packages\\ipykernel_launcher.py:2: SettingWithCopyWarning: \n",
            "A value is trying to be set on a copy of a slice from a DataFrame\n",
            "\n",
            "See the caveats in the documentation: https://pandas.pydata.org/pandas-docs/stable/user_guide/indexing.html#returning-a-view-versus-a-copy\n",
            "  \n"
          ],
          "name": "stderr"
        }
      ]
    },
    {
      "cell_type": "code",
      "metadata": {
        "id": "l_Dx9H5VuTSA",
        "colab_type": "code",
        "colab": {},
        "outputId": "296bb74a-6114-4724-9dc4-9ed88ac157fe"
      },
      "source": [
        "sns.boxplot(y='Age', data = titanic)"
      ],
      "execution_count": null,
      "outputs": [
        {
          "output_type": "execute_result",
          "data": {
            "text/plain": [
              "<matplotlib.axes._subplots.AxesSubplot at 0x25894fbd408>"
            ]
          },
          "metadata": {
            "tags": []
          },
          "execution_count": 53
        },
        {
          "output_type": "display_data",
          "data": {
            "image/png": "[encoded data removed]",
            "text/plain": [
              "<Figure size 432x288 with 1 Axes>"
            ]
          },
          "metadata": {
            "tags": [],
            "needs_background": "light"
          }
        }
      ]
    },
    {
      "cell_type": "code",
      "metadata": {
        "id": "ELJXgqPzuTSE",
        "colab_type": "code",
        "colab": {},
        "outputId": "1ee91a00-ad8d-408a-994c-92dc573accdc"
      },
      "source": [
        "IQR = titanic['Age'].quantile(0.75)-titanic['Age'].quantile(0.25)\n",
        "upper_outlier_limit = titanic['Age'].quantile(0.75) + 1.5*IQR\n",
        "lower_outlier_limit = titanic['Age'].quantile(0.25) - 1.5*IQR\n",
        "OutlierValues = titanic[(titanic['Age']>upper_outlier_limit)|(titanic['Age']<=lower_outlier_limit)]\n",
        "OutlierValues.describe()"
      ],
      "execution_count": null,
      "outputs": [
        {
          "output_type": "execute_result",
          "data": {
            "text/html": [
              "<div>\n",
              "<style scoped>\n",
              "    .dataframe tbody tr th:only-of-type {\n",
              "        vertical-align: middle;\n",
              "    }\n",
              "\n",
              "    .dataframe tbody tr th {\n",
              "        vertical-align: top;\n",
              "    }\n",
              "\n",
              "    .dataframe thead th {\n",
              "        text-align: right;\n",
              "    }\n",
              "</style>\n",
              "<table border=\"1\" class=\"dataframe\">\n",
              "  <thead>\n",
              "    <tr style=\"text-align: right;\">\n",
              "      <th></th>\n",
              "      <th>PassengerId</th>\n",
              "      <th>Survived</th>\n",
              "      <th>Pclass</th>\n",
              "      <th>Age</th>\n",
              "      <th>Fare</th>\n",
              "      <th>SibSp</th>\n",
              "      <th>Parch</th>\n",
              "    </tr>\n",
              "  </thead>\n",
              "  <tbody>\n",
              "    <tr>\n",
              "      <th>count</th>\n",
              "      <td>0.0</td>\n",
              "      <td>0.0</td>\n",
              "      <td>0.0</td>\n",
              "      <td>0.0</td>\n",
              "      <td>0.0</td>\n",
              "      <td>0.0</td>\n",
              "      <td>0.0</td>\n",
              "    </tr>\n",
              "    <tr>\n",
              "      <th>mean</th>\n",
              "      <td>NaN</td>\n",
              "      <td>NaN</td>\n",
              "      <td>NaN</td>\n",
              "      <td>NaN</td>\n",
              "      <td>NaN</td>\n",
              "      <td>NaN</td>\n",
              "      <td>NaN</td>\n",
              "    </tr>\n",
              "    <tr>\n",
              "      <th>std</th>\n",
              "      <td>NaN</td>\n",
              "      <td>NaN</td>\n",
              "      <td>NaN</td>\n",
              "      <td>NaN</td>\n",
              "      <td>NaN</td>\n",
              "      <td>NaN</td>\n",
              "      <td>NaN</td>\n",
              "    </tr>\n",
              "    <tr>\n",
              "      <th>min</th>\n",
              "      <td>NaN</td>\n",
              "      <td>NaN</td>\n",
              "      <td>NaN</td>\n",
              "      <td>NaN</td>\n",
              "      <td>NaN</td>\n",
              "      <td>NaN</td>\n",
              "      <td>NaN</td>\n",
              "    </tr>\n",
              "    <tr>\n",
              "      <th>25%</th>\n",
              "      <td>NaN</td>\n",
              "      <td>NaN</td>\n",
              "      <td>NaN</td>\n",
              "      <td>NaN</td>\n",
              "      <td>NaN</td>\n",
              "      <td>NaN</td>\n",
              "      <td>NaN</td>\n",
              "    </tr>\n",
              "    <tr>\n",
              "      <th>50%</th>\n",
              "      <td>NaN</td>\n",
              "      <td>NaN</td>\n",
              "      <td>NaN</td>\n",
              "      <td>NaN</td>\n",
              "      <td>NaN</td>\n",
              "      <td>NaN</td>\n",
              "      <td>NaN</td>\n",
              "    </tr>\n",
              "    <tr>\n",
              "      <th>75%</th>\n",
              "      <td>NaN</td>\n",
              "      <td>NaN</td>\n",
              "      <td>NaN</td>\n",
              "      <td>NaN</td>\n",
              "      <td>NaN</td>\n",
              "      <td>NaN</td>\n",
              "      <td>NaN</td>\n",
              "    </tr>\n",
              "    <tr>\n",
              "      <th>max</th>\n",
              "      <td>NaN</td>\n",
              "      <td>NaN</td>\n",
              "      <td>NaN</td>\n",
              "      <td>NaN</td>\n",
              "      <td>NaN</td>\n",
              "      <td>NaN</td>\n",
              "      <td>NaN</td>\n",
              "    </tr>\n",
              "  </tbody>\n",
              "</table>\n",
              "</div>"
            ],
            "text/plain": [
              "       PassengerId  Survived  Pclass  Age  Fare  SibSp  Parch\n",
              "count          0.0       0.0     0.0  0.0   0.0    0.0    0.0\n",
              "mean           NaN       NaN     NaN  NaN   NaN    NaN    NaN\n",
              "std            NaN       NaN     NaN  NaN   NaN    NaN    NaN\n",
              "min            NaN       NaN     NaN  NaN   NaN    NaN    NaN\n",
              "25%            NaN       NaN     NaN  NaN   NaN    NaN    NaN\n",
              "50%            NaN       NaN     NaN  NaN   NaN    NaN    NaN\n",
              "75%            NaN       NaN     NaN  NaN   NaN    NaN    NaN\n",
              "max            NaN       NaN     NaN  NaN   NaN    NaN    NaN"
            ]
          },
          "metadata": {
            "tags": []
          },
          "execution_count": 54
        }
      ]
    },
    {
      "cell_type": "markdown",
      "metadata": {
        "id": "uO833qX_uTSJ",
        "colab_type": "text"
      },
      "source": [
        "##### There are no outliers for age now."
      ]
    },
    {
      "cell_type": "code",
      "metadata": {
        "id": "_EHqUm-KuTSN",
        "colab_type": "code",
        "colab": {},
        "outputId": "070b30ae-0c36-484e-f04c-1c621ac2405e"
      },
      "source": [
        "IQR_Fare = titanic['Fare'].quantile(0.75)-titanic['Fare'].quantile(0.25)\n",
        "print(IQR_Fare)"
      ],
      "execution_count": null,
      "outputs": [
        {
          "output_type": "stream",
          "text": [
            "23.0896\n"
          ],
          "name": "stdout"
        }
      ]
    },
    {
      "cell_type": "code",
      "metadata": {
        "id": "BXuo_VStuTST",
        "colab_type": "code",
        "colab": {},
        "outputId": "8b07892d-bf65-4564-ed5b-e65328414292"
      },
      "source": [
        "upper_outlier_limit_fare = titanic['Fare'].quantile(0.75) + 1.5*IQR_Fare\n",
        "lower_outlier_limit_fare = titanic['Fare'].quantile(0.25) - 1.5*IQR_Fare\n",
        "print(upper_outlier_limit_fare)\n",
        "print(lower_outlier_limit_fare)"
      ],
      "execution_count": null,
      "outputs": [
        {
          "output_type": "stream",
          "text": [
            "65.6344\n",
            "-26.724\n"
          ],
          "name": "stdout"
        }
      ]
    },
    {
      "cell_type": "code",
      "metadata": {
        "id": "BJ-zOICxuTSa",
        "colab_type": "code",
        "colab": {}
      },
      "source": [
        "OutlierValuesFare = titanic[(titanic['Fare']>upper_outlier_limit_fare)|(titanic['Fare']<=lower_outlier_limit_fare)]"
      ],
      "execution_count": null,
      "outputs": []
    },
    {
      "cell_type": "code",
      "metadata": {
        "id": "Y-MRoJ2KuTSg",
        "colab_type": "code",
        "colab": {},
        "outputId": "e3bbb9d8-c938-47b6-85b3-0e70e70d71e6"
      },
      "source": [
        "OutlierValuesFare"
      ],
      "execution_count": null,
      "outputs": [
        {
          "output_type": "execute_result",
          "data": {
            "text/html": [
              "<div>\n",
              "<style scoped>\n",
              "    .dataframe tbody tr th:only-of-type {\n",
              "        vertical-align: middle;\n",
              "    }\n",
              "\n",
              "    .dataframe tbody tr th {\n",
              "        vertical-align: top;\n",
              "    }\n",
              "\n",
              "    .dataframe thead th {\n",
              "        text-align: right;\n",
              "    }\n",
              "</style>\n",
              "<table border=\"1\" class=\"dataframe\">\n",
              "  <thead>\n",
              "    <tr style=\"text-align: right;\">\n",
              "      <th></th>\n",
              "      <th>PassengerId</th>\n",
              "      <th>Survived</th>\n",
              "      <th>Pclass</th>\n",
              "      <th>Name</th>\n",
              "      <th>Sex</th>\n",
              "      <th>Age</th>\n",
              "      <th>Ticket</th>\n",
              "      <th>Fare</th>\n",
              "      <th>Embarked</th>\n",
              "      <th>SibSp</th>\n",
              "      <th>Parch</th>\n",
              "    </tr>\n",
              "  </thead>\n",
              "  <tbody>\n",
              "    <tr>\n",
              "      <th>1</th>\n",
              "      <td>2</td>\n",
              "      <td>1</td>\n",
              "      <td>1</td>\n",
              "      <td>Cumings, Mrs. John Bradley (Florence Briggs Th...</td>\n",
              "      <td>female</td>\n",
              "      <td>38.0</td>\n",
              "      <td>PC 17599</td>\n",
              "      <td>71.2833</td>\n",
              "      <td>C</td>\n",
              "      <td>1</td>\n",
              "      <td>0</td>\n",
              "    </tr>\n",
              "    <tr>\n",
              "      <th>27</th>\n",
              "      <td>28</td>\n",
              "      <td>0</td>\n",
              "      <td>1</td>\n",
              "      <td>Fortune, Mr. Charles Alexander</td>\n",
              "      <td>male</td>\n",
              "      <td>19.0</td>\n",
              "      <td>19950</td>\n",
              "      <td>263.0000</td>\n",
              "      <td>S</td>\n",
              "      <td>3</td>\n",
              "      <td>2</td>\n",
              "    </tr>\n",
              "    <tr>\n",
              "      <th>31</th>\n",
              "      <td>32</td>\n",
              "      <td>1</td>\n",
              "      <td>1</td>\n",
              "      <td>Spencer, Mrs. William Augustus (Marie Eugenie)</td>\n",
              "      <td>female</td>\n",
              "      <td>28.0</td>\n",
              "      <td>PC 17569</td>\n",
              "      <td>146.5208</td>\n",
              "      <td>C</td>\n",
              "      <td>1</td>\n",
              "      <td>0</td>\n",
              "    </tr>\n",
              "    <tr>\n",
              "      <th>34</th>\n",
              "      <td>35</td>\n",
              "      <td>0</td>\n",
              "      <td>1</td>\n",
              "      <td>Meyer, Mr. Edgar Joseph</td>\n",
              "      <td>male</td>\n",
              "      <td>28.0</td>\n",
              "      <td>PC 17604</td>\n",
              "      <td>82.1708</td>\n",
              "      <td>C</td>\n",
              "      <td>1</td>\n",
              "      <td>0</td>\n",
              "    </tr>\n",
              "    <tr>\n",
              "      <th>52</th>\n",
              "      <td>53</td>\n",
              "      <td>1</td>\n",
              "      <td>1</td>\n",
              "      <td>Harper, Mrs. Henry Sleeper (Myna Haxtun)</td>\n",
              "      <td>female</td>\n",
              "      <td>49.0</td>\n",
              "      <td>PC 17572</td>\n",
              "      <td>76.7292</td>\n",
              "      <td>C</td>\n",
              "      <td>1</td>\n",
              "      <td>0</td>\n",
              "    </tr>\n",
              "    <tr>\n",
              "      <th>...</th>\n",
              "      <td>...</td>\n",
              "      <td>...</td>\n",
              "      <td>...</td>\n",
              "      <td>...</td>\n",
              "      <td>...</td>\n",
              "      <td>...</td>\n",
              "      <td>...</td>\n",
              "      <td>...</td>\n",
              "      <td>...</td>\n",
              "      <td>...</td>\n",
              "      <td>...</td>\n",
              "    </tr>\n",
              "    <tr>\n",
              "      <th>846</th>\n",
              "      <td>847</td>\n",
              "      <td>0</td>\n",
              "      <td>3</td>\n",
              "      <td>Sage, Mr. Douglas Bullen</td>\n",
              "      <td>male</td>\n",
              "      <td>28.0</td>\n",
              "      <td>CA. 2343</td>\n",
              "      <td>69.5500</td>\n",
              "      <td>S</td>\n",
              "      <td>8</td>\n",
              "      <td>2</td>\n",
              "    </tr>\n",
              "    <tr>\n",
              "      <th>849</th>\n",
              "      <td>850</td>\n",
              "      <td>1</td>\n",
              "      <td>1</td>\n",
              "      <td>Goldenberg, Mrs. Samuel L (Edwiga Grabowska)</td>\n",
              "      <td>female</td>\n",
              "      <td>28.0</td>\n",
              "      <td>17453</td>\n",
              "      <td>89.1042</td>\n",
              "      <td>C</td>\n",
              "      <td>1</td>\n",
              "      <td>0</td>\n",
              "    </tr>\n",
              "    <tr>\n",
              "      <th>856</th>\n",
              "      <td>857</td>\n",
              "      <td>1</td>\n",
              "      <td>1</td>\n",
              "      <td>Wick, Mrs. George Dennick (Mary Hitchcock)</td>\n",
              "      <td>female</td>\n",
              "      <td>45.0</td>\n",
              "      <td>36928</td>\n",
              "      <td>164.8667</td>\n",
              "      <td>S</td>\n",
              "      <td>1</td>\n",
              "      <td>1</td>\n",
              "    </tr>\n",
              "    <tr>\n",
              "      <th>863</th>\n",
              "      <td>864</td>\n",
              "      <td>0</td>\n",
              "      <td>3</td>\n",
              "      <td>Sage, Miss. Dorothy Edith \"Dolly\"</td>\n",
              "      <td>female</td>\n",
              "      <td>28.0</td>\n",
              "      <td>CA. 2343</td>\n",
              "      <td>69.5500</td>\n",
              "      <td>S</td>\n",
              "      <td>8</td>\n",
              "      <td>2</td>\n",
              "    </tr>\n",
              "    <tr>\n",
              "      <th>879</th>\n",
              "      <td>880</td>\n",
              "      <td>1</td>\n",
              "      <td>1</td>\n",
              "      <td>Potter, Mrs. Thomas Jr (Lily Alexenia Wilson)</td>\n",
              "      <td>female</td>\n",
              "      <td>54.0</td>\n",
              "      <td>11767</td>\n",
              "      <td>83.1583</td>\n",
              "      <td>C</td>\n",
              "      <td>0</td>\n",
              "      <td>1</td>\n",
              "    </tr>\n",
              "  </tbody>\n",
              "</table>\n",
              "<p>116 rows × 11 columns</p>\n",
              "</div>"
            ],
            "text/plain": [
              "     PassengerId  Survived  Pclass  \\\n",
              "1              2         1       1   \n",
              "27            28         0       1   \n",
              "31            32         1       1   \n",
              "34            35         0       1   \n",
              "52            53         1       1   \n",
              "..           ...       ...     ...   \n",
              "846          847         0       3   \n",
              "849          850         1       1   \n",
              "856          857         1       1   \n",
              "863          864         0       3   \n",
              "879          880         1       1   \n",
              "\n",
              "                                                  Name     Sex   Age  \\\n",
              "1    Cumings, Mrs. John Bradley (Florence Briggs Th...  female  38.0   \n",
              "27                      Fortune, Mr. Charles Alexander    male  19.0   \n",
              "31      Spencer, Mrs. William Augustus (Marie Eugenie)  female  28.0   \n",
              "34                             Meyer, Mr. Edgar Joseph    male  28.0   \n",
              "52            Harper, Mrs. Henry Sleeper (Myna Haxtun)  female  49.0   \n",
              "..                                                 ...     ...   ...   \n",
              "846                           Sage, Mr. Douglas Bullen    male  28.0   \n",
              "849       Goldenberg, Mrs. Samuel L (Edwiga Grabowska)  female  28.0   \n",
              "856         Wick, Mrs. George Dennick (Mary Hitchcock)  female  45.0   \n",
              "863                  Sage, Miss. Dorothy Edith \"Dolly\"  female  28.0   \n",
              "879      Potter, Mrs. Thomas Jr (Lily Alexenia Wilson)  female  54.0   \n",
              "\n",
              "       Ticket      Fare Embarked  SibSp  Parch  \n",
              "1    PC 17599   71.2833        C      1      0  \n",
              "27      19950  263.0000        S      3      2  \n",
              "31   PC 17569  146.5208        C      1      0  \n",
              "34   PC 17604   82.1708        C      1      0  \n",
              "52   PC 17572   76.7292        C      1      0  \n",
              "..        ...       ...      ...    ...    ...  \n",
              "846  CA. 2343   69.5500        S      8      2  \n",
              "849     17453   89.1042        C      1      0  \n",
              "856     36928  164.8667        S      1      1  \n",
              "863  CA. 2343   69.5500        S      8      2  \n",
              "879     11767   83.1583        C      0      1  \n",
              "\n",
              "[116 rows x 11 columns]"
            ]
          },
          "metadata": {
            "tags": []
          },
          "execution_count": 58
        }
      ]
    },
    {
      "cell_type": "markdown",
      "metadata": {
        "id": "2RtBG8bxuTSl",
        "colab_type": "text"
      },
      "source": [
        "##### There are 116 outliers for Fare"
      ]
    },
    {
      "cell_type": "code",
      "metadata": {
        "id": "_hqKRmmRuTSm",
        "colab_type": "code",
        "colab": {},
        "outputId": "69f66ac6-348d-4d01-f9fc-bf2814d6e424"
      },
      "source": [
        "UpperOutlierValuesFare = titanic[(titanic['Fare']>upper_outlier_limit_fare)]\n",
        "UpperOutlierValuesFare.describe()"
      ],
      "execution_count": null,
      "outputs": [
        {
          "output_type": "execute_result",
          "data": {
            "text/html": [
              "<div>\n",
              "<style scoped>\n",
              "    .dataframe tbody tr th:only-of-type {\n",
              "        vertical-align: middle;\n",
              "    }\n",
              "\n",
              "    .dataframe tbody tr th {\n",
              "        vertical-align: top;\n",
              "    }\n",
              "\n",
              "    .dataframe thead th {\n",
              "        text-align: right;\n",
              "    }\n",
              "</style>\n",
              "<table border=\"1\" class=\"dataframe\">\n",
              "  <thead>\n",
              "    <tr style=\"text-align: right;\">\n",
              "      <th></th>\n",
              "      <th>PassengerId</th>\n",
              "      <th>Survived</th>\n",
              "      <th>Pclass</th>\n",
              "      <th>Age</th>\n",
              "      <th>Fare</th>\n",
              "      <th>SibSp</th>\n",
              "      <th>Parch</th>\n",
              "    </tr>\n",
              "  </thead>\n",
              "  <tbody>\n",
              "    <tr>\n",
              "      <th>count</th>\n",
              "      <td>116.000000</td>\n",
              "      <td>116.000000</td>\n",
              "      <td>116.000000</td>\n",
              "      <td>116.000000</td>\n",
              "      <td>116.000000</td>\n",
              "      <td>116.000000</td>\n",
              "      <td>116.000000</td>\n",
              "    </tr>\n",
              "    <tr>\n",
              "      <th>mean</th>\n",
              "      <td>447.293103</td>\n",
              "      <td>0.681034</td>\n",
              "      <td>1.163793</td>\n",
              "      <td>32.939655</td>\n",
              "      <td>128.291629</td>\n",
              "      <td>1.094828</td>\n",
              "      <td>0.655172</td>\n",
              "    </tr>\n",
              "    <tr>\n",
              "      <th>std</th>\n",
              "      <td>239.131654</td>\n",
              "      <td>0.468098</td>\n",
              "      <td>0.509799</td>\n",
              "      <td>12.559624</td>\n",
              "      <td>84.636908</td>\n",
              "      <td>1.892679</td>\n",
              "      <td>0.885668</td>\n",
              "    </tr>\n",
              "    <tr>\n",
              "      <th>min</th>\n",
              "      <td>2.000000</td>\n",
              "      <td>0.000000</td>\n",
              "      <td>1.000000</td>\n",
              "      <td>4.000000</td>\n",
              "      <td>66.600000</td>\n",
              "      <td>0.000000</td>\n",
              "      <td>0.000000</td>\n",
              "    </tr>\n",
              "    <tr>\n",
              "      <th>25%</th>\n",
              "      <td>269.750000</td>\n",
              "      <td>0.000000</td>\n",
              "      <td>1.000000</td>\n",
              "      <td>24.000000</td>\n",
              "      <td>78.189600</td>\n",
              "      <td>0.000000</td>\n",
              "      <td>0.000000</td>\n",
              "    </tr>\n",
              "    <tr>\n",
              "      <th>50%</th>\n",
              "      <td>403.500000</td>\n",
              "      <td>1.000000</td>\n",
              "      <td>1.000000</td>\n",
              "      <td>30.000000</td>\n",
              "      <td>90.000000</td>\n",
              "      <td>1.000000</td>\n",
              "      <td>0.000000</td>\n",
              "    </tr>\n",
              "    <tr>\n",
              "      <th>75%</th>\n",
              "      <td>660.250000</td>\n",
              "      <td>1.000000</td>\n",
              "      <td>1.000000</td>\n",
              "      <td>41.250000</td>\n",
              "      <td>147.778100</td>\n",
              "      <td>1.000000</td>\n",
              "      <td>1.000000</td>\n",
              "    </tr>\n",
              "    <tr>\n",
              "      <th>max</th>\n",
              "      <td>880.000000</td>\n",
              "      <td>1.000000</td>\n",
              "      <td>3.000000</td>\n",
              "      <td>54.000000</td>\n",
              "      <td>512.329200</td>\n",
              "      <td>8.000000</td>\n",
              "      <td>4.000000</td>\n",
              "    </tr>\n",
              "  </tbody>\n",
              "</table>\n",
              "</div>"
            ],
            "text/plain": [
              "       PassengerId    Survived      Pclass         Age        Fare  \\\n",
              "count   116.000000  116.000000  116.000000  116.000000  116.000000   \n",
              "mean    447.293103    0.681034    1.163793   32.939655  128.291629   \n",
              "std     239.131654    0.468098    0.509799   12.559624   84.636908   \n",
              "min       2.000000    0.000000    1.000000    4.000000   66.600000   \n",
              "25%     269.750000    0.000000    1.000000   24.000000   78.189600   \n",
              "50%     403.500000    1.000000    1.000000   30.000000   90.000000   \n",
              "75%     660.250000    1.000000    1.000000   41.250000  147.778100   \n",
              "max     880.000000    1.000000    3.000000   54.000000  512.329200   \n",
              "\n",
              "            SibSp       Parch  \n",
              "count  116.000000  116.000000  \n",
              "mean     1.094828    0.655172  \n",
              "std      1.892679    0.885668  \n",
              "min      0.000000    0.000000  \n",
              "25%      0.000000    0.000000  \n",
              "50%      1.000000    0.000000  \n",
              "75%      1.000000    1.000000  \n",
              "max      8.000000    4.000000  "
            ]
          },
          "metadata": {
            "tags": []
          },
          "execution_count": 59
        }
      ]
    },
    {
      "cell_type": "code",
      "metadata": {
        "id": "-5bBzRFfuTSq",
        "colab_type": "code",
        "colab": {},
        "outputId": "e18c1c9c-8fdc-477c-e935-ac13c2043e7d"
      },
      "source": [
        "A_Fare=UpperOutlierValuesFare['Fare'].index\n",
        "print(A_Fare)\n"
      ],
      "execution_count": null,
      "outputs": [
        {
          "output_type": "stream",
          "text": [
            "Int64Index([  1,  27,  31,  34,  52,  61,  62,  72,  88, 102,\n",
            "            ...\n",
            "            792, 802, 820, 829, 835, 846, 849, 856, 863, 879],\n",
            "           dtype='int64', length=116)\n"
          ],
          "name": "stdout"
        }
      ]
    },
    {
      "cell_type": "code",
      "metadata": {
        "id": "jQjNWb2OuTSx",
        "colab_type": "code",
        "colab": {},
        "outputId": "cdeb341f-f894-486b-b010-206ccada1714"
      },
      "source": [
        "titanic['Fare'].quantile(0.85)\n"
      ],
      "execution_count": null,
      "outputs": [
        {
          "output_type": "execute_result",
          "data": {
            "text/plain": [
              "56.4958"
            ]
          },
          "metadata": {
            "tags": []
          },
          "execution_count": 61
        }
      ]
    },
    {
      "cell_type": "code",
      "metadata": {
        "id": "y4WxtFKiuTS2",
        "colab_type": "code",
        "colab": {},
        "outputId": "2da49cdd-7e09-4f48-c7ed-943c17a0ea76"
      },
      "source": [
        "titanic['Fare'][A_Fare] = titanic['Fare'].quantile(0.85)"
      ],
      "execution_count": null,
      "outputs": [
        {
          "output_type": "stream",
          "text": [
            "C:\\Users\\user\\anaconda3\\lib\\site-packages\\ipykernel_launcher.py:1: SettingWithCopyWarning: \n",
            "A value is trying to be set on a copy of a slice from a DataFrame\n",
            "\n",
            "See the caveats in the documentation: https://pandas.pydata.org/pandas-docs/stable/user_guide/indexing.html#returning-a-view-versus-a-copy\n",
            "  \"\"\"Entry point for launching an IPython kernel.\n"
          ],
          "name": "stderr"
        }
      ]
    },
    {
      "cell_type": "code",
      "metadata": {
        "id": "i_iQvTC-uTS5",
        "colab_type": "code",
        "colab": {},
        "outputId": "5c7f6a33-defb-4969-f7cf-b2d6bd54eed9"
      },
      "source": [
        "sns.boxplot(y='Fare', data = titanic)"
      ],
      "execution_count": null,
      "outputs": [
        {
          "output_type": "execute_result",
          "data": {
            "text/plain": [
              "<matplotlib.axes._subplots.AxesSubplot at 0x2589500b388>"
            ]
          },
          "metadata": {
            "tags": []
          },
          "execution_count": 63
        },
        {
          "output_type": "display_data",
          "data": {
            "image/png": "[encoded data removed]",
            "text/plain": [
              "<Figure size 432x288 with 1 Axes>"
            ]
          },
          "metadata": {
            "tags": [],
            "needs_background": "light"
          }
        }
      ]
    },
    {
      "cell_type": "code",
      "metadata": {
        "id": "qEVSVzZCuTS7",
        "colab_type": "code",
        "colab": {},
        "outputId": "03211058-a440-46ee-b9b9-83365e2f2e1f"
      },
      "source": [
        "IQR_Fare = titanic['Fare'].quantile(0.75)-titanic['Fare'].quantile(0.25)\n",
        "upper_outlier_limit_fare_final = titanic['Fare'].quantile(0.75) + 1.5*IQR_Fare\n",
        "lower_outlier_limit_fare_final = titanic['Fare'].quantile(0.25) - 1.5*IQR_Fare\n",
        "OutlierValuesFares = titanic[(titanic['Fare']>upper_outlier_limit_fare_final)|(titanic['Fare']<=lower_outlier_limit_fare_final)]\n",
        "OutlierValuesFares.describe()"
      ],
      "execution_count": null,
      "outputs": [
        {
          "output_type": "execute_result",
          "data": {
            "text/html": [
              "<div>\n",
              "<style scoped>\n",
              "    .dataframe tbody tr th:only-of-type {\n",
              "        vertical-align: middle;\n",
              "    }\n",
              "\n",
              "    .dataframe tbody tr th {\n",
              "        vertical-align: top;\n",
              "    }\n",
              "\n",
              "    .dataframe thead th {\n",
              "        text-align: right;\n",
              "    }\n",
              "</style>\n",
              "<table border=\"1\" class=\"dataframe\">\n",
              "  <thead>\n",
              "    <tr style=\"text-align: right;\">\n",
              "      <th></th>\n",
              "      <th>PassengerId</th>\n",
              "      <th>Survived</th>\n",
              "      <th>Pclass</th>\n",
              "      <th>Age</th>\n",
              "      <th>Fare</th>\n",
              "      <th>SibSp</th>\n",
              "      <th>Parch</th>\n",
              "    </tr>\n",
              "  </thead>\n",
              "  <tbody>\n",
              "    <tr>\n",
              "      <th>count</th>\n",
              "      <td>0.0</td>\n",
              "      <td>0.0</td>\n",
              "      <td>0.0</td>\n",
              "      <td>0.0</td>\n",
              "      <td>0.0</td>\n",
              "      <td>0.0</td>\n",
              "      <td>0.0</td>\n",
              "    </tr>\n",
              "    <tr>\n",
              "      <th>mean</th>\n",
              "      <td>NaN</td>\n",
              "      <td>NaN</td>\n",
              "      <td>NaN</td>\n",
              "      <td>NaN</td>\n",
              "      <td>NaN</td>\n",
              "      <td>NaN</td>\n",
              "      <td>NaN</td>\n",
              "    </tr>\n",
              "    <tr>\n",
              "      <th>std</th>\n",
              "      <td>NaN</td>\n",
              "      <td>NaN</td>\n",
              "      <td>NaN</td>\n",
              "      <td>NaN</td>\n",
              "      <td>NaN</td>\n",
              "      <td>NaN</td>\n",
              "      <td>NaN</td>\n",
              "    </tr>\n",
              "    <tr>\n",
              "      <th>min</th>\n",
              "      <td>NaN</td>\n",
              "      <td>NaN</td>\n",
              "      <td>NaN</td>\n",
              "      <td>NaN</td>\n",
              "      <td>NaN</td>\n",
              "      <td>NaN</td>\n",
              "      <td>NaN</td>\n",
              "    </tr>\n",
              "    <tr>\n",
              "      <th>25%</th>\n",
              "      <td>NaN</td>\n",
              "      <td>NaN</td>\n",
              "      <td>NaN</td>\n",
              "      <td>NaN</td>\n",
              "      <td>NaN</td>\n",
              "      <td>NaN</td>\n",
              "      <td>NaN</td>\n",
              "    </tr>\n",
              "    <tr>\n",
              "      <th>50%</th>\n",
              "      <td>NaN</td>\n",
              "      <td>NaN</td>\n",
              "      <td>NaN</td>\n",
              "      <td>NaN</td>\n",
              "      <td>NaN</td>\n",
              "      <td>NaN</td>\n",
              "      <td>NaN</td>\n",
              "    </tr>\n",
              "    <tr>\n",
              "      <th>75%</th>\n",
              "      <td>NaN</td>\n",
              "      <td>NaN</td>\n",
              "      <td>NaN</td>\n",
              "      <td>NaN</td>\n",
              "      <td>NaN</td>\n",
              "      <td>NaN</td>\n",
              "      <td>NaN</td>\n",
              "    </tr>\n",
              "    <tr>\n",
              "      <th>max</th>\n",
              "      <td>NaN</td>\n",
              "      <td>NaN</td>\n",
              "      <td>NaN</td>\n",
              "      <td>NaN</td>\n",
              "      <td>NaN</td>\n",
              "      <td>NaN</td>\n",
              "      <td>NaN</td>\n",
              "    </tr>\n",
              "  </tbody>\n",
              "</table>\n",
              "</div>"
            ],
            "text/plain": [
              "       PassengerId  Survived  Pclass  Age  Fare  SibSp  Parch\n",
              "count          0.0       0.0     0.0  0.0   0.0    0.0    0.0\n",
              "mean           NaN       NaN     NaN  NaN   NaN    NaN    NaN\n",
              "std            NaN       NaN     NaN  NaN   NaN    NaN    NaN\n",
              "min            NaN       NaN     NaN  NaN   NaN    NaN    NaN\n",
              "25%            NaN       NaN     NaN  NaN   NaN    NaN    NaN\n",
              "50%            NaN       NaN     NaN  NaN   NaN    NaN    NaN\n",
              "75%            NaN       NaN     NaN  NaN   NaN    NaN    NaN\n",
              "max            NaN       NaN     NaN  NaN   NaN    NaN    NaN"
            ]
          },
          "metadata": {
            "tags": []
          },
          "execution_count": 64
        }
      ]
    },
    {
      "cell_type": "markdown",
      "metadata": {
        "id": "uH-35GSTuTS-",
        "colab_type": "text"
      },
      "source": [
        "##### There are no outliers for fare now."
      ]
    },
    {
      "cell_type": "code",
      "metadata": {
        "id": "dNG0FYTruTTC",
        "colab_type": "code",
        "colab": {},
        "outputId": "eba89a36-90f9-4447-dc20-46a252f20c00"
      },
      "source": [
        "sns.boxplot(y='SibSp', data = titanic)"
      ],
      "execution_count": null,
      "outputs": [
        {
          "output_type": "execute_result",
          "data": {
            "text/plain": [
              "<matplotlib.axes._subplots.AxesSubplot at 0x258950880c8>"
            ]
          },
          "metadata": {
            "tags": []
          },
          "execution_count": 65
        },
        {
          "output_type": "display_data",
          "data": {
            "image/png": "[encoded data removed]",
            "text/plain": [
              "<Figure size 432x288 with 1 Axes>"
            ]
          },
          "metadata": {
            "tags": [],
            "needs_background": "light"
          }
        }
      ]
    },
    {
      "cell_type": "markdown",
      "metadata": {
        "id": "OPUoSknfuTTG",
        "colab_type": "text"
      },
      "source": [
        "#### There are outliers."
      ]
    },
    {
      "cell_type": "code",
      "metadata": {
        "id": "oZ44XUDYuTTG",
        "colab_type": "code",
        "colab": {},
        "outputId": "d17c6e1c-5ea0-4a9a-b90e-9d546db62f6e"
      },
      "source": [
        "IQR_SibSp = titanic['SibSp'].quantile(0.75)-titanic['SibSp'].quantile(0.25)\n",
        "print(IQR_SibSp)\n",
        "upper_outlier_limit_SibSp = titanic['SibSp'].quantile(0.75) + 1.5*IQR_SibSp\n",
        "lower_outlier_limit_SibSp = titanic['SibSp'].quantile(0.25) - 1.5*IQR_SibSp\n",
        "print(upper_outlier_limit_SibSp)\n",
        "print(lower_outlier_limit_SibSp)\n",
        "OutlierSibSp = titanic[(titanic['SibSp']>upper_outlier_limit_SibSp)|(titanic['SibSp']<=lower_outlier_limit_SibSp)]"
      ],
      "execution_count": null,
      "outputs": [
        {
          "output_type": "stream",
          "text": [
            "1.0\n",
            "2.5\n",
            "-1.5\n"
          ],
          "name": "stdout"
        }
      ]
    },
    {
      "cell_type": "code",
      "metadata": {
        "id": "CNRmoFayuTTK",
        "colab_type": "code",
        "colab": {},
        "outputId": "81a6de3e-53f6-42c8-c1ee-6d1d89b2dd52"
      },
      "source": [
        "OutlierSibSp.describe()"
      ],
      "execution_count": null,
      "outputs": [
        {
          "output_type": "execute_result",
          "data": {
            "text/html": [
              "<div>\n",
              "<style scoped>\n",
              "    .dataframe tbody tr th:only-of-type {\n",
              "        vertical-align: middle;\n",
              "    }\n",
              "\n",
              "    .dataframe tbody tr th {\n",
              "        vertical-align: top;\n",
              "    }\n",
              "\n",
              "    .dataframe thead th {\n",
              "        text-align: right;\n",
              "    }\n",
              "</style>\n",
              "<table border=\"1\" class=\"dataframe\">\n",
              "  <thead>\n",
              "    <tr style=\"text-align: right;\">\n",
              "      <th></th>\n",
              "      <th>PassengerId</th>\n",
              "      <th>Survived</th>\n",
              "      <th>Pclass</th>\n",
              "      <th>Age</th>\n",
              "      <th>Fare</th>\n",
              "      <th>SibSp</th>\n",
              "      <th>Parch</th>\n",
              "    </tr>\n",
              "  </thead>\n",
              "  <tbody>\n",
              "    <tr>\n",
              "      <th>count</th>\n",
              "      <td>46.000000</td>\n",
              "      <td>46.000000</td>\n",
              "      <td>46.000000</td>\n",
              "      <td>46.000000</td>\n",
              "      <td>46.000000</td>\n",
              "      <td>46.000000</td>\n",
              "      <td>46.000000</td>\n",
              "    </tr>\n",
              "    <tr>\n",
              "      <th>mean</th>\n",
              "      <td>371.086957</td>\n",
              "      <td>0.152174</td>\n",
              "      <td>2.847826</td>\n",
              "      <td>14.847826</td>\n",
              "      <td>36.660865</td>\n",
              "      <td>4.369565</td>\n",
              "      <td>1.565217</td>\n",
              "    </tr>\n",
              "    <tr>\n",
              "      <th>std</th>\n",
              "      <td>288.262598</td>\n",
              "      <td>0.363158</td>\n",
              "      <td>0.514993</td>\n",
              "      <td>9.890438</td>\n",
              "      <td>13.334149</td>\n",
              "      <td>1.678077</td>\n",
              "      <td>0.583178</td>\n",
              "    </tr>\n",
              "    <tr>\n",
              "      <th>min</th>\n",
              "      <td>8.000000</td>\n",
              "      <td>0.000000</td>\n",
              "      <td>1.000000</td>\n",
              "      <td>3.000000</td>\n",
              "      <td>7.925000</td>\n",
              "      <td>3.000000</td>\n",
              "      <td>0.000000</td>\n",
              "    </tr>\n",
              "    <tr>\n",
              "      <th>25%</th>\n",
              "      <td>130.000000</td>\n",
              "      <td>0.000000</td>\n",
              "      <td>3.000000</td>\n",
              "      <td>6.000000</td>\n",
              "      <td>27.900000</td>\n",
              "      <td>3.000000</td>\n",
              "      <td>1.000000</td>\n",
              "    </tr>\n",
              "    <tr>\n",
              "      <th>50%</th>\n",
              "      <td>273.000000</td>\n",
              "      <td>0.000000</td>\n",
              "      <td>3.000000</td>\n",
              "      <td>10.500000</td>\n",
              "      <td>31.331250</td>\n",
              "      <td>4.000000</td>\n",
              "      <td>2.000000</td>\n",
              "    </tr>\n",
              "    <tr>\n",
              "      <th>75%</th>\n",
              "      <td>641.000000</td>\n",
              "      <td>0.000000</td>\n",
              "      <td>3.000000</td>\n",
              "      <td>28.000000</td>\n",
              "      <td>46.900000</td>\n",
              "      <td>4.750000</td>\n",
              "      <td>2.000000</td>\n",
              "    </tr>\n",
              "    <tr>\n",
              "      <th>max</th>\n",
              "      <td>864.000000</td>\n",
              "      <td>1.000000</td>\n",
              "      <td>3.000000</td>\n",
              "      <td>33.000000</td>\n",
              "      <td>56.495800</td>\n",
              "      <td>8.000000</td>\n",
              "      <td>2.000000</td>\n",
              "    </tr>\n",
              "  </tbody>\n",
              "</table>\n",
              "</div>"
            ],
            "text/plain": [
              "       PassengerId   Survived     Pclass        Age       Fare      SibSp  \\\n",
              "count    46.000000  46.000000  46.000000  46.000000  46.000000  46.000000   \n",
              "mean    371.086957   0.152174   2.847826  14.847826  36.660865   4.369565   \n",
              "std     288.262598   0.363158   0.514993   9.890438  13.334149   1.678077   \n",
              "min       8.000000   0.000000   1.000000   3.000000   7.925000   3.000000   \n",
              "25%     130.000000   0.000000   3.000000   6.000000  27.900000   3.000000   \n",
              "50%     273.000000   0.000000   3.000000  10.500000  31.331250   4.000000   \n",
              "75%     641.000000   0.000000   3.000000  28.000000  46.900000   4.750000   \n",
              "max     864.000000   1.000000   3.000000  33.000000  56.495800   8.000000   \n",
              "\n",
              "           Parch  \n",
              "count  46.000000  \n",
              "mean    1.565217  \n",
              "std     0.583178  \n",
              "min     0.000000  \n",
              "25%     1.000000  \n",
              "50%     2.000000  \n",
              "75%     2.000000  \n",
              "max     2.000000  "
            ]
          },
          "metadata": {
            "tags": []
          },
          "execution_count": 67
        }
      ]
    },
    {
      "cell_type": "markdown",
      "metadata": {
        "id": "qlQWhsIouTTN",
        "colab_type": "text"
      },
      "source": [
        "##### There are 46 outliers"
      ]
    },
    {
      "cell_type": "code",
      "metadata": {
        "id": "MR2s9m5JuTTT",
        "colab_type": "code",
        "colab": {},
        "outputId": "05d8fe42-a947-49ba-c5fe-4166f7db1f09"
      },
      "source": [
        "sns.boxplot(y='Parch', data = titanic)"
      ],
      "execution_count": null,
      "outputs": [
        {
          "output_type": "execute_result",
          "data": {
            "text/plain": [
              "<matplotlib.axes._subplots.AxesSubplot at 0x258950fb208>"
            ]
          },
          "metadata": {
            "tags": []
          },
          "execution_count": 68
        },
        {
          "output_type": "display_data",
          "data": {
            "image/png": "[encoded data removed]",
            "text/plain": [
              "<Figure size 432x288 with 1 Axes>"
            ]
          },
          "metadata": {
            "tags": [],
            "needs_background": "light"
          }
        }
      ]
    },
    {
      "cell_type": "code",
      "metadata": {
        "id": "9-JMZcZ0uTTX",
        "colab_type": "code",
        "colab": {},
        "outputId": "672eec29-fef2-41b3-b523-606a43eb0467"
      },
      "source": [
        "IQR_Parch = titanic['Parch'].quantile(0.75)-titanic['Parch'].quantile(0.25)\n",
        "print(IQR_Parch)\n",
        "upper_outlier_limit_Parch = titanic['Parch'].quantile(0.75) + 1.5*IQR_Parch\n",
        "lower_outlier_limit_Parch = titanic['Parch'].quantile(0.25) - 1.5*IQR_Parch\n",
        "print(upper_outlier_limit_Parch)\n",
        "print(lower_outlier_limit_Parch)\n",
        "OutlierParch = titanic[(titanic['Parch']>upper_outlier_limit_Parch)|(titanic['Parch']<=lower_outlier_limit_Parch)]"
      ],
      "execution_count": null,
      "outputs": [
        {
          "output_type": "stream",
          "text": [
            "0.0\n",
            "0.0\n",
            "0.0\n"
          ],
          "name": "stdout"
        }
      ]
    },
    {
      "cell_type": "code",
      "metadata": {
        "id": "LIUGD1kzuTTa",
        "colab_type": "code",
        "colab": {},
        "outputId": "8baec22d-cda1-4156-dd06-936a8c6a2c2d"
      },
      "source": [
        "OutlierParch.describe()"
      ],
      "execution_count": null,
      "outputs": [
        {
          "output_type": "execute_result",
          "data": {
            "text/html": [
              "<div>\n",
              "<style scoped>\n",
              "    .dataframe tbody tr th:only-of-type {\n",
              "        vertical-align: middle;\n",
              "    }\n",
              "\n",
              "    .dataframe tbody tr th {\n",
              "        vertical-align: top;\n",
              "    }\n",
              "\n",
              "    .dataframe thead th {\n",
              "        text-align: right;\n",
              "    }\n",
              "</style>\n",
              "<table border=\"1\" class=\"dataframe\">\n",
              "  <thead>\n",
              "    <tr style=\"text-align: right;\">\n",
              "      <th></th>\n",
              "      <th>PassengerId</th>\n",
              "      <th>Survived</th>\n",
              "      <th>Pclass</th>\n",
              "      <th>Age</th>\n",
              "      <th>Fare</th>\n",
              "      <th>SibSp</th>\n",
              "      <th>Parch</th>\n",
              "    </tr>\n",
              "  </thead>\n",
              "  <tbody>\n",
              "    <tr>\n",
              "      <th>count</th>\n",
              "      <td>891.000000</td>\n",
              "      <td>891.000000</td>\n",
              "      <td>891.000000</td>\n",
              "      <td>891.000000</td>\n",
              "      <td>891.000000</td>\n",
              "      <td>891.000000</td>\n",
              "      <td>891.000000</td>\n",
              "    </tr>\n",
              "    <tr>\n",
              "      <th>mean</th>\n",
              "      <td>446.000000</td>\n",
              "      <td>0.383838</td>\n",
              "      <td>2.308642</td>\n",
              "      <td>29.109989</td>\n",
              "      <td>22.857052</td>\n",
              "      <td>0.523008</td>\n",
              "      <td>0.381594</td>\n",
              "    </tr>\n",
              "    <tr>\n",
              "      <th>std</th>\n",
              "      <td>257.353842</td>\n",
              "      <td>0.486592</td>\n",
              "      <td>0.836071</td>\n",
              "      <td>11.826281</td>\n",
              "      <td>18.163011</td>\n",
              "      <td>1.102743</td>\n",
              "      <td>0.806057</td>\n",
              "    </tr>\n",
              "    <tr>\n",
              "      <th>min</th>\n",
              "      <td>1.000000</td>\n",
              "      <td>0.000000</td>\n",
              "      <td>1.000000</td>\n",
              "      <td>3.000000</td>\n",
              "      <td>0.000000</td>\n",
              "      <td>0.000000</td>\n",
              "      <td>0.000000</td>\n",
              "    </tr>\n",
              "    <tr>\n",
              "      <th>25%</th>\n",
              "      <td>223.500000</td>\n",
              "      <td>0.000000</td>\n",
              "      <td>2.000000</td>\n",
              "      <td>22.000000</td>\n",
              "      <td>7.910400</td>\n",
              "      <td>0.000000</td>\n",
              "      <td>0.000000</td>\n",
              "    </tr>\n",
              "    <tr>\n",
              "      <th>50%</th>\n",
              "      <td>446.000000</td>\n",
              "      <td>0.000000</td>\n",
              "      <td>3.000000</td>\n",
              "      <td>28.000000</td>\n",
              "      <td>14.454200</td>\n",
              "      <td>0.000000</td>\n",
              "      <td>0.000000</td>\n",
              "    </tr>\n",
              "    <tr>\n",
              "      <th>75%</th>\n",
              "      <td>668.500000</td>\n",
              "      <td>1.000000</td>\n",
              "      <td>3.000000</td>\n",
              "      <td>35.000000</td>\n",
              "      <td>31.000000</td>\n",
              "      <td>1.000000</td>\n",
              "      <td>0.000000</td>\n",
              "    </tr>\n",
              "    <tr>\n",
              "      <th>max</th>\n",
              "      <td>891.000000</td>\n",
              "      <td>1.000000</td>\n",
              "      <td>3.000000</td>\n",
              "      <td>54.000000</td>\n",
              "      <td>65.000000</td>\n",
              "      <td>8.000000</td>\n",
              "      <td>6.000000</td>\n",
              "    </tr>\n",
              "  </tbody>\n",
              "</table>\n",
              "</div>"
            ],
            "text/plain": [
              "       PassengerId    Survived      Pclass         Age        Fare  \\\n",
              "count   891.000000  891.000000  891.000000  891.000000  891.000000   \n",
              "mean    446.000000    0.383838    2.308642   29.109989   22.857052   \n",
              "std     257.353842    0.486592    0.836071   11.826281   18.163011   \n",
              "min       1.000000    0.000000    1.000000    3.000000    0.000000   \n",
              "25%     223.500000    0.000000    2.000000   22.000000    7.910400   \n",
              "50%     446.000000    0.000000    3.000000   28.000000   14.454200   \n",
              "75%     668.500000    1.000000    3.000000   35.000000   31.000000   \n",
              "max     891.000000    1.000000    3.000000   54.000000   65.000000   \n",
              "\n",
              "            SibSp       Parch  \n",
              "count  891.000000  891.000000  \n",
              "mean     0.523008    0.381594  \n",
              "std      1.102743    0.806057  \n",
              "min      0.000000    0.000000  \n",
              "25%      0.000000    0.000000  \n",
              "50%      0.000000    0.000000  \n",
              "75%      1.000000    0.000000  \n",
              "max      8.000000    6.000000  "
            ]
          },
          "metadata": {
            "tags": []
          },
          "execution_count": 70
        }
      ]
    },
    {
      "cell_type": "markdown",
      "metadata": {
        "id": "h3wmxppauTTd",
        "colab_type": "text"
      },
      "source": [
        "##### Both SibSp and Parch have outliers. But we are not removing them as they are natural outliers"
      ]
    },
    {
      "cell_type": "markdown",
      "metadata": {
        "id": "CwWLkO9vuTTf",
        "colab_type": "text"
      },
      "source": [
        "## 6. Variable and Dummy Variable Creation"
      ]
    },
    {
      "cell_type": "code",
      "metadata": {
        "id": "wkvROL5CuTTg",
        "colab_type": "code",
        "colab": {}
      },
      "source": [
        "del titanic['PassengerId']"
      ],
      "execution_count": null,
      "outputs": []
    },
    {
      "cell_type": "code",
      "metadata": {
        "id": "zR4MVIJcuTTk",
        "colab_type": "code",
        "colab": {}
      },
      "source": [
        "del titanic['Name']"
      ],
      "execution_count": null,
      "outputs": []
    },
    {
      "cell_type": "markdown",
      "metadata": {
        "id": "ww5iQ4GsuTTo",
        "colab_type": "text"
      },
      "source": [
        "#### We can also delete ticket as it is not providing any useful value. The information which we could get from ticket can also be acieved by passenger class."
      ]
    },
    {
      "cell_type": "code",
      "metadata": {
        "id": "WlRhXElSuTTp",
        "colab_type": "code",
        "colab": {}
      },
      "source": [
        "del titanic['Ticket']"
      ],
      "execution_count": null,
      "outputs": []
    },
    {
      "cell_type": "code",
      "metadata": {
        "id": "HgJY7IZjuTTs",
        "colab_type": "code",
        "colab": {},
        "outputId": "851d352c-8323-4f5c-a649-c947b0da460b"
      },
      "source": [
        "obj = titanic.dtypes == np.object\n",
        "print(obj)"
      ],
      "execution_count": null,
      "outputs": [
        {
          "output_type": "stream",
          "text": [
            "Survived    False\n",
            "Pclass      False\n",
            "Sex          True\n",
            "Age         False\n",
            "Fare        False\n",
            "Embarked     True\n",
            "SibSp       False\n",
            "Parch       False\n",
            "dtype: bool\n"
          ],
          "name": "stdout"
        }
      ]
    },
    {
      "cell_type": "code",
      "metadata": {
        "id": "pwNhpnS-uTTy",
        "colab_type": "code",
        "colab": {},
        "outputId": "a18d62ee-cc21-49f8-9935-24e1e3b06879"
      },
      "source": [
        "dummydf = pd.DataFrame()\n",
        "\n",
        "for i in titanic.columns[obj]:\n",
        "    dummy = pd.get_dummies(titanic[i], drop_first=True)\n",
        "    \n",
        "    dummydf = pd.concat([dummydf,dummy], axis = 1)\n",
        "    \n",
        "print(dummydf)"
      ],
      "execution_count": null,
      "outputs": [
        {
          "output_type": "stream",
          "text": [
            "     male  Q  S\n",
            "0       1  0  1\n",
            "1       0  0  0\n",
            "2       0  0  1\n",
            "3       0  0  1\n",
            "4       1  0  1\n",
            "..    ... .. ..\n",
            "886     1  0  1\n",
            "887     0  0  1\n",
            "888     0  0  1\n",
            "889     1  0  0\n",
            "890     1  1  0\n",
            "\n",
            "[891 rows x 3 columns]\n"
          ],
          "name": "stdout"
        }
      ]
    },
    {
      "cell_type": "code",
      "metadata": {
        "id": "I9p29KzGuTT9",
        "colab_type": "code",
        "colab": {}
      },
      "source": [
        "titanic1=pd.concat([titanic,dummydf], axis=1)"
      ],
      "execution_count": null,
      "outputs": []
    },
    {
      "cell_type": "code",
      "metadata": {
        "id": "4D2gTyjjuTUD",
        "colab_type": "code",
        "colab": {},
        "outputId": "c491d5b7-ba4d-4682-e45a-67421d0acb2e"
      },
      "source": [
        "titanic1"
      ],
      "execution_count": null,
      "outputs": [
        {
          "output_type": "execute_result",
          "data": {
            "text/html": [
              "<div>\n",
              "<style scoped>\n",
              "    .dataframe tbody tr th:only-of-type {\n",
              "        vertical-align: middle;\n",
              "    }\n",
              "\n",
              "    .dataframe tbody tr th {\n",
              "        vertical-align: top;\n",
              "    }\n",
              "\n",
              "    .dataframe thead th {\n",
              "        text-align: right;\n",
              "    }\n",
              "</style>\n",
              "<table border=\"1\" class=\"dataframe\">\n",
              "  <thead>\n",
              "    <tr style=\"text-align: right;\">\n",
              "      <th></th>\n",
              "      <th>Survived</th>\n",
              "      <th>Pclass</th>\n",
              "      <th>Sex</th>\n",
              "      <th>Age</th>\n",
              "      <th>Fare</th>\n",
              "      <th>Embarked</th>\n",
              "      <th>SibSp</th>\n",
              "      <th>Parch</th>\n",
              "      <th>male</th>\n",
              "      <th>Q</th>\n",
              "      <th>S</th>\n",
              "    </tr>\n",
              "  </thead>\n",
              "  <tbody>\n",
              "    <tr>\n",
              "      <th>0</th>\n",
              "      <td>0</td>\n",
              "      <td>3</td>\n",
              "      <td>male</td>\n",
              "      <td>22.0</td>\n",
              "      <td>7.2500</td>\n",
              "      <td>S</td>\n",
              "      <td>1</td>\n",
              "      <td>0</td>\n",
              "      <td>1</td>\n",
              "      <td>0</td>\n",
              "      <td>1</td>\n",
              "    </tr>\n",
              "    <tr>\n",
              "      <th>1</th>\n",
              "      <td>1</td>\n",
              "      <td>1</td>\n",
              "      <td>female</td>\n",
              "      <td>38.0</td>\n",
              "      <td>56.4958</td>\n",
              "      <td>C</td>\n",
              "      <td>1</td>\n",
              "      <td>0</td>\n",
              "      <td>0</td>\n",
              "      <td>0</td>\n",
              "      <td>0</td>\n",
              "    </tr>\n",
              "    <tr>\n",
              "      <th>2</th>\n",
              "      <td>1</td>\n",
              "      <td>3</td>\n",
              "      <td>female</td>\n",
              "      <td>26.0</td>\n",
              "      <td>7.9250</td>\n",
              "      <td>S</td>\n",
              "      <td>0</td>\n",
              "      <td>0</td>\n",
              "      <td>0</td>\n",
              "      <td>0</td>\n",
              "      <td>1</td>\n",
              "    </tr>\n",
              "    <tr>\n",
              "      <th>3</th>\n",
              "      <td>1</td>\n",
              "      <td>1</td>\n",
              "      <td>female</td>\n",
              "      <td>35.0</td>\n",
              "      <td>53.1000</td>\n",
              "      <td>S</td>\n",
              "      <td>1</td>\n",
              "      <td>0</td>\n",
              "      <td>0</td>\n",
              "      <td>0</td>\n",
              "      <td>1</td>\n",
              "    </tr>\n",
              "    <tr>\n",
              "      <th>4</th>\n",
              "      <td>0</td>\n",
              "      <td>3</td>\n",
              "      <td>male</td>\n",
              "      <td>35.0</td>\n",
              "      <td>8.0500</td>\n",
              "      <td>S</td>\n",
              "      <td>0</td>\n",
              "      <td>0</td>\n",
              "      <td>1</td>\n",
              "      <td>0</td>\n",
              "      <td>1</td>\n",
              "    </tr>\n",
              "    <tr>\n",
              "      <th>...</th>\n",
              "      <td>...</td>\n",
              "      <td>...</td>\n",
              "      <td>...</td>\n",
              "      <td>...</td>\n",
              "      <td>...</td>\n",
              "      <td>...</td>\n",
              "      <td>...</td>\n",
              "      <td>...</td>\n",
              "      <td>...</td>\n",
              "      <td>...</td>\n",
              "      <td>...</td>\n",
              "    </tr>\n",
              "    <tr>\n",
              "      <th>886</th>\n",
              "      <td>0</td>\n",
              "      <td>2</td>\n",
              "      <td>male</td>\n",
              "      <td>27.0</td>\n",
              "      <td>13.0000</td>\n",
              "      <td>S</td>\n",
              "      <td>0</td>\n",
              "      <td>0</td>\n",
              "      <td>1</td>\n",
              "      <td>0</td>\n",
              "      <td>1</td>\n",
              "    </tr>\n",
              "    <tr>\n",
              "      <th>887</th>\n",
              "      <td>1</td>\n",
              "      <td>1</td>\n",
              "      <td>female</td>\n",
              "      <td>19.0</td>\n",
              "      <td>30.0000</td>\n",
              "      <td>S</td>\n",
              "      <td>0</td>\n",
              "      <td>0</td>\n",
              "      <td>0</td>\n",
              "      <td>0</td>\n",
              "      <td>1</td>\n",
              "    </tr>\n",
              "    <tr>\n",
              "      <th>888</th>\n",
              "      <td>0</td>\n",
              "      <td>3</td>\n",
              "      <td>female</td>\n",
              "      <td>28.0</td>\n",
              "      <td>23.4500</td>\n",
              "      <td>S</td>\n",
              "      <td>1</td>\n",
              "      <td>2</td>\n",
              "      <td>0</td>\n",
              "      <td>0</td>\n",
              "      <td>1</td>\n",
              "    </tr>\n",
              "    <tr>\n",
              "      <th>889</th>\n",
              "      <td>1</td>\n",
              "      <td>1</td>\n",
              "      <td>male</td>\n",
              "      <td>26.0</td>\n",
              "      <td>30.0000</td>\n",
              "      <td>C</td>\n",
              "      <td>0</td>\n",
              "      <td>0</td>\n",
              "      <td>1</td>\n",
              "      <td>0</td>\n",
              "      <td>0</td>\n",
              "    </tr>\n",
              "    <tr>\n",
              "      <th>890</th>\n",
              "      <td>0</td>\n",
              "      <td>3</td>\n",
              "      <td>male</td>\n",
              "      <td>32.0</td>\n",
              "      <td>7.7500</td>\n",
              "      <td>Q</td>\n",
              "      <td>0</td>\n",
              "      <td>0</td>\n",
              "      <td>1</td>\n",
              "      <td>1</td>\n",
              "      <td>0</td>\n",
              "    </tr>\n",
              "  </tbody>\n",
              "</table>\n",
              "<p>891 rows × 11 columns</p>\n",
              "</div>"
            ],
            "text/plain": [
              "     Survived  Pclass     Sex   Age     Fare Embarked  SibSp  Parch  male  Q  \\\n",
              "0           0       3    male  22.0   7.2500        S      1      0     1  0   \n",
              "1           1       1  female  38.0  56.4958        C      1      0     0  0   \n",
              "2           1       3  female  26.0   7.9250        S      0      0     0  0   \n",
              "3           1       1  female  35.0  53.1000        S      1      0     0  0   \n",
              "4           0       3    male  35.0   8.0500        S      0      0     1  0   \n",
              "..        ...     ...     ...   ...      ...      ...    ...    ...   ... ..   \n",
              "886         0       2    male  27.0  13.0000        S      0      0     1  0   \n",
              "887         1       1  female  19.0  30.0000        S      0      0     0  0   \n",
              "888         0       3  female  28.0  23.4500        S      1      2     0  0   \n",
              "889         1       1    male  26.0  30.0000        C      0      0     1  0   \n",
              "890         0       3    male  32.0   7.7500        Q      0      0     1  1   \n",
              "\n",
              "     S  \n",
              "0    1  \n",
              "1    0  \n",
              "2    1  \n",
              "3    1  \n",
              "4    1  \n",
              "..  ..  \n",
              "886  1  \n",
              "887  1  \n",
              "888  1  \n",
              "889  0  \n",
              "890  0  \n",
              "\n",
              "[891 rows x 11 columns]"
            ]
          },
          "metadata": {
            "tags": []
          },
          "execution_count": 77
        }
      ]
    },
    {
      "cell_type": "code",
      "metadata": {
        "id": "gyiE0QutuTUJ",
        "colab_type": "code",
        "colab": {}
      },
      "source": [
        "titanic1.drop(['Sex', 'Embarked'], axis=1, inplace=True)"
      ],
      "execution_count": null,
      "outputs": []
    },
    {
      "cell_type": "code",
      "metadata": {
        "id": "DSNdA9HsuTUN",
        "colab_type": "code",
        "colab": {}
      },
      "source": [
        "titanic2 = pd.get_dummies(titanic, drop_first=True)"
      ],
      "execution_count": null,
      "outputs": []
    },
    {
      "cell_type": "code",
      "metadata": {
        "id": "u2I8BUWWuTUQ",
        "colab_type": "code",
        "colab": {},
        "outputId": "88800361-9d63-4e26-9ebb-c4df2a695861"
      },
      "source": [
        "titanic2"
      ],
      "execution_count": null,
      "outputs": [
        {
          "output_type": "execute_result",
          "data": {
            "text/html": [
              "<div>\n",
              "<style scoped>\n",
              "    .dataframe tbody tr th:only-of-type {\n",
              "        vertical-align: middle;\n",
              "    }\n",
              "\n",
              "    .dataframe tbody tr th {\n",
              "        vertical-align: top;\n",
              "    }\n",
              "\n",
              "    .dataframe thead th {\n",
              "        text-align: right;\n",
              "    }\n",
              "</style>\n",
              "<table border=\"1\" class=\"dataframe\">\n",
              "  <thead>\n",
              "    <tr style=\"text-align: right;\">\n",
              "      <th></th>\n",
              "      <th>Survived</th>\n",
              "      <th>Pclass</th>\n",
              "      <th>Age</th>\n",
              "      <th>Fare</th>\n",
              "      <th>SibSp</th>\n",
              "      <th>Parch</th>\n",
              "      <th>Sex_male</th>\n",
              "      <th>Embarked_Q</th>\n",
              "      <th>Embarked_S</th>\n",
              "    </tr>\n",
              "  </thead>\n",
              "  <tbody>\n",
              "    <tr>\n",
              "      <th>0</th>\n",
              "      <td>0</td>\n",
              "      <td>3</td>\n",
              "      <td>22.0</td>\n",
              "      <td>7.2500</td>\n",
              "      <td>1</td>\n",
              "      <td>0</td>\n",
              "      <td>1</td>\n",
              "      <td>0</td>\n",
              "      <td>1</td>\n",
              "    </tr>\n",
              "    <tr>\n",
              "      <th>1</th>\n",
              "      <td>1</td>\n",
              "      <td>1</td>\n",
              "      <td>38.0</td>\n",
              "      <td>56.4958</td>\n",
              "      <td>1</td>\n",
              "      <td>0</td>\n",
              "      <td>0</td>\n",
              "      <td>0</td>\n",
              "      <td>0</td>\n",
              "    </tr>\n",
              "    <tr>\n",
              "      <th>2</th>\n",
              "      <td>1</td>\n",
              "      <td>3</td>\n",
              "      <td>26.0</td>\n",
              "      <td>7.9250</td>\n",
              "      <td>0</td>\n",
              "      <td>0</td>\n",
              "      <td>0</td>\n",
              "      <td>0</td>\n",
              "      <td>1</td>\n",
              "    </tr>\n",
              "    <tr>\n",
              "      <th>3</th>\n",
              "      <td>1</td>\n",
              "      <td>1</td>\n",
              "      <td>35.0</td>\n",
              "      <td>53.1000</td>\n",
              "      <td>1</td>\n",
              "      <td>0</td>\n",
              "      <td>0</td>\n",
              "      <td>0</td>\n",
              "      <td>1</td>\n",
              "    </tr>\n",
              "    <tr>\n",
              "      <th>4</th>\n",
              "      <td>0</td>\n",
              "      <td>3</td>\n",
              "      <td>35.0</td>\n",
              "      <td>8.0500</td>\n",
              "      <td>0</td>\n",
              "      <td>0</td>\n",
              "      <td>1</td>\n",
              "      <td>0</td>\n",
              "      <td>1</td>\n",
              "    </tr>\n",
              "    <tr>\n",
              "      <th>...</th>\n",
              "      <td>...</td>\n",
              "      <td>...</td>\n",
              "      <td>...</td>\n",
              "      <td>...</td>\n",
              "      <td>...</td>\n",
              "      <td>...</td>\n",
              "      <td>...</td>\n",
              "      <td>...</td>\n",
              "      <td>...</td>\n",
              "    </tr>\n",
              "    <tr>\n",
              "      <th>886</th>\n",
              "      <td>0</td>\n",
              "      <td>2</td>\n",
              "      <td>27.0</td>\n",
              "      <td>13.0000</td>\n",
              "      <td>0</td>\n",
              "      <td>0</td>\n",
              "      <td>1</td>\n",
              "      <td>0</td>\n",
              "      <td>1</td>\n",
              "    </tr>\n",
              "    <tr>\n",
              "      <th>887</th>\n",
              "      <td>1</td>\n",
              "      <td>1</td>\n",
              "      <td>19.0</td>\n",
              "      <td>30.0000</td>\n",
              "      <td>0</td>\n",
              "      <td>0</td>\n",
              "      <td>0</td>\n",
              "      <td>0</td>\n",
              "      <td>1</td>\n",
              "    </tr>\n",
              "    <tr>\n",
              "      <th>888</th>\n",
              "      <td>0</td>\n",
              "      <td>3</td>\n",
              "      <td>28.0</td>\n",
              "      <td>23.4500</td>\n",
              "      <td>1</td>\n",
              "      <td>2</td>\n",
              "      <td>0</td>\n",
              "      <td>0</td>\n",
              "      <td>1</td>\n",
              "    </tr>\n",
              "    <tr>\n",
              "      <th>889</th>\n",
              "      <td>1</td>\n",
              "      <td>1</td>\n",
              "      <td>26.0</td>\n",
              "      <td>30.0000</td>\n",
              "      <td>0</td>\n",
              "      <td>0</td>\n",
              "      <td>1</td>\n",
              "      <td>0</td>\n",
              "      <td>0</td>\n",
              "    </tr>\n",
              "    <tr>\n",
              "      <th>890</th>\n",
              "      <td>0</td>\n",
              "      <td>3</td>\n",
              "      <td>32.0</td>\n",
              "      <td>7.7500</td>\n",
              "      <td>0</td>\n",
              "      <td>0</td>\n",
              "      <td>1</td>\n",
              "      <td>1</td>\n",
              "      <td>0</td>\n",
              "    </tr>\n",
              "  </tbody>\n",
              "</table>\n",
              "<p>891 rows × 9 columns</p>\n",
              "</div>"
            ],
            "text/plain": [
              "     Survived  Pclass   Age     Fare  SibSp  Parch  Sex_male  Embarked_Q  \\\n",
              "0           0       3  22.0   7.2500      1      0         1           0   \n",
              "1           1       1  38.0  56.4958      1      0         0           0   \n",
              "2           1       3  26.0   7.9250      0      0         0           0   \n",
              "3           1       1  35.0  53.1000      1      0         0           0   \n",
              "4           0       3  35.0   8.0500      0      0         1           0   \n",
              "..        ...     ...   ...      ...    ...    ...       ...         ...   \n",
              "886         0       2  27.0  13.0000      0      0         1           0   \n",
              "887         1       1  19.0  30.0000      0      0         0           0   \n",
              "888         0       3  28.0  23.4500      1      2         0           0   \n",
              "889         1       1  26.0  30.0000      0      0         1           0   \n",
              "890         0       3  32.0   7.7500      0      0         1           1   \n",
              "\n",
              "     Embarked_S  \n",
              "0             1  \n",
              "1             0  \n",
              "2             1  \n",
              "3             1  \n",
              "4             1  \n",
              "..          ...  \n",
              "886           1  \n",
              "887           1  \n",
              "888           1  \n",
              "889           0  \n",
              "890           0  \n",
              "\n",
              "[891 rows x 9 columns]"
            ]
          },
          "metadata": {
            "tags": []
          },
          "execution_count": 80
        }
      ]
    },
    {
      "cell_type": "markdown",
      "metadata": {
        "id": "_L2eXUAbuTUV",
        "colab_type": "text"
      },
      "source": [
        "## Train Test Split"
      ]
    },
    {
      "cell_type": "code",
      "metadata": {
        "id": "xBZ0zXN-uTUW",
        "colab_type": "code",
        "colab": {},
        "outputId": "d008b29c-c675-48b4-ebd3-3ec4dfc36e2c"
      },
      "source": [
        "cols = ['Pclass','Age','Fare','SibSp','Parch','Sex_male','Embarked_Q','Embarked_S','Survived']\n",
        "titanic2 = titanic2[cols]\n",
        "titanic2.head()"
      ],
      "execution_count": null,
      "outputs": [
        {
          "output_type": "execute_result",
          "data": {
            "text/html": [
              "<div>\n",
              "<style scoped>\n",
              "    .dataframe tbody tr th:only-of-type {\n",
              "        vertical-align: middle;\n",
              "    }\n",
              "\n",
              "    .dataframe tbody tr th {\n",
              "        vertical-align: top;\n",
              "    }\n",
              "\n",
              "    .dataframe thead th {\n",
              "        text-align: right;\n",
              "    }\n",
              "</style>\n",
              "<table border=\"1\" class=\"dataframe\">\n",
              "  <thead>\n",
              "    <tr style=\"text-align: right;\">\n",
              "      <th></th>\n",
              "      <th>Pclass</th>\n",
              "      <th>Age</th>\n",
              "      <th>Fare</th>\n",
              "      <th>SibSp</th>\n",
              "      <th>Parch</th>\n",
              "      <th>Sex_male</th>\n",
              "      <th>Embarked_Q</th>\n",
              "      <th>Embarked_S</th>\n",
              "      <th>Survived</th>\n",
              "    </tr>\n",
              "  </thead>\n",
              "  <tbody>\n",
              "    <tr>\n",
              "      <th>0</th>\n",
              "      <td>3</td>\n",
              "      <td>22.0</td>\n",
              "      <td>7.2500</td>\n",
              "      <td>1</td>\n",
              "      <td>0</td>\n",
              "      <td>1</td>\n",
              "      <td>0</td>\n",
              "      <td>1</td>\n",
              "      <td>0</td>\n",
              "    </tr>\n",
              "    <tr>\n",
              "      <th>1</th>\n",
              "      <td>1</td>\n",
              "      <td>38.0</td>\n",
              "      <td>56.4958</td>\n",
              "      <td>1</td>\n",
              "      <td>0</td>\n",
              "      <td>0</td>\n",
              "      <td>0</td>\n",
              "      <td>0</td>\n",
              "      <td>1</td>\n",
              "    </tr>\n",
              "    <tr>\n",
              "      <th>2</th>\n",
              "      <td>3</td>\n",
              "      <td>26.0</td>\n",
              "      <td>7.9250</td>\n",
              "      <td>0</td>\n",
              "      <td>0</td>\n",
              "      <td>0</td>\n",
              "      <td>0</td>\n",
              "      <td>1</td>\n",
              "      <td>1</td>\n",
              "    </tr>\n",
              "    <tr>\n",
              "      <th>3</th>\n",
              "      <td>1</td>\n",
              "      <td>35.0</td>\n",
              "      <td>53.1000</td>\n",
              "      <td>1</td>\n",
              "      <td>0</td>\n",
              "      <td>0</td>\n",
              "      <td>0</td>\n",
              "      <td>1</td>\n",
              "      <td>1</td>\n",
              "    </tr>\n",
              "    <tr>\n",
              "      <th>4</th>\n",
              "      <td>3</td>\n",
              "      <td>35.0</td>\n",
              "      <td>8.0500</td>\n",
              "      <td>0</td>\n",
              "      <td>0</td>\n",
              "      <td>1</td>\n",
              "      <td>0</td>\n",
              "      <td>1</td>\n",
              "      <td>0</td>\n",
              "    </tr>\n",
              "  </tbody>\n",
              "</table>\n",
              "</div>"
            ],
            "text/plain": [
              "   Pclass   Age     Fare  SibSp  Parch  Sex_male  Embarked_Q  Embarked_S  \\\n",
              "0       3  22.0   7.2500      1      0         1           0           1   \n",
              "1       1  38.0  56.4958      1      0         0           0           0   \n",
              "2       3  26.0   7.9250      0      0         0           0           1   \n",
              "3       1  35.0  53.1000      1      0         0           0           1   \n",
              "4       3  35.0   8.0500      0      0         1           0           1   \n",
              "\n",
              "   Survived  \n",
              "0         0  \n",
              "1         1  \n",
              "2         1  \n",
              "3         1  \n",
              "4         0  "
            ]
          },
          "metadata": {
            "tags": []
          },
          "execution_count": 82
        }
      ]
    },
    {
      "cell_type": "code",
      "metadata": {
        "id": "GmZ41bicuTUd",
        "colab_type": "code",
        "colab": {},
        "outputId": "bd5e3b6a-f3e7-4ba2-b210-cad45e71894c"
      },
      "source": [
        "X=titanic2.iloc[:,:-1].values\n",
        "X.shape"
      ],
      "execution_count": null,
      "outputs": [
        {
          "output_type": "execute_result",
          "data": {
            "text/plain": [
              "(891, 8)"
            ]
          },
          "metadata": {
            "tags": []
          },
          "execution_count": 83
        }
      ]
    },
    {
      "cell_type": "code",
      "metadata": {
        "id": "EvME8M2FuTUg",
        "colab_type": "code",
        "colab": {},
        "outputId": "97d54f6b-f28d-493e-af4d-2cf7dfa54a23"
      },
      "source": [
        "y=titanic2.iloc[:,-1].values\n",
        "y.shape"
      ],
      "execution_count": null,
      "outputs": [
        {
          "output_type": "execute_result",
          "data": {
            "text/plain": [
              "(891,)"
            ]
          },
          "metadata": {
            "tags": []
          },
          "execution_count": 84
        }
      ]
    },
    {
      "cell_type": "code",
      "metadata": {
        "id": "55sC8-b_uTUj",
        "colab_type": "code",
        "colab": {}
      },
      "source": [
        "from sklearn.model_selection import train_test_split\n",
        "X_train, X_test, y_train, y_test = train_test_split(X, y, test_size=0.25 , random_state=0)"
      ],
      "execution_count": null,
      "outputs": []
    },
    {
      "cell_type": "code",
      "metadata": {
        "id": "LI-MEOdcuTUm",
        "colab_type": "code",
        "colab": {},
        "outputId": "2fde66e5-9cbf-4587-c30f-115c55c2262a"
      },
      "source": [
        "X_train.shape"
      ],
      "execution_count": null,
      "outputs": [
        {
          "output_type": "execute_result",
          "data": {
            "text/plain": [
              "(668, 8)"
            ]
          },
          "metadata": {
            "tags": []
          },
          "execution_count": 86
        }
      ]
    },
    {
      "cell_type": "code",
      "metadata": {
        "id": "TbeIHXiXuTUt",
        "colab_type": "code",
        "colab": {},
        "outputId": "aecc0369-d26d-4edd-ca57-c12033056603"
      },
      "source": [
        "X_test.shape"
      ],
      "execution_count": null,
      "outputs": [
        {
          "output_type": "execute_result",
          "data": {
            "text/plain": [
              "(223, 8)"
            ]
          },
          "metadata": {
            "tags": []
          },
          "execution_count": 87
        }
      ]
    },
    {
      "cell_type": "code",
      "metadata": {
        "id": "BlCOOxtWuTU6",
        "colab_type": "code",
        "colab": {},
        "outputId": "d764d0ad-1b58-4121-ed86-e5ff2fbeb035"
      },
      "source": [
        "y_train.shape"
      ],
      "execution_count": null,
      "outputs": [
        {
          "output_type": "execute_result",
          "data": {
            "text/plain": [
              "(668,)"
            ]
          },
          "metadata": {
            "tags": []
          },
          "execution_count": 88
        }
      ]
    },
    {
      "cell_type": "code",
      "metadata": {
        "id": "SqUjkLdHuTVA",
        "colab_type": "code",
        "colab": {},
        "outputId": "a7e88cc1-06a2-4244-a04d-29bc700e00d2"
      },
      "source": [
        "y_test.shape"
      ],
      "execution_count": null,
      "outputs": [
        {
          "output_type": "execute_result",
          "data": {
            "text/plain": [
              "(223,)"
            ]
          },
          "metadata": {
            "tags": []
          },
          "execution_count": 89
        }
      ]
    },
    {
      "cell_type": "markdown",
      "metadata": {
        "id": "pdL4lUf_uTVF",
        "colab_type": "text"
      },
      "source": [
        "## Scaling"
      ]
    },
    {
      "cell_type": "code",
      "metadata": {
        "id": "90DgYAlzuTVG",
        "colab_type": "code",
        "colab": {}
      },
      "source": [
        "from sklearn.preprocessing import StandardScaler\n",
        "sc_X = StandardScaler()\n",
        "X_train = sc_X.fit_transform(X_train)\n",
        "X_test = sc_X.fit_transform(X_test)"
      ],
      "execution_count": null,
      "outputs": []
    },
    {
      "cell_type": "code",
      "metadata": {
        "id": "EsKDKjFguTVL",
        "colab_type": "code",
        "colab": {},
        "outputId": "f3e9db42-81ff-4322-936d-b21ceea7a3f5"
      },
      "source": [
        "X_test"
      ],
      "execution_count": null,
      "outputs": [
        {
          "output_type": "execute_result",
          "data": {
            "text/plain": [
              "array([[ 0.81917196, -0.05441898, -0.42032034, ...,  0.76997217,\n",
              "        -0.28727038, -1.49394915],\n",
              "       [ 0.81917196, -0.05441898, -0.80533307, ...,  0.76997217,\n",
              "        -0.28727038,  0.66936683],\n",
              "       [ 0.81917196, -1.80592459,  0.39708281, ...,  0.76997217,\n",
              "         3.48104109, -1.49394915],\n",
              "       ...,\n",
              "       [ 0.81917196, -0.80506424, -0.79279339, ...,  0.76997217,\n",
              "        -0.28727038,  0.66936683],\n",
              "       [-1.58445102, -0.63825418,  1.92250968, ..., -1.29874824,\n",
              "        -0.28727038, -1.49394915],\n",
              "       [ 0.81917196, -2.05613968, -0.29538613, ..., -1.29874824,\n",
              "        -0.28727038,  0.66936683]])"
            ]
          },
          "metadata": {
            "tags": []
          },
          "execution_count": 91
        }
      ]
    },
    {
      "cell_type": "markdown",
      "metadata": {
        "id": "BdXqZ9tLuTVN",
        "colab_type": "text"
      },
      "source": [
        "### Building the Model\n",
        "### Logistic Regression"
      ]
    },
    {
      "cell_type": "code",
      "metadata": {
        "id": "JsP8m4vjuTVO",
        "colab_type": "code",
        "colab": {},
        "outputId": "89b6d629-d23f-4ff0-d6e0-7a4a90daa015"
      },
      "source": [
        "from sklearn.linear_model import LogisticRegression\n",
        "lr = LogisticRegression()\n",
        "lr.fit(X_train,y_train)"
      ],
      "execution_count": null,
      "outputs": [
        {
          "output_type": "execute_result",
          "data": {
            "text/plain": [
              "LogisticRegression(C=1.0, class_weight=None, dual=False, fit_intercept=True,\n",
              "                   intercept_scaling=1, l1_ratio=None, max_iter=100,\n",
              "                   multi_class='auto', n_jobs=None, penalty='l2',\n",
              "                   random_state=None, solver='lbfgs', tol=0.0001, verbose=0,\n",
              "                   warm_start=False)"
            ]
          },
          "metadata": {
            "tags": []
          },
          "execution_count": 92
        }
      ]
    },
    {
      "cell_type": "code",
      "metadata": {
        "id": "upsErBh7uTVV",
        "colab_type": "code",
        "colab": {}
      },
      "source": [
        "y_pred = lr.predict(X_test)"
      ],
      "execution_count": null,
      "outputs": []
    },
    {
      "cell_type": "code",
      "metadata": {
        "id": "n_DNnwkLuTVX",
        "colab_type": "code",
        "colab": {},
        "outputId": "46c35ecf-9be2-4879-d73e-22d427824404"
      },
      "source": [
        "y_test"
      ],
      "execution_count": null,
      "outputs": [
        {
          "output_type": "execute_result",
          "data": {
            "text/plain": [
              "array([0, 0, 0, 1, 1, 1, 1, 1, 1, 1, 0, 1, 0, 1, 1, 0, 0, 0, 0, 1, 0, 1,\n",
              "       0, 0, 0, 1, 0, 1, 1, 0, 0, 1, 0, 1, 0, 1, 0, 0, 0, 0, 1, 0, 0, 0,\n",
              "       1, 0, 0, 1, 0, 0, 1, 1, 1, 0, 1, 0, 0, 0, 0, 1, 0, 0, 1, 0, 1, 0,\n",
              "       1, 0, 1, 1, 1, 1, 0, 0, 0, 1, 0, 0, 0, 0, 0, 1, 0, 0, 0, 1, 1, 1,\n",
              "       1, 0, 0, 0, 1, 1, 0, 0, 1, 0, 0, 1, 0, 0, 0, 0, 0, 1, 1, 0, 0, 1,\n",
              "       0, 1, 1, 0, 1, 1, 1, 1, 0, 1, 1, 0, 0, 0, 0, 0, 0, 1, 0, 0, 0, 0,\n",
              "       0, 0, 0, 0, 0, 0, 0, 0, 0, 1, 0, 0, 1, 0, 0, 1, 1, 0, 0, 1, 0, 0,\n",
              "       1, 0, 0, 1, 0, 1, 0, 1, 1, 1, 0, 0, 0, 0, 0, 0, 0, 1, 0, 0, 1, 0,\n",
              "       1, 0, 0, 0, 0, 0, 0, 0, 0, 0, 1, 0, 0, 1, 0, 0, 1, 1, 0, 0, 0, 1,\n",
              "       1, 0, 1, 0, 0, 1, 1, 0, 0, 0, 1, 0, 0, 1, 0, 0, 0, 0, 0, 1, 0, 1,\n",
              "       0, 1, 1], dtype=int64)"
            ]
          },
          "metadata": {
            "tags": []
          },
          "execution_count": 94
        }
      ]
    },
    {
      "cell_type": "code",
      "metadata": {
        "id": "WigINb_ZuTVc",
        "colab_type": "code",
        "colab": {},
        "outputId": "238a3eef-b923-44cf-d3e2-d8c4806d215b"
      },
      "source": [
        "y_pred"
      ],
      "execution_count": null,
      "outputs": [
        {
          "output_type": "execute_result",
          "data": {
            "text/plain": [
              "array([0, 0, 0, 1, 1, 0, 1, 1, 1, 1, 0, 1, 0, 1, 1, 1, 0, 0, 0, 0, 0, 1,\n",
              "       0, 0, 1, 1, 0, 1, 1, 0, 0, 1, 0, 0, 0, 1, 0, 0, 0, 0, 0, 0, 0, 0,\n",
              "       1, 0, 0, 1, 0, 0, 0, 1, 1, 0, 1, 0, 0, 0, 0, 0, 0, 1, 1, 1, 1, 0,\n",
              "       1, 0, 1, 1, 1, 0, 1, 0, 0, 0, 0, 0, 0, 0, 0, 0, 1, 0, 0, 1, 1, 0,\n",
              "       1, 1, 0, 0, 0, 1, 0, 0, 1, 0, 0, 1, 0, 0, 0, 0, 0, 0, 1, 0, 0, 1,\n",
              "       0, 1, 0, 1, 0, 1, 1, 1, 0, 1, 0, 0, 0, 0, 0, 0, 0, 0, 0, 0, 1, 0,\n",
              "       0, 1, 0, 0, 0, 0, 0, 0, 0, 1, 0, 1, 1, 1, 0, 1, 1, 0, 0, 1, 1, 0,\n",
              "       1, 0, 1, 0, 1, 1, 0, 0, 1, 0, 0, 0, 0, 0, 0, 0, 0, 1, 0, 0, 1, 0,\n",
              "       1, 0, 0, 1, 0, 0, 0, 0, 0, 0, 1, 0, 0, 1, 1, 0, 1, 1, 0, 0, 0, 1,\n",
              "       0, 0, 0, 1, 0, 1, 0, 0, 0, 0, 1, 0, 0, 0, 0, 1, 0, 0, 0, 0, 0, 1,\n",
              "       0, 1, 1], dtype=int64)"
            ]
          },
          "metadata": {
            "tags": []
          },
          "execution_count": 95
        }
      ]
    },
    {
      "cell_type": "markdown",
      "metadata": {
        "id": "Rngkmjh1uTVg",
        "colab_type": "text"
      },
      "source": [
        "### Model evaluation using Confusion Matrix"
      ]
    },
    {
      "cell_type": "code",
      "metadata": {
        "id": "V9XV_cC7uTVh",
        "colab_type": "code",
        "colab": {},
        "outputId": "54d62bf5-fe26-4108-988c-d6cb6188fc06"
      },
      "source": [
        "from sklearn.metrics import confusion_matrix\n",
        "confusion=confusion_matrix(y_test,y_pred)\n",
        "print(confusion)"
      ],
      "execution_count": null,
      "outputs": [
        {
          "output_type": "stream",
          "text": [
            "[[120  19]\n",
            " [ 24  60]]\n"
          ],
          "name": "stdout"
        }
      ]
    },
    {
      "cell_type": "code",
      "metadata": {
        "id": "p--UyeFcuTVn",
        "colab_type": "code",
        "colab": {}
      },
      "source": [
        "TN = confusion[0,0]\n",
        "FP = confusion[0,1]\n",
        "FN = confusion[1,0]\n",
        "TP = confusion[1,1]"
      ],
      "execution_count": null,
      "outputs": []
    },
    {
      "cell_type": "code",
      "metadata": {
        "id": "zsg6NtdSuTVp",
        "colab_type": "code",
        "colab": {},
        "outputId": "f838cbe9-dc9b-4e5f-cb17-adb141df4761"
      },
      "source": [
        "print(confusion)\n",
        "print(\"TN:\",TN)\n",
        "print(\"FP:\",FP)\n",
        "print(\"FN:\",FN)\n",
        "print(\"TP:\",TP)"
      ],
      "execution_count": null,
      "outputs": [
        {
          "output_type": "stream",
          "text": [
            "[[120  19]\n",
            " [ 24  60]]\n",
            "TN: 120\n",
            "FP: 19\n",
            "FN: 24\n",
            "TP: 60\n"
          ],
          "name": "stdout"
        }
      ]
    },
    {
      "cell_type": "markdown",
      "metadata": {
        "id": "nz6mrlDluTVt",
        "colab_type": "text"
      },
      "source": [
        "### Confusion Matrix Evaluation Metrics"
      ]
    },
    {
      "cell_type": "code",
      "metadata": {
        "id": "5O06-0AzuTVt",
        "colab_type": "code",
        "colab": {},
        "outputId": "8a751a26-12d5-4a4b-bbb8-f708b0296158"
      },
      "source": [
        "from sklearn import metrics\n",
        "accuracy = metrics.accuracy_score(y_test,y_pred)\n",
        "accuracy1=(TN+TP)/(TN+TP+FP+FN)\n",
        "print(\"Accuracy from metrics\",accuracy)\n",
        "print(\"Accuracy calculated:\",accuracy)"
      ],
      "execution_count": null,
      "outputs": [
        {
          "output_type": "stream",
          "text": [
            "Accuracy from metrics 0.8071748878923767\n",
            "Accuracy calculated: 0.8071748878923767\n"
          ],
          "name": "stdout"
        }
      ]
    },
    {
      "cell_type": "markdown",
      "metadata": {
        "id": "UInXNYz6uTVx",
        "colab_type": "text"
      },
      "source": [
        "#### Classification Error:"
      ]
    },
    {
      "cell_type": "code",
      "metadata": {
        "id": "GnoM_Z8nuTVx",
        "colab_type": "code",
        "colab": {},
        "outputId": "88188ea2-f511-4ae6-83c7-2a3fe908b1e7"
      },
      "source": [
        "print((FP+FN)/float(TP+TN+FP+FN))\n",
        "print(round(1-metrics.accuracy_score(y_test,y_pred),4))"
      ],
      "execution_count": null,
      "outputs": [
        {
          "output_type": "stream",
          "text": [
            "0.19282511210762332\n",
            "0.1928\n"
          ],
          "name": "stdout"
        }
      ]
    },
    {
      "cell_type": "markdown",
      "metadata": {
        "id": "yMyrFHUXuTV0",
        "colab_type": "text"
      },
      "source": [
        "#### Sensitivity: When the actual value is Positive, how often the prediction correct?"
      ]
    },
    {
      "cell_type": "code",
      "metadata": {
        "id": "mfPfzFujuTV0",
        "colab_type": "code",
        "colab": {},
        "outputId": "cc9f89f8-96b6-4079-9166-8a4e80c37015"
      },
      "source": [
        "print(\"RECALL:\",metrics.recall_score(y_test,y_pred))\n",
        "print(\"CALCULATED RECALL: \",(TP)/(TP+FN))"
      ],
      "execution_count": null,
      "outputs": [
        {
          "output_type": "stream",
          "text": [
            "RECALL: 0.7142857142857143\n",
            "CALCULATED RECALL:  0.7142857142857143\n"
          ],
          "name": "stdout"
        }
      ]
    },
    {
      "cell_type": "markdown",
      "metadata": {
        "id": "OK7Q0SlUuTV8",
        "colab_type": "text"
      },
      "source": [
        "#### Specificity: When the actual value is Negative, how far is the prediction correct?"
      ]
    },
    {
      "cell_type": "code",
      "metadata": {
        "id": "fRuej-RxuTV-",
        "colab_type": "code",
        "colab": {},
        "outputId": "a53c7ef0-587f-40b7-f92f-bb1cb399c95d"
      },
      "source": [
        "print(\"SPECIFICITY/TRUE NEGATIVE RATE:\",(TN)/(TN+TP))"
      ],
      "execution_count": null,
      "outputs": [
        {
          "output_type": "stream",
          "text": [
            "SPECIFICITY/TRUE NEGATIVE RATE: 0.6666666666666666\n"
          ],
          "name": "stdout"
        }
      ]
    },
    {
      "cell_type": "code",
      "metadata": {
        "id": "SDK4oE1_uTWH",
        "colab_type": "code",
        "colab": {},
        "outputId": "b3d5d145-bf6b-401b-e256-69aeea4b45f1"
      },
      "source": [
        "print(\"FALSE POSITIVE RATE:\",(FN)/(FN+TP))"
      ],
      "execution_count": null,
      "outputs": [
        {
          "output_type": "stream",
          "text": [
            "FALSE POSITIVE RATE: 0.2857142857142857\n"
          ],
          "name": "stdout"
        }
      ]
    },
    {
      "cell_type": "code",
      "metadata": {
        "id": "UFj9w2-ZuTWJ",
        "colab_type": "code",
        "colab": {},
        "outputId": "08a41279-485a-4093-e76b-36d024e220b3"
      },
      "source": [
        "print(\"FALSE NEGATIVE RATE:\",(FP)/(TN+FP))"
      ],
      "execution_count": null,
      "outputs": [
        {
          "output_type": "stream",
          "text": [
            "FALSE NEGATIVE RATE: 0.1366906474820144\n"
          ],
          "name": "stdout"
        }
      ]
    },
    {
      "cell_type": "markdown",
      "metadata": {
        "id": "ej_Y_Q2FuTWL",
        "colab_type": "text"
      },
      "source": [
        "#### Precision"
      ]
    },
    {
      "cell_type": "code",
      "metadata": {
        "id": "lHOPk17EuTWL",
        "colab_type": "code",
        "colab": {},
        "outputId": "88f12802-de7b-45d4-d462-832096d07a01"
      },
      "source": [
        "print(\"Precision: \",round(metrics.precision_score(y_test,y_pred),2))"
      ],
      "execution_count": null,
      "outputs": [
        {
          "output_type": "stream",
          "text": [
            "Precision:  0.76\n"
          ],
          "name": "stdout"
        }
      ]
    },
    {
      "cell_type": "code",
      "metadata": {
        "id": "yqV0o7JTuTWS",
        "colab_type": "code",
        "colab": {},
        "outputId": "1f9f1daf-4034-458e-e553-94352bf7343e"
      },
      "source": [
        "from sklearn.metrics import accuracy_score, f1_score, precision_score, recall_score, roc_auc_score\n",
        "accuracy = accuracy_score(y_test,y_pred)\n",
        "recall = recall_score(y_test,y_pred)\n",
        "precision = precision_score(y_test,y_pred)\n",
        "f1 = f1_score(y_test,y_pred)\n",
        "roc_auc = roc_auc_score(y_test,y_pred)\n",
        "print(\"Accuracy is: \",round(accuracy,2)*100)\n",
        "print('F1 score is: ',round(f1,2)*100)\n",
        "print('Precision is:',round(precision,2)*100)\n",
        "print('Recall is:',round(roc_auc,2)*100)"
      ],
      "execution_count": null,
      "outputs": [
        {
          "output_type": "stream",
          "text": [
            "Accuracy is:  81.0\n",
            "F1 score is:  74.0\n",
            "Precision is: 76.0\n",
            "Recall is: 79.0\n"
          ],
          "name": "stdout"
        }
      ]
    },
    {
      "cell_type": "code",
      "metadata": {
        "id": "KVqHRGMYuTWV",
        "colab_type": "code",
        "colab": {},
        "outputId": "03dcbd68-e54b-4eff-f67d-251fed55e94f"
      },
      "source": [
        "from sklearn.metrics import classification_report\n",
        "print(classification_report(y_test,y_pred))"
      ],
      "execution_count": null,
      "outputs": [
        {
          "output_type": "stream",
          "text": [
            "              precision    recall  f1-score   support\n",
            "\n",
            "           0       0.83      0.86      0.85       139\n",
            "           1       0.76      0.71      0.74        84\n",
            "\n",
            "    accuracy                           0.81       223\n",
            "   macro avg       0.80      0.79      0.79       223\n",
            "weighted avg       0.81      0.81      0.81       223\n",
            "\n"
          ],
          "name": "stdout"
        }
      ]
    },
    {
      "cell_type": "markdown",
      "metadata": {
        "id": "7ImDlAbbuTWY",
        "colab_type": "text"
      },
      "source": [
        "### Decision Tree"
      ]
    },
    {
      "cell_type": "code",
      "metadata": {
        "id": "LM361wqruTWY",
        "colab_type": "code",
        "colab": {}
      },
      "source": [
        "from sklearn.tree import DecisionTreeClassifier"
      ],
      "execution_count": null,
      "outputs": []
    },
    {
      "cell_type": "code",
      "metadata": {
        "id": "uhrIxgaQuTWb",
        "colab_type": "code",
        "colab": {},
        "outputId": "1932ea59-8242-4636-c35d-6022dafaa6bf"
      },
      "source": [
        "clf=DecisionTreeClassifier()\n",
        "clf=clf.fit(X_train,y_train)\n",
        "y_pred=clf.predict(X_test)\n",
        "y_pred"
      ],
      "execution_count": null,
      "outputs": [
        {
          "output_type": "execute_result",
          "data": {
            "text/plain": [
              "array([0, 1, 0, 1, 0, 1, 1, 1, 1, 0, 0, 1, 0, 1, 1, 1, 0, 0, 0, 1, 0, 1,\n",
              "       0, 1, 0, 1, 0, 0, 1, 0, 0, 1, 0, 1, 0, 1, 0, 0, 1, 0, 0, 0, 0, 0,\n",
              "       1, 1, 1, 1, 0, 0, 1, 0, 1, 0, 1, 0, 0, 0, 0, 0, 0, 1, 1, 0, 1, 0,\n",
              "       1, 0, 1, 1, 0, 0, 0, 1, 0, 1, 0, 0, 0, 0, 0, 1, 1, 0, 0, 1, 1, 0,\n",
              "       1, 0, 0, 0, 1, 1, 0, 0, 1, 0, 0, 0, 0, 0, 0, 0, 0, 1, 1, 0, 0, 1,\n",
              "       0, 1, 0, 1, 0, 1, 0, 1, 0, 0, 0, 0, 0, 0, 0, 0, 0, 0, 0, 0, 0, 0,\n",
              "       0, 0, 0, 0, 0, 0, 0, 0, 0, 1, 1, 0, 1, 0, 0, 0, 1, 1, 1, 1, 1, 1,\n",
              "       1, 0, 0, 0, 0, 1, 1, 0, 1, 0, 0, 1, 1, 0, 0, 0, 0, 1, 1, 0, 1, 1,\n",
              "       1, 0, 0, 1, 0, 0, 1, 0, 0, 0, 0, 0, 1, 1, 0, 1, 1, 0, 0, 0, 1, 0,\n",
              "       0, 0, 0, 1, 0, 1, 0, 0, 1, 0, 0, 0, 0, 0, 0, 1, 0, 0, 0, 1, 0, 1,\n",
              "       0, 1, 0], dtype=int64)"
            ]
          },
          "metadata": {
            "tags": []
          },
          "execution_count": 109
        }
      ]
    },
    {
      "cell_type": "code",
      "metadata": {
        "id": "Kbw1CVrauTWd",
        "colab_type": "code",
        "colab": {}
      },
      "source": [
        "from sklearn import metrics"
      ],
      "execution_count": null,
      "outputs": []
    },
    {
      "cell_type": "code",
      "metadata": {
        "id": "f7hVRJDMuTWf",
        "colab_type": "code",
        "colab": {},
        "outputId": "e2db8b04-66b0-4e69-b9bb-008b6fd07260"
      },
      "source": [
        "print(\"Accuracy:\",round(metrics.accuracy_score(y_test, y_pred)*100,2),\"%\")"
      ],
      "execution_count": null,
      "outputs": [
        {
          "output_type": "stream",
          "text": [
            "Accuracy: 74.44 %\n"
          ],
          "name": "stdout"
        }
      ]
    },
    {
      "cell_type": "code",
      "metadata": {
        "id": "aplVCurtuTWg",
        "colab_type": "code",
        "colab": {}
      },
      "source": [
        "from sklearn.metrics import confusion_matrix"
      ],
      "execution_count": null,
      "outputs": []
    },
    {
      "cell_type": "code",
      "metadata": {
        "id": "ybiOVrHWuTWi",
        "colab_type": "code",
        "colab": {}
      },
      "source": [
        "cm=confusion_matrix(y_test,y_pred)"
      ],
      "execution_count": null,
      "outputs": []
    },
    {
      "cell_type": "code",
      "metadata": {
        "id": "WUTalZBbuTWj",
        "colab_type": "code",
        "colab": {},
        "outputId": "57d16346-27e5-47ed-eca9-b735df1a826d"
      },
      "source": [
        "cm"
      ],
      "execution_count": null,
      "outputs": [
        {
          "output_type": "execute_result",
          "data": {
            "text/plain": [
              "array([[111,  28],\n",
              "       [ 29,  55]], dtype=int64)"
            ]
          },
          "metadata": {
            "tags": []
          },
          "execution_count": 114
        }
      ]
    },
    {
      "cell_type": "markdown",
      "metadata": {
        "id": "tLv380YGuTWm",
        "colab_type": "text"
      },
      "source": [
        "### Random forest Classification"
      ]
    },
    {
      "cell_type": "code",
      "metadata": {
        "id": "Rxo4L7FBuTWm",
        "colab_type": "code",
        "colab": {},
        "outputId": "9e01d4c5-8f30-4d0b-c32e-0af95ab0ff06"
      },
      "source": [
        "from sklearn.ensemble import RandomForestClassifier\n",
        "clf = RandomForestClassifier(n_estimators=40, n_jobs=20, random_state=0)\n",
        "clf.fit(X_train,y_train)"
      ],
      "execution_count": null,
      "outputs": [
        {
          "output_type": "execute_result",
          "data": {
            "text/plain": [
              "RandomForestClassifier(bootstrap=True, ccp_alpha=0.0, class_weight=None,\n",
              "                       criterion='gini', max_depth=None, max_features='auto',\n",
              "                       max_leaf_nodes=None, max_samples=None,\n",
              "                       min_impurity_decrease=0.0, min_impurity_split=None,\n",
              "                       min_samples_leaf=1, min_samples_split=2,\n",
              "                       min_weight_fraction_leaf=0.0, n_estimators=40, n_jobs=20,\n",
              "                       oob_score=False, random_state=0, verbose=0,\n",
              "                       warm_start=False)"
            ]
          },
          "metadata": {
            "tags": []
          },
          "execution_count": 115
        }
      ]
    },
    {
      "cell_type": "code",
      "metadata": {
        "id": "78-zDsxPuTWr",
        "colab_type": "code",
        "colab": {},
        "outputId": "117f7fca-1205-4d24-f9c8-66fcb4ae17e2"
      },
      "source": [
        "y_pred=clf.predict(X_test)\n",
        "y_pred"
      ],
      "execution_count": null,
      "outputs": [
        {
          "output_type": "execute_result",
          "data": {
            "text/plain": [
              "array([0, 0, 0, 1, 1, 0, 1, 1, 1, 1, 0, 1, 0, 1, 1, 0, 0, 0, 0, 1, 0, 1,\n",
              "       0, 0, 0, 1, 0, 0, 1, 0, 0, 1, 0, 0, 0, 1, 0, 0, 0, 0, 0, 0, 0, 0,\n",
              "       1, 0, 0, 1, 0, 0, 0, 0, 1, 0, 0, 0, 0, 0, 0, 0, 0, 0, 1, 0, 1, 0,\n",
              "       1, 0, 1, 1, 1, 0, 1, 0, 0, 1, 1, 0, 0, 0, 0, 1, 1, 0, 0, 1, 1, 0,\n",
              "       1, 1, 0, 0, 1, 1, 0, 0, 1, 0, 0, 0, 0, 0, 0, 0, 0, 1, 1, 0, 0, 1,\n",
              "       0, 1, 1, 0, 1, 1, 0, 1, 0, 1, 0, 0, 0, 0, 0, 0, 0, 0, 0, 0, 0, 0,\n",
              "       0, 0, 0, 0, 0, 0, 0, 0, 0, 1, 0, 0, 1, 0, 0, 1, 1, 1, 1, 1, 0, 0,\n",
              "       1, 0, 0, 0, 0, 1, 0, 0, 1, 0, 0, 0, 1, 0, 0, 0, 0, 1, 0, 0, 1, 0,\n",
              "       1, 0, 0, 1, 0, 0, 0, 0, 1, 0, 0, 0, 1, 1, 0, 0, 1, 0, 0, 0, 0, 1,\n",
              "       1, 0, 0, 1, 0, 1, 0, 0, 1, 0, 1, 0, 0, 0, 0, 1, 0, 0, 0, 0, 0, 1,\n",
              "       0, 1, 1], dtype=int64)"
            ]
          },
          "metadata": {
            "tags": []
          },
          "execution_count": 116
        }
      ]
    },
    {
      "cell_type": "code",
      "metadata": {
        "id": "3q9b6x7VuTWt",
        "colab_type": "code",
        "colab": {},
        "outputId": "6c4cc31c-f16b-415c-de10-ce3b09ad513b"
      },
      "source": [
        "y_test"
      ],
      "execution_count": null,
      "outputs": [
        {
          "output_type": "execute_result",
          "data": {
            "text/plain": [
              "array([0, 0, 0, 1, 1, 1, 1, 1, 1, 1, 0, 1, 0, 1, 1, 0, 0, 0, 0, 1, 0, 1,\n",
              "       0, 0, 0, 1, 0, 1, 1, 0, 0, 1, 0, 1, 0, 1, 0, 0, 0, 0, 1, 0, 0, 0,\n",
              "       1, 0, 0, 1, 0, 0, 1, 1, 1, 0, 1, 0, 0, 0, 0, 1, 0, 0, 1, 0, 1, 0,\n",
              "       1, 0, 1, 1, 1, 1, 0, 0, 0, 1, 0, 0, 0, 0, 0, 1, 0, 0, 0, 1, 1, 1,\n",
              "       1, 0, 0, 0, 1, 1, 0, 0, 1, 0, 0, 1, 0, 0, 0, 0, 0, 1, 1, 0, 0, 1,\n",
              "       0, 1, 1, 0, 1, 1, 1, 1, 0, 1, 1, 0, 0, 0, 0, 0, 0, 1, 0, 0, 0, 0,\n",
              "       0, 0, 0, 0, 0, 0, 0, 0, 0, 1, 0, 0, 1, 0, 0, 1, 1, 0, 0, 1, 0, 0,\n",
              "       1, 0, 0, 1, 0, 1, 0, 1, 1, 1, 0, 0, 0, 0, 0, 0, 0, 1, 0, 0, 1, 0,\n",
              "       1, 0, 0, 0, 0, 0, 0, 0, 0, 0, 1, 0, 0, 1, 0, 0, 1, 1, 0, 0, 0, 1,\n",
              "       1, 0, 1, 0, 0, 1, 1, 0, 0, 0, 1, 0, 0, 1, 0, 0, 0, 0, 0, 1, 0, 1,\n",
              "       0, 1, 1], dtype=int64)"
            ]
          },
          "metadata": {
            "tags": []
          },
          "execution_count": 117
        }
      ]
    },
    {
      "cell_type": "markdown",
      "metadata": {
        "id": "dN1-oaKAuTWv",
        "colab_type": "text"
      },
      "source": [
        "#### Accuracy Metrics"
      ]
    },
    {
      "cell_type": "code",
      "metadata": {
        "id": "Hj8XVpq-uTWv",
        "colab_type": "code",
        "colab": {}
      },
      "source": [
        "from sklearn import metrics\n",
        "from sklearn.metrics import confusion_matrix"
      ],
      "execution_count": null,
      "outputs": []
    },
    {
      "cell_type": "code",
      "metadata": {
        "id": "jVZJAmfuuTWx",
        "colab_type": "code",
        "colab": {}
      },
      "source": [
        "cm = confusion_matrix(y_test,y_pred)"
      ],
      "execution_count": null,
      "outputs": []
    },
    {
      "cell_type": "code",
      "metadata": {
        "id": "qFYaATkguTW1",
        "colab_type": "code",
        "colab": {},
        "outputId": "4b97c3cb-529c-4f79-f63e-dfff5549758f"
      },
      "source": [
        "cm"
      ],
      "execution_count": null,
      "outputs": [
        {
          "output_type": "execute_result",
          "data": {
            "text/plain": [
              "array([[126,  13],\n",
              "       [ 23,  61]], dtype=int64)"
            ]
          },
          "metadata": {
            "tags": []
          },
          "execution_count": 120
        }
      ]
    },
    {
      "cell_type": "code",
      "metadata": {
        "id": "fsch5d3PuTW3",
        "colab_type": "code",
        "colab": {},
        "outputId": "3c355beb-848e-4dfa-9435-a6831827080d"
      },
      "source": [
        "metrics.accuracy_score(y_test,y_pred)"
      ],
      "execution_count": null,
      "outputs": [
        {
          "output_type": "execute_result",
          "data": {
            "text/plain": [
              "0.8385650224215246"
            ]
          },
          "metadata": {
            "tags": []
          },
          "execution_count": 121
        }
      ]
    },
    {
      "cell_type": "markdown",
      "metadata": {
        "id": "hjKMW69EuTW8",
        "colab_type": "text"
      },
      "source": [
        "### KNN Classification"
      ]
    },
    {
      "cell_type": "code",
      "metadata": {
        "id": "ewFjG_DZuTW-",
        "colab_type": "code",
        "colab": {},
        "outputId": "501c141c-7998-4811-b202-4bfd35efa53a"
      },
      "source": [
        "from sklearn.neighbors import KNeighborsClassifier\n",
        "knn = KNeighborsClassifier()\n",
        "knn.fit(X_train,y_train)"
      ],
      "execution_count": null,
      "outputs": [
        {
          "output_type": "execute_result",
          "data": {
            "text/plain": [
              "KNeighborsClassifier(algorithm='auto', leaf_size=30, metric='minkowski',\n",
              "                     metric_params=None, n_jobs=None, n_neighbors=5, p=2,\n",
              "                     weights='uniform')"
            ]
          },
          "metadata": {
            "tags": []
          },
          "execution_count": 125
        }
      ]
    },
    {
      "cell_type": "code",
      "metadata": {
        "id": "ZltcUky4uTXC",
        "colab_type": "code",
        "colab": {}
      },
      "source": [
        "y_pred = knn.predict(X_test)"
      ],
      "execution_count": null,
      "outputs": []
    },
    {
      "cell_type": "code",
      "metadata": {
        "id": "-UPPvFVHuTXE",
        "colab_type": "code",
        "colab": {},
        "outputId": "0bc497b2-1f5d-4df5-94cf-424185f5ff45"
      },
      "source": [
        "from sklearn.metrics import confusion_matrix, accuracy_score, classification_report\n",
        "confusion_matrix(y_test, y_pred)"
      ],
      "execution_count": null,
      "outputs": [
        {
          "output_type": "execute_result",
          "data": {
            "text/plain": [
              "array([[123,  16],\n",
              "       [ 27,  57]], dtype=int64)"
            ]
          },
          "metadata": {
            "tags": []
          },
          "execution_count": 128
        }
      ]
    },
    {
      "cell_type": "code",
      "metadata": {
        "id": "4dNe5Q1xuTXK",
        "colab_type": "code",
        "colab": {},
        "outputId": "17df20a1-b3c8-4f84-f805-5387ded4b33b"
      },
      "source": [
        "accuracy_score(y_test,y_pred)"
      ],
      "execution_count": null,
      "outputs": [
        {
          "output_type": "execute_result",
          "data": {
            "text/plain": [
              "0.8071748878923767"
            ]
          },
          "metadata": {
            "tags": []
          },
          "execution_count": 129
        }
      ]
    },
    {
      "cell_type": "code",
      "metadata": {
        "id": "u4OlFxTTuTXP",
        "colab_type": "code",
        "colab": {}
      },
      "source": [
        "error=[]\n",
        "accuracy=[]\n",
        "for i in range(1,40,2):\n",
        "    knn=KNeighborsClassifier(n_neighbors=i)\n",
        "    knn.fit(X_train, y_train)\n",
        "    pred_i=knn.predict(X_test)\n",
        "    error.append(np.mean(pred_i != y_test))\n",
        "    accuracy.append(accuracy_score(y_test, pred_i))"
      ],
      "execution_count": null,
      "outputs": []
    },
    {
      "cell_type": "code",
      "metadata": {
        "id": "vn3y0eZRuTXT",
        "colab_type": "code",
        "colab": {},
        "outputId": "4ddd8e42-8779-4ab2-d676-f561a1a85a5c"
      },
      "source": [
        "plt.figure(figsize=(12,6))\n",
        "plt.plot(range(1,40,2),error, color='blue', linestyle = 'dashed', marker = 'o')\n",
        "plt.title('Error rate K value')\n",
        "plt.xlabel('K Value')\n",
        "plt.ylabel('Mean Error')"
      ],
      "execution_count": null,
      "outputs": [
        {
          "output_type": "execute_result",
          "data": {
            "text/plain": [
              "Text(0, 0.5, 'Mean Error')"
            ]
          },
          "metadata": {
            "tags": []
          },
          "execution_count": 141
        },
        {
          "output_type": "display_data",
          "data": {
            "image/png": "[encoded data removed]",
            "text/plain": [
              "<Figure size 864x432 with 1 Axes>"
            ]
          },
          "metadata": {
            "tags": [],
            "needs_background": "light"
          }
        }
      ]
    },
    {
      "cell_type": "code",
      "metadata": {
        "id": "AZys6LqquTXW",
        "colab_type": "code",
        "colab": {},
        "outputId": "25383d98-5a9f-4d8c-dab3-2f93cb3b393b"
      },
      "source": [
        "plt.figure(figsize=(12,6))\n",
        "plt.plot(range(1,40,2), accuracy, color='blue', linestyle='dashed', marker='o')\n",
        "plt.title(\"Accuracy Score k value\")\n",
        "plt.xlabel('K Value')\n",
        "plt.ylabel('Accuracy')"
      ],
      "execution_count": null,
      "outputs": [
        {
          "output_type": "execute_result",
          "data": {
            "text/plain": [
              "Text(0, 0.5, 'Accuracy')"
            ]
          },
          "metadata": {
            "tags": []
          },
          "execution_count": 140
        },
        {
          "output_type": "display_data",
          "data": {
            "image/png": "[encoded data removed]",
            "text/plain": [
              "<Figure size 864x432 with 1 Axes>"
            ]
          },
          "metadata": {
            "tags": [],
            "needs_background": "light"
          }
        }
      ]
    },
    {
      "cell_type": "code",
      "metadata": {
        "id": "OKlgd4q6uTXb",
        "colab_type": "code",
        "colab": {},
        "outputId": "52264c11-48b2-4cbd-9f3c-889bcc7815ff"
      },
      "source": [
        "from sklearn.neighbors import KNeighborsClassifier\n",
        "knn=KNeighborsClassifier(n_neighbors=25)\n",
        "knn.fit(X_train,y_train)"
      ],
      "execution_count": null,
      "outputs": [
        {
          "output_type": "execute_result",
          "data": {
            "text/plain": [
              "KNeighborsClassifier(algorithm='auto', leaf_size=30, metric='minkowski',\n",
              "                     metric_params=None, n_jobs=None, n_neighbors=25, p=2,\n",
              "                     weights='uniform')"
            ]
          },
          "metadata": {
            "tags": []
          },
          "execution_count": 135
        }
      ]
    },
    {
      "cell_type": "code",
      "metadata": {
        "id": "xf1rN9C_uTXe",
        "colab_type": "code",
        "colab": {}
      },
      "source": [
        "y_pred1=knn.predict(X_test)"
      ],
      "execution_count": null,
      "outputs": []
    },
    {
      "cell_type": "code",
      "metadata": {
        "id": "jU-Ot7e5uTXj",
        "colab_type": "code",
        "colab": {},
        "outputId": "4d33920a-0e28-4ad9-ccf4-3d06d01d4752"
      },
      "source": [
        "confusion_matrix(y_test, y_pred1)"
      ],
      "execution_count": null,
      "outputs": [
        {
          "output_type": "execute_result",
          "data": {
            "text/plain": [
              "array([[122,  17],\n",
              "       [ 29,  55]], dtype=int64)"
            ]
          },
          "metadata": {
            "tags": []
          },
          "execution_count": 137
        }
      ]
    },
    {
      "cell_type": "code",
      "metadata": {
        "id": "KmGLY0mbuTXn",
        "colab_type": "code",
        "colab": {},
        "outputId": "feeb5df4-6854-4121-c65a-3e09d8e43fdc"
      },
      "source": [
        "accuracy_score(y_test, y_pred1)"
      ],
      "execution_count": null,
      "outputs": [
        {
          "output_type": "execute_result",
          "data": {
            "text/plain": [
              "0.7937219730941704"
            ]
          },
          "metadata": {
            "tags": []
          },
          "execution_count": 138
        }
      ]
    },
    {
      "cell_type": "code",
      "metadata": {
        "id": "24S3fP70uTXw",
        "colab_type": "code",
        "colab": {}
      },
      "source": [
        ""
      ],
      "execution_count": null,
      "outputs": []
    }
  ]
}